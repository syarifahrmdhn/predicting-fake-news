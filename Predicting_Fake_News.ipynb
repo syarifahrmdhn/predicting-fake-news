{
  "nbformat": 4,
  "nbformat_minor": 0,
  "metadata": {
    "colab": {
      "name": "Predicting Fake News",
      "provenance": [],
      "collapsed_sections": [],
      "include_colab_link": true
    },
    "kernelspec": {
      "name": "python3",
      "display_name": "Python 3"
    }
  },
  "cells": [
    {
      "cell_type": "markdown",
      "metadata": {
        "id": "view-in-github",
        "colab_type": "text"
      },
      "source": [
        "<a href=\"https://colab.research.google.com/github/syarifahrmdhn/predicting-fake-news/blob/main/Predicting_Fake_News.ipynb\" target=\"_parent\"><img src=\"https://colab.research.google.com/assets/colab-badge.svg\" alt=\"Open In Colab\"/></a>"
      ]
    },
    {
      "cell_type": "markdown",
      "metadata": {
        "id": "FUrLukOWPdhO"
      },
      "source": [
        "## INPUT DATA LATIH + DATA UJI + GABUNGIN"
      ]
    },
    {
      "cell_type": "code",
      "metadata": {
        "id": "oibiXlCvuuB4",
        "colab": {
          "resources": {
            "http://localhost:8080/nbextensions/google.colab/files.js": {
              "data": "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",
              "ok": true,
              "headers": [
                [
                  "content-type",
                  "application/javascript"
                ]
              ],
              "status": 200,
              "status_text": ""
            }
          },
          "base_uri": "https://localhost:8080/"
        },
        "outputId": "775bb376-7035-45b5-f34c-f44b81306b62"
      },
      "source": [
        "from google.colab import files\n",
        "uploaded = files.upload()"
      ],
      "execution_count": null,
      "outputs": [
        {
          "output_type": "display_data",
          "data": {
            "text/html": [
              "\n",
              "     <input type=\"file\" id=\"files-b6f6b21d-6f82-4b77-b2bb-04cc4baf0d90\" name=\"files[]\" multiple disabled\n",
              "        style=\"border:none\" />\n",
              "     <output id=\"result-b6f6b21d-6f82-4b77-b2bb-04cc4baf0d90\">\n",
              "      Upload widget is only available when the cell has been executed in the\n",
              "      current browser session. Please rerun this cell to enable.\n",
              "      </output>\n",
              "      <script src=\"/nbextensions/google.colab/files.js\"></script> "
            ],
            "text/plain": [
              "<IPython.core.display.HTML object>"
            ]
          },
          "metadata": {
            "tags": []
          }
        }
      ]
    },
    {
      "cell_type": "code",
      "metadata": {
        "id": "r8LEs032vIND"
      },
      "source": [
        "import numpy as np\n",
        "import matplotlib.pyplot as plt\n",
        "import pandas as pd"
      ],
      "execution_count": null,
      "outputs": []
    },
    {
      "cell_type": "code",
      "metadata": {
        "id": "wSIaKnRTFKdy"
      },
      "source": [
        ""
      ],
      "execution_count": null,
      "outputs": []
    },
    {
      "cell_type": "code",
      "metadata": {
        "id": "Y_iuiclevCdh"
      },
      "source": [
        "import io\n",
        "latih = pd.read_excel(io.BytesIO(uploaded['Data Latih BDC.xlsx']),usecols=['label','judul','narasi'],encoding='ISO-8859-1')\n",
        "# Dataset is now stored in a Pandas Dataframe"
      ],
      "execution_count": null,
      "outputs": []
    },
    {
      "cell_type": "code",
      "metadata": {
        "id": "xryw3ocgsmpi",
        "colab": {
          "base_uri": "https://localhost:8080/",
          "height": 122
        },
        "outputId": "7305d167-7faf-4e84-cda0-7bccee074d8d"
      },
      "source": [
        "!pip install sastrawi"
      ],
      "execution_count": null,
      "outputs": [
        {
          "output_type": "stream",
          "text": [
            "Collecting sastrawi\n",
            "\u001b[?25l  Downloading https://files.pythonhosted.org/packages/6f/4b/bab676953da3103003730b8fcdfadbdd20f333d4add10af949dd5c51e6ed/Sastrawi-1.0.1-py2.py3-none-any.whl (209kB)\n",
            "\r\u001b[K     |█▋                              | 10kB 17.6MB/s eta 0:00:01\r\u001b[K     |███▏                            | 20kB 3.2MB/s eta 0:00:01\r\u001b[K     |████▊                           | 30kB 3.7MB/s eta 0:00:01\r\u001b[K     |██████▎                         | 40kB 4.3MB/s eta 0:00:01\r\u001b[K     |███████▉                        | 51kB 3.7MB/s eta 0:00:01\r\u001b[K     |█████████▍                      | 61kB 4.2MB/s eta 0:00:01\r\u001b[K     |███████████                     | 71kB 4.4MB/s eta 0:00:01\r\u001b[K     |████████████▌                   | 81kB 4.8MB/s eta 0:00:01\r\u001b[K     |██████████████                  | 92kB 5.0MB/s eta 0:00:01\r\u001b[K     |███████████████▋                | 102kB 4.8MB/s eta 0:00:01\r\u001b[K     |█████████████████▏              | 112kB 4.8MB/s eta 0:00:01\r\u001b[K     |██████████████████▊             | 122kB 4.8MB/s eta 0:00:01\r\u001b[K     |████████████████████▎           | 133kB 4.8MB/s eta 0:00:01\r\u001b[K     |█████████████████████▉          | 143kB 4.8MB/s eta 0:00:01\r\u001b[K     |███████████████████████▍        | 153kB 4.8MB/s eta 0:00:01\r\u001b[K     |█████████████████████████       | 163kB 4.8MB/s eta 0:00:01\r\u001b[K     |██████████████████████████▋     | 174kB 4.8MB/s eta 0:00:01\r\u001b[K     |████████████████████████████▏   | 184kB 4.8MB/s eta 0:00:01\r\u001b[K     |█████████████████████████████▊  | 194kB 4.8MB/s eta 0:00:01\r\u001b[K     |███████████████████████████████▎| 204kB 4.8MB/s eta 0:00:01\r\u001b[K     |████████████████████████████████| 215kB 4.8MB/s \n",
            "\u001b[?25hInstalling collected packages: sastrawi\n",
            "Successfully installed sastrawi-1.0.1\n"
          ],
          "name": "stdout"
        }
      ]
    },
    {
      "cell_type": "code",
      "metadata": {
        "id": "PybT8LOKDI5b",
        "colab": {
          "base_uri": "https://localhost:8080/",
          "height": 35
        },
        "outputId": "03999e8c-9bb1-49b2-8d71-edddb32b30d5"
      },
      "source": [
        "gabung = pd.concat([latih,uji],axis=0).reset_index(drop=True)\n",
        "print('Size of gabung data', gabung.shape)"
      ],
      "execution_count": null,
      "outputs": [
        {
          "output_type": "stream",
          "text": [
            "Size of gabung data (4701, 3)\n"
          ],
          "name": "stdout"
        }
      ]
    },
    {
      "cell_type": "code",
      "metadata": {
        "id": "fVGI6Z3WvN2o"
      },
      "source": [
        "latih['text'] = latih['judul'] + \" \" + latih['narasi']\n",
        "latih = latih.drop(columns = ['judul', 'narasi'])\n",
        "# df = df.loc[~df['text'].isna()]"
      ],
      "execution_count": null,
      "outputs": []
    },
    {
      "cell_type": "code",
      "metadata": {
        "id": "rK_YYkzTDcKn",
        "colab": {
          "base_uri": "https://localhost:8080/",
          "height": 204
        },
        "outputId": "5c0845a1-95d6-4a46-844d-c3ee4939688f"
      },
      "source": [
        "latih.head()"
      ],
      "execution_count": null,
      "outputs": [
        {
          "output_type": "execute_result",
          "data": {
            "text/html": [
              "<div>\n",
              "<style scoped>\n",
              "    .dataframe tbody tr th:only-of-type {\n",
              "        vertical-align: middle;\n",
              "    }\n",
              "\n",
              "    .dataframe tbody tr th {\n",
              "        vertical-align: top;\n",
              "    }\n",
              "\n",
              "    .dataframe thead th {\n",
              "        text-align: right;\n",
              "    }\n",
              "</style>\n",
              "<table border=\"1\" class=\"dataframe\">\n",
              "  <thead>\n",
              "    <tr style=\"text-align: right;\">\n",
              "      <th></th>\n",
              "      <th>label</th>\n",
              "      <th>text</th>\n",
              "    </tr>\n",
              "  </thead>\n",
              "  <tbody>\n",
              "    <tr>\n",
              "      <th>0</th>\n",
              "      <td>1</td>\n",
              "      <td>Pemakaian Masker Menyebabkan Penyakit Legionna...</td>\n",
              "    </tr>\n",
              "    <tr>\n",
              "      <th>1</th>\n",
              "      <td>1</td>\n",
              "      <td>Instruksi Gubernur Jateng tentang penilangan  ...</td>\n",
              "    </tr>\n",
              "    <tr>\n",
              "      <th>2</th>\n",
              "      <td>1</td>\n",
              "      <td>Foto Jim Rohn: Jokowi adalah presiden terbaik ...</td>\n",
              "    </tr>\n",
              "    <tr>\n",
              "      <th>3</th>\n",
              "      <td>1</td>\n",
              "      <td>ini bukan politik, tapi kenyataan Pak Jokowi b...</td>\n",
              "    </tr>\n",
              "    <tr>\n",
              "      <th>4</th>\n",
              "      <td>1</td>\n",
              "      <td>Foto Kadrun kalo lihat foto ini panas dingin K...</td>\n",
              "    </tr>\n",
              "  </tbody>\n",
              "</table>\n",
              "</div>"
            ],
            "text/plain": [
              "   label                                               text\n",
              "0      1  Pemakaian Masker Menyebabkan Penyakit Legionna...\n",
              "1      1  Instruksi Gubernur Jateng tentang penilangan  ...\n",
              "2      1  Foto Jim Rohn: Jokowi adalah presiden terbaik ...\n",
              "3      1  ini bukan politik, tapi kenyataan Pak Jokowi b...\n",
              "4      1  Foto Kadrun kalo lihat foto ini panas dingin K..."
            ]
          },
          "metadata": {
            "tags": []
          },
          "execution_count": 6
        }
      ]
    },
    {
      "cell_type": "code",
      "metadata": {
        "id": "hQHYYSwwEwzO",
        "colab": {
          "base_uri": "https://localhost:8080/",
          "height": 411
        },
        "outputId": "d1c4873e-dc74-428e-e7dd-ce0a74833e4a"
      },
      "source": [
        "latih[gabung['label'].isnull()]"
      ],
      "execution_count": null,
      "outputs": [
        {
          "output_type": "execute_result",
          "data": {
            "text/html": [
              "<div>\n",
              "<style scoped>\n",
              "    .dataframe tbody tr th:only-of-type {\n",
              "        vertical-align: middle;\n",
              "    }\n",
              "\n",
              "    .dataframe tbody tr th {\n",
              "        vertical-align: top;\n",
              "    }\n",
              "\n",
              "    .dataframe thead th {\n",
              "        text-align: right;\n",
              "    }\n",
              "</style>\n",
              "<table border=\"1\" class=\"dataframe\">\n",
              "  <thead>\n",
              "    <tr style=\"text-align: right;\">\n",
              "      <th></th>\n",
              "      <th>label</th>\n",
              "      <th>text</th>\n",
              "    </tr>\n",
              "  </thead>\n",
              "  <tbody>\n",
              "    <tr>\n",
              "      <th>4231</th>\n",
              "      <td>NaN</td>\n",
              "      <td>Narasi Tito Karnavian Berideologi Komunis Kare...</td>\n",
              "    </tr>\n",
              "    <tr>\n",
              "      <th>4232</th>\n",
              "      <td>NaN</td>\n",
              "      <td>Anies: Seberat beratnya Pekerjaan Akan terasa ...</td>\n",
              "    </tr>\n",
              "    <tr>\n",
              "      <th>4233</th>\n",
              "      <td>NaN</td>\n",
              "      <td>Hindu di india Melemparkan Patung Buatan Merek...</td>\n",
              "    </tr>\n",
              "    <tr>\n",
              "      <th>4234</th>\n",
              "      <td>NaN</td>\n",
              "      <td>RSCM Praktekkan Penyedotan Plug  Vena/Saluran ...</td>\n",
              "    </tr>\n",
              "    <tr>\n",
              "      <th>4235</th>\n",
              "      <td>NaN</td>\n",
              "      <td>Permohonan Kelonggaran Angsuran ke OJK Untuk s...</td>\n",
              "    </tr>\n",
              "    <tr>\n",
              "      <th>...</th>\n",
              "      <td>...</td>\n",
              "      <td>...</td>\n",
              "    </tr>\n",
              "    <tr>\n",
              "      <th>4696</th>\n",
              "      <td>NaN</td>\n",
              "      <td>Dijemput oleh Tim Medis, Kakak Beradik Usia 8 ...</td>\n",
              "    </tr>\n",
              "    <tr>\n",
              "      <th>4697</th>\n",
              "      <td>NaN</td>\n",
              "      <td>: Pertanda Alam, Kera Putih Mulai Turun Dari G...</td>\n",
              "    </tr>\n",
              "    <tr>\n",
              "      <th>4698</th>\n",
              "      <td>NaN</td>\n",
              "      <td>Pasar Wameo dan Karya Nugraha di Tutup selama ...</td>\n",
              "    </tr>\n",
              "    <tr>\n",
              "      <th>4699</th>\n",
              "      <td>NaN</td>\n",
              "      <td>Klarifikasi KPK Terkait Foto Setya Novanto Tan...</td>\n",
              "    </tr>\n",
              "    <tr>\n",
              "      <th>4700</th>\n",
              "      <td>NaN</td>\n",
              "      <td>Erdogan Tidak Pernah Akui Kemenangan Jokowi Ar...</td>\n",
              "    </tr>\n",
              "  </tbody>\n",
              "</table>\n",
              "<p>470 rows × 2 columns</p>\n",
              "</div>"
            ],
            "text/plain": [
              "      label                                               text\n",
              "4231    NaN  Narasi Tito Karnavian Berideologi Komunis Kare...\n",
              "4232    NaN  Anies: Seberat beratnya Pekerjaan Akan terasa ...\n",
              "4233    NaN  Hindu di india Melemparkan Patung Buatan Merek...\n",
              "4234    NaN  RSCM Praktekkan Penyedotan Plug  Vena/Saluran ...\n",
              "4235    NaN  Permohonan Kelonggaran Angsuran ke OJK Untuk s...\n",
              "...     ...                                                ...\n",
              "4696    NaN  Dijemput oleh Tim Medis, Kakak Beradik Usia 8 ...\n",
              "4697    NaN  : Pertanda Alam, Kera Putih Mulai Turun Dari G...\n",
              "4698    NaN  Pasar Wameo dan Karya Nugraha di Tutup selama ...\n",
              "4699    NaN  Klarifikasi KPK Terkait Foto Setya Novanto Tan...\n",
              "4700    NaN  Erdogan Tidak Pernah Akui Kemenangan Jokowi Ar...\n",
              "\n",
              "[470 rows x 2 columns]"
            ]
          },
          "metadata": {
            "tags": []
          },
          "execution_count": 10
        }
      ]
    },
    {
      "cell_type": "code",
      "metadata": {
        "id": "c4-rKxJuxUZb",
        "colab": {
          "base_uri": "https://localhost:8080/",
          "height": 142
        },
        "outputId": "aa6a788e-32b8-4ad2-97c2-b51c383cdf67"
      },
      "source": [
        "gabung['text'][0]"
      ],
      "execution_count": null,
      "outputs": [
        {
          "output_type": "execute_result",
          "data": {
            "application/vnd.google.colaboratory.intrinsic+json": {
              "type": "string"
            },
            "text/plain": [
              "'Pemakaian Masker Menyebabkan Penyakit Legionnaires A caller to a radio talk show recently shared that his wife was hospitalized n told she had COVID n only a couple of days left to live . A doctor friend suggested she be tested for legionnaires disease because she wore the same mask every day all day long . Turns out it WAS legionnaires disease from the moisture n bacteria in her mask . She was given antibiotics n within two days was better . WHAT IF these ‘spikes’ in COVID are really something else due to ‘mask induced infections’ .??🤔🤔🤔'"
            ]
          },
          "metadata": {
            "tags": []
          },
          "execution_count": 12
        }
      ]
    },
    {
      "cell_type": "code",
      "metadata": {
        "id": "fwbaYTikywqT"
      },
      "source": [
        "latih.iloc[:,0].values"
      ],
      "execution_count": null,
      "outputs": []
    },
    {
      "cell_type": "markdown",
      "metadata": {
        "id": "-hUF8GhRPlQ2"
      },
      "source": [
        "## CLEANING DATA"
      ]
    },
    {
      "cell_type": "code",
      "metadata": {
        "id": "l26IAaJTwfY2",
        "colab": {
          "base_uri": "https://localhost:8080/",
          "height": 68
        },
        "outputId": "f8caf76f-bec5-4eb3-bbff-e54b2402727f"
      },
      "source": [
        "import nltk\n",
        "from nltk.corpus import stopwords\n",
        "nltk.download('stopwords')"
      ],
      "execution_count": null,
      "outputs": [
        {
          "output_type": "stream",
          "text": [
            "[nltk_data] Downloading package stopwords to /root/nltk_data...\n",
            "[nltk_data]   Unzipping corpora/stopwords.zip.\n"
          ],
          "name": "stdout"
        },
        {
          "output_type": "execute_result",
          "data": {
            "text/plain": [
              "True"
            ]
          },
          "metadata": {
            "tags": []
          },
          "execution_count": 7
        }
      ]
    },
    {
      "cell_type": "code",
      "metadata": {
        "id": "pXMZ3Tpswnyc"
      },
      "source": [
        "inggris = stopwords.words('english')\n",
        "indo = stopwords.words('indonesian')"
      ],
      "execution_count": null,
      "outputs": []
    },
    {
      "cell_type": "code",
      "metadata": {
        "id": "LMOmRJTCvlL_",
        "colab": {
          "base_uri": "https://localhost:8080/",
          "height": 200
        },
        "outputId": "02a93257-f50f-4618-a4d0-35b544950192"
      },
      "source": [
        "gabung.head()"
      ],
      "execution_count": null,
      "outputs": [
        {
          "output_type": "execute_result",
          "data": {
            "text/html": [
              "<div>\n",
              "<style scoped>\n",
              "    .dataframe tbody tr th:only-of-type {\n",
              "        vertical-align: middle;\n",
              "    }\n",
              "\n",
              "    .dataframe tbody tr th {\n",
              "        vertical-align: top;\n",
              "    }\n",
              "\n",
              "    .dataframe thead th {\n",
              "        text-align: right;\n",
              "    }\n",
              "</style>\n",
              "<table border=\"1\" class=\"dataframe\">\n",
              "  <thead>\n",
              "    <tr style=\"text-align: right;\">\n",
              "      <th></th>\n",
              "      <th>label</th>\n",
              "      <th>text</th>\n",
              "    </tr>\n",
              "  </thead>\n",
              "  <tbody>\n",
              "    <tr>\n",
              "      <th>0</th>\n",
              "      <td>1.0</td>\n",
              "      <td>Pemakaian Masker Menyebabkan Penyakit Legionna...</td>\n",
              "    </tr>\n",
              "    <tr>\n",
              "      <th>1</th>\n",
              "      <td>1.0</td>\n",
              "      <td>Instruksi Gubernur Jateng tentang penilangan  ...</td>\n",
              "    </tr>\n",
              "    <tr>\n",
              "      <th>2</th>\n",
              "      <td>1.0</td>\n",
              "      <td>Foto Jim Rohn: Jokowi adalah presiden terbaik ...</td>\n",
              "    </tr>\n",
              "    <tr>\n",
              "      <th>3</th>\n",
              "      <td>1.0</td>\n",
              "      <td>ini bukan politik, tapi kenyataan Pak Jokowi b...</td>\n",
              "    </tr>\n",
              "    <tr>\n",
              "      <th>4</th>\n",
              "      <td>1.0</td>\n",
              "      <td>Foto Kadrun kalo lihat foto ini panas dingin K...</td>\n",
              "    </tr>\n",
              "  </tbody>\n",
              "</table>\n",
              "</div>"
            ],
            "text/plain": [
              "   label                                               text\n",
              "0    1.0  Pemakaian Masker Menyebabkan Penyakit Legionna...\n",
              "1    1.0  Instruksi Gubernur Jateng tentang penilangan  ...\n",
              "2    1.0  Foto Jim Rohn: Jokowi adalah presiden terbaik ...\n",
              "3    1.0  ini bukan politik, tapi kenyataan Pak Jokowi b...\n",
              "4    1.0  Foto Kadrun kalo lihat foto ini panas dingin K..."
            ]
          },
          "metadata": {
            "tags": []
          },
          "execution_count": 126
        }
      ]
    },
    {
      "cell_type": "code",
      "metadata": {
        "id": "3aVbZbfCvTHT"
      },
      "source": [
        "import Sastrawi\n",
        "from Sastrawi.Stemmer.StemmerFactory import StemmerFactory\n",
        "factory = StemmerFactory()\n",
        "stemmer = factory.create_stemmer()"
      ],
      "execution_count": null,
      "outputs": []
    },
    {
      "cell_type": "code",
      "metadata": {
        "id": "3cXindcovjS5",
        "colab": {
          "base_uri": "https://localhost:8080/",
          "height": 180
        },
        "outputId": "6fccdb7e-6508-417b-8845-b5832e6fa90d"
      },
      "source": [
        "latih['text'] = gabung['text'].map(lambda x: stemmer.stem(x))\n",
        "gabung.head()"
      ],
      "execution_count": null,
      "outputs": [
        {
          "output_type": "error",
          "ename": "NameError",
          "evalue": "ignored",
          "traceback": [
            "\u001b[0;31m---------------------------------------------------------------------------\u001b[0m",
            "\u001b[0;31mNameError\u001b[0m                                 Traceback (most recent call last)",
            "\u001b[0;32m<ipython-input-10-08c7f24b1093>\u001b[0m in \u001b[0;36m<module>\u001b[0;34m()\u001b[0m\n\u001b[0;32m----> 1\u001b[0;31m \u001b[0mlatih\u001b[0m\u001b[0;34m[\u001b[0m\u001b[0;34m'text'\u001b[0m\u001b[0;34m]\u001b[0m \u001b[0;34m=\u001b[0m \u001b[0mgabung\u001b[0m\u001b[0;34m[\u001b[0m\u001b[0;34m'text'\u001b[0m\u001b[0;34m]\u001b[0m\u001b[0;34m.\u001b[0m\u001b[0mmap\u001b[0m\u001b[0;34m(\u001b[0m\u001b[0;32mlambda\u001b[0m \u001b[0mx\u001b[0m\u001b[0;34m:\u001b[0m \u001b[0mstemmer\u001b[0m\u001b[0;34m.\u001b[0m\u001b[0mstem\u001b[0m\u001b[0;34m(\u001b[0m\u001b[0mx\u001b[0m\u001b[0;34m)\u001b[0m\u001b[0;34m)\u001b[0m\u001b[0;34m\u001b[0m\u001b[0;34m\u001b[0m\u001b[0m\n\u001b[0m\u001b[1;32m      2\u001b[0m \u001b[0mgabung\u001b[0m\u001b[0;34m.\u001b[0m\u001b[0mhead\u001b[0m\u001b[0;34m(\u001b[0m\u001b[0;34m)\u001b[0m\u001b[0;34m\u001b[0m\u001b[0;34m\u001b[0m\u001b[0m\n",
            "\u001b[0;31mNameError\u001b[0m: name 'gabung' is not defined"
          ]
        }
      ]
    },
    {
      "cell_type": "code",
      "metadata": {
        "id": "z1zF1fhSvb7c"
      },
      "source": [
        "import re\n",
        "import nltk\n",
        "nltk.download('stopwords')\n",
        "from nltk.corpus import stopwords\n",
        "from nltk.stem.porter import PorterStemmer\n",
        "corpus = []\n",
        "for i in range(0, len(latih)):\n",
        "    datalatih = re.sub('[^a-zA-Z]', ' ', latih['text'][i])\n",
        "    datalatih = datalatih.lower()\n",
        "    datalatih = datalatih.split()\n",
        "    ps = PorterStemmer()\n",
        "    datalatih = [ps.stem(word) for word in datalatih if not word in inggris]\n",
        "    datalatih = [ps.stem(word) for word in datalatih if not word in indo]\n",
        "    datalatih = ' '.join(datalatih)\n",
        "    corpus.append(datalatih)"
      ],
      "execution_count": null,
      "outputs": []
    },
    {
      "cell_type": "code",
      "metadata": {
        "id": "KRhHAGNMsExh",
        "colab": {
          "base_uri": "https://localhost:8080/",
          "height": 1000
        },
        "outputId": "8e2973bb-d696-4185-9260-7a7cb0e37290"
      },
      "source": [
        "corpus"
      ],
      "execution_count": null,
      "outputs": [
        {
          "output_type": "execute_result",
          "data": {
            "text/plain": [
              "['pemakaian masker menyebabkan penyakit legionnair caller radio talk show recent share wife hospit n told covid n coupl day left live doctor friend suggest test legionnair disea wore mask everi day day long turn legionnair disea moistur n bacteria mask given antibiot n within two day better spike covid realli someth el due mask induc infect',\n",
              " 'instruksi gubernur jateng penilangan yg bermask muka rp e tilang via app pikobar yth anggota grup sesuai instruksi gubernur jawa hasil rapat tim gugu tuga covid jateng sbb',\n",
              " 'foto jim rohn jokowi presiden terbaik dlm sejarah bangsa indonesia jokowi presiden terbaik dlm sejarah bangsa indonesia jim rohn motiv terbaik dunia',\n",
              " 'politik kenyataan jokowi berhasil memulangkan triliun uang negara swiss maaf ma mbak politik kenyataan jokowi berhasil memulangkan triliun uang negara swiss ribu triliun bawa indonesia ruu treati mutual legal assist crimin matter republ indonesia swiss confed mla ri swiss resmi disahkan dpr ri tanggal juli prose konstitusi menarik dana swiss selesai perjuangan menghadapi ex koruptor bersenggama agama terimakasih kadrun teru nyinyirian uang triliun indonesia nyinyir sulit ruu disahkan dpr pemilik reken gendut gigit jari tekanan jokowi kencang baca beritanya',\n",
              " 'foto kadrun kalo lihat foto pana dingin kadrun kalo lihat foto pana dingin',\n",
              " 'event promo smartphon jne spesial juni selamat siang teman teman fb ku cuman informasi rezeki gak kemana ya kemarin mengikuti event promo smartphon jne spesial juni mesan smartphon vivo v pro cuman seharga rp gak nyangka seharga rp hp vivo v pro teman teman fb ku yg penasaran ikutan inbox aja wa adminnya',\n",
              " 'menguasai negri lihatlah menguasai negri',\n",
              " 'foto presiden italia menangi lahan mengubur korban corona italia fasilita perawatan kesehatan tercanggih gagal mengendalikan corona dianggap lelucon presiden menangi lahan mengubur korban corona',\n",
              " 'kapolr timor utara nusa tenggara timur klarifikasi terkait video polisi diamkan korban kecelakaan polisi goblok bukanya cpet tolongin liati aja',\n",
              " 'video polisi china menganiaya wanita uighur lehernya cekik pake kaki polisi china menganiaya wanita uighur lehernya cekik pake kaki melek tu yg bilang penganiayaan ham diam seribu bahasa polisi liat giliran orang biadab',\n",
              " 'jokowi bersedia mengundurkan jokowi bersedia mengundurkan gue haru nih',\n",
              " 'info jalur rawan begal himbauan malam kapolr cianjur begal merambat wilayah cianjur wilayah rewan begal harapkan waspada penuh malam jalur gekbrong arah sukabmi cibeb arah campaka samp cilaku',\n",
              " 'dirut pt agung podomoro land cosma batubara meningg dunia berduka cita ata meninggalnya pejuang angkatan cosma batubara sabtu juli wib semoga maha kuasa mengampuni dosanya layak disisi nya aamiin',\n",
              " 'sbi telepon moeldoko suruh jokowi akui kekalahan bantu sebar ya sbi telpon moeldoko suruh jkw akui kekalahan info jender gak gusar panik ya pejuang pejuang info valid',\n",
              " 'foto anak rohingya disiksa komuni relakah anak cucu dibikin anak rohingya komuni berkuasa',\n",
              " 'orang cina ktp cilacap ata nama karsono kejadian pln pltu cilacap bunton adipala orang cina berbahasa indonesia bahasa jawa banyumasan tp ktp cilacap ata nama karsono payah kie camat bupatin bener',\n",
              " 'fadli zon warga indonesia pilih prabowo pilpr usir indonesia fadlizon warga indonesia yg tdk pilih prabowo pilpr km usir dr indonesia seriu si zonk http co jvjxc jhmp',\n",
              " 'pesan berantai undian berhadiah kementerian tenaga kerja pekerja migran indonesia hongkong informasi resmi depnak republik indonesia selamat terpilih penghargaan nt departemen ketenaga kerjaan indonesia pahlawan devisa negara terbaik kode registrasi twn hubungi call offic n haryono kunjungi alamat websit www depnak yolasit com penerimah pemberitahuan telephon sm whatsapp resmi penghargaan diundi penghargaan depnak beba biaya sertifikat beba pajak pemerintah republik indonesia pengurusan penghargaan pengawasan kepolisian negara republik indonesia dumaksudkan menghindari negatif peringatan hati hati penipuan pengurusan biaya oknum oknum bertanggunh sepengetahuan depnak ri pengirim depnak ri',\n",
              " 'indonesia penuhi pki hahhahhahahhaha indonesia penuhi pki gimanah nih pa kowi',\n",
              " 'sandi sarankan warga ngadu kelurahan astaga sandiaga sarankan warga ngadu kelurahan balai kota',\n",
              " 'demo konflik ojek onlin angkutan bandung prediksi besok bandung kota besok sinyalir kubu demo lg ojek onlin gabungan kumpul tggung kubu angkot gabungan jl bkr grab ojek tabrak sngaja samp mati buah batu grab mati jg tabrak angkot karapitan grab jg gebukin angkot jg ojek onlin yg hilang ga kabar',\n",
              " 'irina istri ahli hermansyah mantan psk irina istri ahli hermansyah mantan psk',\n",
              " 'nezar patria kader pki rapat malam istana jam malam tuduhan alfian tandjung nezar patria kader pki rapat malam istana jam malam tuduhan alfian tandjung',\n",
              " 'hati hati panggilan telpon nomor diken hati hati panggilan telpon nomor diken',\n",
              " 'larangan anti mira minimarket ditiadakan rezim jokowi paska gobel april menteri perdagangan rachmat gobel memberlakukan kebijakan larangan penjualan minuman beralkohol alia minuman kera minimarket indonesia larangan tertuang peraturan menteri perdagangan permendag nomor dag pengendalian pengawasan pengadaan peredaran penjualan minuman beralkohol diubah',\n",
              " 'corona hoak corona hoax',\n",
              " 'kapal kargo pengangkut kadrun tenggelam laut china selatan kapal kargo indonesia tujuan china dilaporkan tenggelam laut china selatan sabtu malam akibat kebocoran lambung kapal kapal mengangkut kadrun tujuan china tujuan objek percobaan vaksin covid dimana harga monyet china mahal harga kadrun kali murah harga monyet penyelidikan otorita tiongkok kecelakaan fatal',\n",
              " 'foto gubernur ani makan sekumpulan orang jawa tulen sekumpulan orang jawa tulen menyantap kulin kha jawa nasi samin kebab buaya panggang minumannya fifi onta segar percakapan memakai bahasa jawa halu alia kromo inggil ana akhi antum afwan hmmm sungguh mengagumkan nb seng wani prote pki opo kow bong',\n",
              " 'mulan jameela undur dpr ri mundur terhormat pecat hayo monggo mengundurkan sanggup becu kerjanya',\n",
              " 'video fkppi bandung berkumpul mona siaga ruu hip syahkan dpr fkppi bandung berkumpul mona siaga ruu hip syahkan dpr revolusi jihad mati syahid hidup mulia bela negara ancaman komun',\n",
              " 'pembantu positif corona penjaringan pembantu orang te positif corona',\n",
              " 'foto sudjiatmi disiksa alam barzakh sudjiatmi disiksa alam barzakh hj sudjiatmi presiden jokowi tersiksa alam kubur sadi brutal kejam ampunan disaat tgl april jenazah h sudjiatmi semayamkan alam kubur beranjak makamnya beliau presiden joko widodo',\n",
              " 'berdamai corona jokowi pemerintah kalah menyerah astaghfirullah kemarin lawan viru corona ayo berdamai dngn viru corona pemerintah kalah mengibarkan bendera putih tanda menyerah',\n",
              " 'penerima stiker pesan whatsapp dikenakan biaya tahukah teman ku group stiker menguntungkan pembuat nya stiker gambar yg saudaraku krmkan wa pembayarannya dibebankan kpd yg menerima rp',\n",
              " 'foto mahfud md mengaku ashraf nikahi bcl mengaku ashraf pria nikahi bcl',\n",
              " 'diculik umur anak kejadian angkot lebak bulu parung ibunda si bayi dihipnoti diculik keponakan yulianah umur anak jeni kelamin perempuan kejadian angkot lebak bulu parung ibunda si bayi dihipnoti angkot diturunkan pondok cabe pelaku penculikan kejadian sabtu feb jam',\n",
              " 'viru corona apartemen taman anggrek dapet info client viru corona udah samp apart ta udah org wuhan yg kena tp manag tutup mall bs beroperasi mrk ga rugi barusan bgt dpt info dr client yg suaminya org cina mrk komunita org cina indo mrk kasih tau utk jauhi apart ta',\n",
              " 'presiden cina xi jinp mengunjungi masjid umat islam berdoa negeri dilanda krisi presiden cina xi jinp mengunjungi masjid umat islam berdoa negara dilanda krisi membutuhkan bantuan',\n",
              " 'pesan berantai biaya tilang biaya tilang terbaru indonesia kapolri mantap stnk rp tdk bawa sim rp tdk pakai helm rp',\n",
              " 'video jokowi pucat sbi pelaku korupsi jokowi puc sbi ungk p p l ku k rup jiwasraya diduga orang jokow heboh',\n",
              " 'jakarta water park perkenalkan jakarta water park',\n",
              " 'pergantian kartu keluarga warga dki jakarta dina dukcapil jakarta mewajibkan warga jakarta mengganti kk tenggat imbauan memutakhirkan data teru didorong pemerintah input data statu pernikahan golongan darah susunan anggota keluarga',\n",
              " 'usu ibunya dimakan bayi bayi bln dlm perut ibunya habi usu ibunya dimakan bayi dokter mengoprasi ibunya mengeluarkan bayi bayi gigit tangan perawat jam si perawat meningg bayi meningg bayi bayi lahir dgn berat kg jam bertambah beratnya kg bayi lahir jumat allah kasi peringatan bayi ni dibunuh dokter memberinya suntik mematikan kali bayi mati kisah india wallahu lam',\n",
              " 'foto awan mengerikan jepang ngeri si semoga tmn yg disana selamat amin yrb prayforjapan',\n",
              " 'narasi presiden korea utara menghukum pejabatnya korupsi presiden korea utara menghukum pejabatnya terlibat kasu korupsi dihadapan awak media cetak elektronik berrjalan bergandengan tangan plung dibawahnya kandang buaya luaaaar biasaaa',\n",
              " 'almarhum habibi formasi ja merah mob umm formasi merah putih kh ahmad dahlan logo umm student today leader tomorrow peta indonesia pray lombok',\n",
              " 'petuga tewa tersetrum perbaikan listrik kecamatan pedurungan',\n",
              " 'tv negeri memberitakan prabowo next presiden tv negeri memberitakan prabowo next presiden',\n",
              " 'ketua kpu umroh bareng jokowi aneh menjelang h pemilu koq nya ketua kpu umroh bareng jokowi padah kpu kpln pelanggaran',\n",
              " 'tiket promo kereta api hut bumn jalan kereta yuuuuk hayo jalan tiket ka promo',\n",
              " 'simulasi orang gila bawa tp pemilu simulasi orang gila bawa tp pemilu dunia',\n",
              " 'broadcast whatsapp info test seleksi gtt ptt tabe keluargata yg guru sma info',\n",
              " 'puan maharani buka posko logistik reuni info alumni harap hindari posko mona posko milik puan maharani istiql sebarkan jama ah tau',\n",
              " 'penerbangan pesawat hercul grati palu keluarga korban gempa tsunami jadwal hercul malam jam subuh besok lanud makassar',\n",
              " 'capt pribadi pengemudi pesawat mengijinkan hj neno warisman capt pribadi pengemudi pesawat mengijinkan hj neno warisman sang dedengkot gerakan makar gantikhilafah sistem pengera suara pesawat',\n",
              " 'coach indra sjafri digaji ikhla kendati suk mengantarkan timna indonesia u juara piala aff u lolo putaran final piala asia u',\n",
              " 'alquran diklaim al quran palsu beredar alqur palsu karang orang kafir',\n",
              " 'yel yel kecebong merencanakan menyusup cfd ane sebarin deh videonya nih liat yel yel kecebong yg merencanakan menyusup cfd menghancurkan hastag gantipresiden cc bangpino netizentofa zarazettirazr roninkhalid ndoro putri restycayah ardi riau allah pembala tipu daya',\n",
              " 'kronolog polisi berondong sedan terobo razia lubuklinggau innalillah lalai terobo razia mobil berisi keluarga ditembaki polisi orang tewa',\n",
              " 'kemristekdikti undang dosen ase profesor kela dunia dosen ase profesor kela dunia orang indonesia mengikuti program mengajar universita negeri koneksi peraih nobel direktur jender sumber daya iptek dikti kemristekdikti ali ghufron mukti jakarta selasa',\n",
              " 'kecam pernyataan said aqil neno warisman terima kecam pernyataan said aqil neno warisman terima pernyataan kontroversi ketua pbnu said aqil siradj nonton film porno dengarkan ceramah radik istighfar kecaman pegiat pendidikan anak neno warisman menuliskan kemarahannya tulisan',\n",
              " 'memerangi allah kung fu padah nama hasil translat otomati googl game aslinya berjudul galaxi fight god kung fu',\n",
              " 'permen susu mengandung narkoba assalamu alaikum informasi teman dokter anaknya bidan banyuma makan permen susu tru gk makan ngefli disarankan temen dokter purbalingga membawa permen tsb bnn hasilnya positif mengandung narkoba jeni benzodiazepin',\n",
              " 'konser ani sandi menang telak konser gue menang telak',\n",
              " 'poster aksi damai bela islam mencantumkan nama foto gatot nurmantyo beredarnya poster aksi damai bela islam viral media sosial poster nama foto panglima tni jender gatot nurmantyo',\n",
              " 'surat c syarat hak pilih pilkada dki jakarta pengumuman pent pilkada dki pemilih wajib ambil surat c feb dgn penguru rt samp feb surat c diambil langsung pemilik rt kembalikan kpu warga dki yg milik c memilih jam bawa e ktp suket kk asli pk suara hangu tlg sebarkan thank',\n",
              " 'pernyataan danjen kopassu dukung fpi tni wara kecuali wereng coklat gitu yah sih sejarah buruk haru terulang serem bgt danjen kopassu fpi orma terbesar suka membantu memberanta kemahsiatan haru dibubarkan orma preman suka membekingi kemahsiatan suka bikin resah masyarakat',\n",
              " 'gambar salib barang bantuan bencana hati hati haru teliti menerima bentuk bantuan korban gempa gambar salib handuk bantuan yg edarkan',\n",
              " 'aksi penghargaan rekor dunia tersebar gambar piagam aksi penghargaan rekor dunia',\n",
              " 'foto petinggi kepolisian mengizinkan demo neo pki demo neo pki udah ijin buntelan kentut maaf ralat petinggi kepolisian tinggal tunggu gender perang ditabuh aja',\n",
              " 'tulisan teriakan pancasila mu dr abdul muti med teriakan pancasila mu dr abdul mu ti med sekum pp muhamadyah',\n",
              " 'petuga rapid test jarang mengganti sarung tangan tularkan covid pasien panjenengan terjebak oprasi rapid te dadakan ujug ujug petuga mengharuskan mengikuti rapid te diperhatikan sarung tangan petug sarung tangan dipakai dipakai ganti ganti dimana petuga pegang orang oasien rapid te ganti sarung tangan petuga memegang panjenengan letak rawannya penularan viru nya ngga tau petuga ngga tau orang dipegang orang positif reaktif negatif penularan ditempat rapid te massal',\n",
              " 'video dokter bule nih dokter bule ngomong ngasih data lengkap detail intinya covid aja nggak mematikan sembuh meningg penyakit dimasukkan daftar covid kirain sinih aja lockdown psbb menimbulkan dampak buruk diband covid',\n",
              " 'vietnam korban meningg covid teh lemon kabar gembira istimewa vietnam korban covid yng mati berita super obat viru covid tercapai informasi negara vietnam viru covid menyebabkan kematian resepnya sederhana ampuh teh lemon minumlah teh pana campur perasan lemon membunuh viru covid sepenuhnya menghilangkan viru covid tubuh bahan sistem kekebalan tubuh bersifat basa malam sistem tubuh asam kemampuan detensif berkurang orang vietnam santai menyebarnya viru covid vietnam orang minum segela air pana lemon malam terbukti membunuh viru covid total bagikan resep sakti memburu pahala resep sederhana efektif terinfeksi viru covid ata izin tuhan yme selamat mencoba',\n",
              " 'ratusan warga china menetap indonesia singapura viru corona ratusan warga china menetap indonesia pagi meninggalkan indonesia singapura situasi viru corona menyerang indonesia situasi indonesia normal',\n",
              " 'orang terinfeksi viru corona parepar orang terinfeksi viru corona parepar waspada ki main main',\n",
              " 'simpson memprediksi corona viru china meremehkan simpson simpson corona viru china',\n",
              " 'membakar al quran jari tangan pria menghitam membusuk mengeluarkan bau menjijikan azab pedih menimpa warga negara amerika merobek robek membakar al qur terkena penyakit misteri jari tangannya melepuh membusuk menghitam lukanya menimbulkan aroma sedap',\n",
              " 'marak lowongan kerja mengatasnamakan perusahaannya pt inalum masyarakat waspada manaj huma pt inalum bambang heru prayoga informasi sebutkan hoak penipuan harap masyarakat terkena penipuan rekrutmen ata nama inalum',\n",
              " 'cepat cek jantung air es batu kesehatan jantung te sederhana mendeteksi sehat jantung menjaga jantung berfungsi pent kehidupan sehat jangka',\n",
              " 'presiden jokowi melecehkan bendera merah putih coba dilhat melecehkan bendara indonesia tahan polda metro pegang bendara merah putih tangan mohon kekuatan hukum advokat pengacara tolong didampingin anak stm kasihan membelanya',\n",
              " 'suntingan video merri riana indonesia bubar viral indonesia bubar video merri riana asli tonton habi',\n",
              " 'berbau jawa jayapura hancur video jayapura bandara dikaw marinir dievakuasi yg berbau jawa hancur',\n",
              " 'bahaya dage kurban dibungku kresek hitam yusuf ridwan kantong plastik kresek berwarna hitam mengandung zat karsinogen zat pewarna tercampur dage akibat kontaminasi zat menyebabkan kanker yusuf ridwan kantong plastik kresek berwarna hitam mengandung zat karsinogen zat pewarna tercampur dage akibat kontaminasi zat menyebabkan kanker',\n",
              " 'hendropriyono meningg singapura innalilahiwainalrajiun mati pembantai rakyat hendroprayono singapor jgn ucapi meningg karna pembantai manusia',\n",
              " 'penjelasan terkait video truk kontain bergambar jokowi maruf amin truk semi kontain paslon membawa',\n",
              " 'bahaya semut kutu jepang utk diabet info bahaya semut kutu jepang utk diabet sahabat sy magelang pengidap diabet kmd konsumsi semut kutu jepang yg mengobati diabet semut mengeluarkan insulin mengkonsumsi semut kutu jepang ususnya terkena bakteri rusak haru dipotong ususnya',\n",
              " 'cnn indonesia berita berjudul sertifikat ganda kerja rezim jokowi cnn indonesia sertifikat ganda kerja rezim jokowi novemb',\n",
              " 'paham politik gak sih aduh kelemahannya jokowi gak mudeng bikin kampret bodoh paham politik gak sih',\n",
              " 'judul berita prabowo mengaji dibutuhkan memimpin negara ah pokoknya prabowo laaah amin rai nyinyir yaaaa keh keh keh',\n",
              " 'universita muhammadiyah kupang bantah menginisasi gerakan gantipresiden terkait salah dosennya insiat gerakan gantipresiden kabupaten manggarai barat nusa tenggara timur ntt universita muhammadiyah kupang umk membantah kampusnya terlibat gerakan',\n",
              " 'pk gerindra purwakarta bantah pasang spanduk dinilai provokatif caleg partai gerindra pk menolak khilafah indonesia damai menolak khilafah wilayah purwakarta barisan muda muslim purwakarta',\n",
              " 'kalimantan barat memana menang songong kalah ngamuk',\n",
              " 'tersangka ujaran kebencian dosen usu himma dewiyana dibebaskan terima kasih bang romo syafi ketua kahmi membantu membebaskan himma',\n",
              " 'dedi mulyadi menghamili siswi mt bupati purwakarta calon wakil gubernur jawa barat dedi mulyadi membantah informasi menghamili siswi mt dedi saksi nikah anak tokoh masyarakat sumedang hamil menghamilinya',\n",
              " 'tuduh curi medali milik bambang pamungka muhammad yusuf buka suara mantan ketua jakmania larico ranggamon ramai medali bepe hilang yusuf medali palsu tantenya pssi beda medali tim persija',\n",
              " 'malam jam pagi mengelilingi kabah malam jam pagi mengelilingi ka bah langit berwarna biru muda sa penerima doa taubat munajat ribu malam berdo diterima tawaaf ka bah tolong orang rabbi minkulli zambi wa atubu illiahi mengirim doa temanmu allah menyelesaikan masalahmu tolong kirimkan orang semoga bermanfaat aamiin',\n",
              " 'pendaftaran peserta uji nyali dunia tran pabrik mercon pendaftaran peserta acara uji nyali dunia televisi tran spookier pengen ikutan uji nyali langsung kirim data email data diisi nama umur alamat pekerjaan motivasi uji nyali telp',\n",
              " 'kartu sim xl indosat smarfren telkomsel disadap badan intelijen kemenkominfo badan regulasi telekomunikasi indonesia brti menerima laporan investigasi oper selul terkait dugaan penyadapan kartu sim buatan gemalto hutchinson xl axiata indosat telkomsel badan intelijen nation secur agenc nsa govern commun headquart gchq',\n",
              " 'rombongan ani sandi ditilang miliki izin patwal puncak bogor rombongan ani sandi ditilang miliki izin patwal puncak bogor',\n",
              " 'foto john kei disunt bismillah team mualaf center darussalam diwakili harsha agousta brahma sadewa jender lisz dewi purnamawati berangkat lp batu nusakambangan cilacap niat john kei masuk islam memutuskan masuk islam john kei alia john refra pemuda tutrean pulau kei juluki godfath jakarta',\n",
              " 'pengoperasionalan kereta bandara teman kunjungan jakarta agustu transportasi kereta api bandara soekarno hatta',\n",
              " 'tusuk gigi sebarkan hiv aid tusuk gigi sebarkan hiv aid',\n",
              " 'pelaku bom kampung melayu anggota polisi pelaku bom kampung melayu anggota polisi',\n",
              " 'pembubabaran pengajian ustad khalid basalamah banser nu pembubabaran pengajian ustad khalid basalamah banser nu',\n",
              " 'foto helikopt tank dunia buatan turki pakistan foto helikopt tank dunia buatan turki pakistan',\n",
              " 'es krim merek aic bosnya orang cina bahannya kimia siang sy mampir distributor es krim merk aic yg marak penetrasi bisnisnya yg terletak selatan tugu lilin makam haji spanduk bertulisan china iseng sy penjaga counter yg didepan pinggir jln bo nya orang mba jakarta solo orang china lho tau org china sdh ketemu tri nunjuk disebuah mobil avanza putih bosnya dlm mobil ngomongnya aja pake bh china asli china penasaran sy tunggu si bo mobil chino',\n",
              " 'video anak muslim disiksa budha myanmar video anak muslim disiksa budha myanmar',\n",
              " 'foto kerusuhan demo anti trump amerika serikat foto kerusuhan demo anti trump amerika serikat',\n",
              " 'bentrok orma gerakan jaga indonesia fpi lpi hti kota bandung juli aksi demo tujuan gedung dpr mpr lakukan orang simpatisan pdi p komandoi boedi djarot dkk menginjak injak merobek membakar poster habib rizieq syihab berbuntut kota bandung bentrok orma gerakan jaga indonesia gji pdi p orma orma islam fpi hti lpi pembela penjaga pancasila nkri ulama akibatnya orang anggota ormasa gerakan jaga indonesia pdi p mati kena sabetan pedang lasykar fpi hti orang mengalami luka sabetan bahu bentrokan melua kebakaran pertokoan berdekatan marka pdi p lemparan bom molotov aparat polisi berani tkp',\n",
              " 'video kecelakaan maut air terjun uluk til belu ntt kecelakaan maut air terjun uluk til belu ntt',\n",
              " 'aliran komuni gerakan pki bangkit pdip prijanto istilah petuga partai ketua pdip megawati soekarnoputri jokowi dinilai modu komun istilah petuga partai pekerja partai tokoh pki dn aidit',\n",
              " 'gubernur jakarta ani baswedan penghargaan terbaik dunia penanganan covid gubernur jakarta ani baswedan penghargaan terbaik dunia penanganan covid',\n",
              " 'masyarakat new zealand belajar wudhu kabar terbaru new zealand subhanallah masyarakat new zealand pd belajar wudhu kumpul lapangan belajar mendalami islam allah allahu akbar sungguh allah maha pembolak hati manusia',\n",
              " 'polisi india indonesia kabar terkini polisi india indonesia menertibkan masyarakat yg tdk tinggal rumah siapkan pantat minyak gosok',\n",
              " 'pasukan tentara membantu melawan viru corona new york militari vehicl arriv manhattan new york wuhan coronaviru',\n",
              " 'video keluyuran diluar rumah malaysia ditembak api pakai drone keluyuran diluar rumah malaysia ditembak api pakai drone',\n",
              " 'antisipasi corona bumn dki ditutup antisipasi corona bumn dki ditutup',\n",
              " 'jokowi halal dilengserkan manusia yg gk nilai dn kuwalita gk panta mnjdi apapun negeri',\n",
              " 'sandiwara dagelan koplax perskusi viralkan laporkan maaf memaafkan sandiwara dagelan koplax perskusi viralkan laporkan maaf memaafkan sakit jiwa kali ya',\n",
              " 'beredar surat rekrutmen satpol pp kepala satpol pp damkar sintang angkat bicara kepala satpol pp damkar martin nandung gak jela sumber penanggungjawab ndak cap tanda tangan',\n",
              " 'ketua kpu imbau masyarakat hormati hasil pemilu kecurangan ketua kpu imbau masyarakat hormati hasil pemilu kecurangan',\n",
              " 'universita brawijaya umm bantah liburkan perkuliahan aksi mahasiswa hoak mbak kegiatan belajar normal kegiatan kampu normal',\n",
              " 'luthfi abdul hadi maaf kiai said aqil siroj gu ipul wakil gubernur jatim turun tangan menyelesaikan fitnah yg tuduhkan ketum pbnu prof dr kh said aqil siroj semoga tukang fitnah kejang',\n",
              " 'asosiasi guru bahasa sastra indonesia kecam ani baswedan asosiasi guru bahasa sastra indonesia kecam ani baswedan lihai tata bodohi warga jakarta',\n",
              " 'khoirul anwar penemu g lte khoirul anwar dianggap gila ditertawakan dicemooh idenya dianggap muskil masuk akal ilmuwan berkumpul hokkaido jepang menganggap pemikiran dipresentasikan berguna',\n",
              " 'syukuran jokowi p syukuran jokowi p tnp kamera bawa bekal kompak salam jokowi',\n",
              " 'video polisi tembak saksi rekap pleno kpu polisi menembak saksi trima rekap pleno kpu',\n",
              " 'penjelasan kpu gowa terkait baliho surat suara mencantumkan foto capr cawapr prabowo sandi pemasangan baliho contoh surat suara pilpr kpu kec bontonompo kab gowa foto capr cawapr kpu gowa mencederai demokrasi',\n",
              " 'masukan persatuan tunanetra indonesia terkait brail surat suara jakarta salah info pertuni masukan aja pertuni persatuan tunanetra indonesia yg jkt ngecek surat suara yg brail kpu salah',\n",
              " 'kementan bantah siluet wajah dibungku plastik bertuliskan bera segar toko tani indonesia presiden jokowi gambar foto tertera kemasan bera toko tani indonesia foto presiden ri jokowi foto model staf kementan biro pengadaan kementan ma agu faizal kepala biro huma informasi publik kementan kuntoro boga andri selasa',\n",
              " 'dink aceh membantah ata isu pelajar lumpuh vaksin mr berhubungan imunisasi penyakit efek vaksin mr',\n",
              " 'hasil scan port bolong kpu server bawa itb moratel gimana pemilu',\n",
              " 'rekrutmen pt pindad sehubungan rekrutmen calon karyawan pt pindad wilayah kerja meliputi region sulawesi',\n",
              " 'maradona bantah kabar meningg laga argentina vs nigeria piala dunia maradona bantah kabar meningg laga argentina vs nigeria piala dunia',\n",
              " 'mark zuckerberg ceo facebook menemukan bff test fb tmn mark zuckerberg ceo facebook menemukan bff akun aman facebook ketik bff komentar hijau akun dilindungi muncul warna hijau ubah sandi direta copi',\n",
              " 'penjelasan terkait berita muslim cyber armi sesuai standar berdasarkan peninjauan intern redaksi ditemukan fakta editor terburu buru mengunggah artikel mengabaikan standar ditentukan terkait cover bothsid selektif mencari narasumb menjadikan akun anonim rujukan utama',\n",
              " 'teror kiai ponp kediri hoax cerita teror kiai ponp kediri hoax cerita',\n",
              " 'penganiayaan ulama bogor utk kesekian kalinya penganiayaan thdp ulama jabar hr ulama bogor ust sulaiman dibacok orang gila bogor umat islam rapatkan barisan alway waspada waspada saveulama hasbunallahwanimalwakiiil',\n",
              " 'bahaya makan rambutan minum teh mani sebabkan penyumbatan saluran pernapasan bahaya makan rambutan minum teh mani sebabkan penyumbatan saluran pernapasan',\n",
              " 'jalan slamet riyadi kota solo tergenang banjir wali kota solo fx hadi rudyatmo geram informasi hoax terkait banjir jalan slamet riyadi solo',\n",
              " 'mahalnya biaya sekolah pelayaran sekolah pelayaran udah bayarnya mahal dididik milit sakit hati sakit badan',\n",
              " 'video peserta aksi merusak toko sisa video pendemo menjarah warung jakarta novemb semalam share biar kelakuannya',\n",
              " 'saham taxi express dimiliki sandiaga uno kepemilikan saham taxi express pengusaha cagub sandiaga uno',\n",
              " 'mesin mobil sere mati ata rel kereta api mesin mobil sere mati ata perlintasan rel kereta api org awam terkadang sbbkan krn perlintasan tsb angker sajen kemenyan demit dll',\n",
              " 'indonesia gagal wujudkan swasembada pangan pemerintah rencana impor bera juta ton indonesia gagal swasembada',\n",
              " 'media menyiarkan demo ruu hip kah percaya tv satupunmedia tv menyiarkan demo tolak uu hip orang desa jangkauan percaya tv padah tv boke rezim berkuasa ayo rakyat bukakan mata pikiran isu covid pengalihan bentuk pembodohan sdm',\n",
              " 'pembakar bendera pdi p anggota simpatisan pdi p bawa bakar lapor pki tukang nyusup licik pengalihan tolak ruu hip pki kpd umat kristiani jgn terhasut pki yg suka fitnah adu domba mendukung membela pki dosa pki tdk percaya yesu kristu agama pki antek nya pendukung tempatnya kerak neraka',\n",
              " 'minggu juni baim rili hadiah orang pemenang minggu juni orang pemenang rili hadiah',\n",
              " 'panggilan seleksi rekrutmen pertamina tanggal juni surat bernomor hrd pt pertamina persero vi perih panggilan seleksi rekrutmen karyawan surat lokasi seleksi rekrutmen gedung perwira lantai jl medan merdeka timur jakarta pusat',\n",
              " 'ucapan bela sungkawa presiden dr team medi yg berguguran dimedan covid ucapan bela sungkawa presiden dr team medi yg berguguran dimedan covid',\n",
              " 'video gereja azankan corona ga aktif dengarkan azan gereja azankan mrk krn berdasarkan riset corona ga aktif dengarkan azan alquran mashaallah',\n",
              " 'video america loot everywh fear corona viru america loot everywh fear corona viru',\n",
              " 'pelintiran kontek foto apd hasil ekspor korea bertulisan made indonesia buatan indonesia pabriknya korsel salesnya tiongkok pembelinya indonesia mumet endasku foto du tulisan merek apd tulisan korea dibawahnya tulisan berbahasa inggri du warna apd nomor seri menarik tulisan made indonesia',\n",
              " 'updat statu terkait penutupan destinasi wisata diy komunikasikan kementerian bumn sesuai ajakan presiden jokowi twc berlakukan penutupan pengunjung',\n",
              " 'pasien viru corona dr badau otw dirujuk rumah sakit rujukan sintang selamat sore kwn barusan dpt info dr kwn yg kerja rs sintang pasien viru corona dr badau sdg otw dirujuk rumah sakit rujukan sintang utk waspada klu berkunjung rs anang klupa pakai masker',\n",
              " 'cikarang siaga viru corona orang meningg meikarta ikarang siaga viru corona kabar daerah lippo yg terserang viiru corona orang meningg dunia nyelidiki tkp himbauan warga cikarang wajib memakai masker terkena viru corona pusat viru corona perusahaan meikarta pemerintah blm menindak tega tdi pagi aksi habib sebekasi pemerintah membasmi viru corona bekasi',\n",
              " 'video mata jule akibat main game ular yg lgi trend skrang hati gaeeee akibat main game ular yg lgi trend skrang hati gaeeee',\n",
              " 'judul artikel dilaporkan pdip sukmawati ditahan orang kuat artikel tamparan news dot blogspot dot com menampilkan artikel judul dilaporkan pdip sukmawati ditahan orang kuat artikel dituli merdekaind',\n",
              " 'maskapai penebangan turki melarikan tabrakan direncanakan terori tanker bahan bakar maskapai penebangan turki melarikan tabrakan direncanakan terori tanker bahan bakar keahlian pilot keputusan diambilnya sepersekian detik menyelamatkan penumpang mukjizat terori khilafah haru nkri',\n",
              " 'royalti ribu rupiah wa berikhla hati utk menghilangkan penderitaan anak mohon video diteruskan kpd anak royalti ribu rupiah wa yg kurim terimakasih semoga pahala aamiin yra',\n",
              " 'artikel liputan com rhoma irama salah bilang sentuh mira setet nyabu salah bilang sentuh mira setet nyabu',\n",
              " 'menpora imam nahrawi mundur jabatannya info sebelah',\n",
              " 'klarifikasi kpu terkait pernyataan ustaz haikal hassan juta pemilih gila mohon maaf haikal hassan pemilih gila hoax yg sesuai putusan mk pemilih dg gangguan jiwa ingatan gila salah jenisnya lagipula angkanya hoax juta didiskon juta yg',\n",
              " 'kotak suara dprd jambi dibakar otk berita pagi tv one berhubung unggul jambi kardu kpu dibakar oknum menghilangkan bukti c pahamkan kotak suara kardu',\n",
              " 'metro tv memberitakan penyerang senat australia pengagum jokowi klaim sm metro tv neh kenal kagak ngomong pengagum urat malu nya dah putu besok ganti candi borobudur menara eiffel air terjun niagara klaim si jae bangun',\n",
              " 'sbi suruh coblo nomor jokowi amin sbi gitu sih suruh coblo nomor jokowi amin kasihan punah orangbaikpilihjokowi jokowilagi indonesiamaju',\n",
              " 'foto gajah menolong anak singa belalainya seekor singa melintasi sabana anak nya krn pana terik anaknya nyari tdk berjalan',\n",
              " 'white koffi berbahaya kandungannya mudah terbakar kopi kesukaan ku ni stok kopi ku beli takut minumnya',\n",
              " 'zambian student china beaten death zambian student china kill chine nation date chine woman',\n",
              " 'surat panggilan wawancara calon pegawai bank indonesia beredar media sosial surat edaran mengatasnamakan bank indonesia bi berisi panggilan wawancara calon pegawai bi hoak',\n",
              " 'lapangan mustika ratu bekasi dijadikan acara poster undangan gantipresiden poster beredar media sosial relawan nasion gantipresiden kabupaten bekasi berencana menggelar deklarasi lapangan mustika ratu cibuntu kecamatan cibitung minggu',\n",
              " 'bu mega aja setuju pki bangkit masak subahanallah astagfirullah halazim allah hu akbar x sadi nya berpikir politik pdip negri',\n",
              " 'indo baromet bantah hasil survei pilpr jokowi prabowo tega indo baromet meme hasil survei pilpr hoax alia indo baromet mengklarifikasi data bersumb indo baromet direktur eksekutif indo baromet qodari minggu',\n",
              " 'valid jokowi menjual indonesia jokowi menjual indonesia',\n",
              " 'tulisan gantipresiden struk pembayaran ayam geprek eskom klarifikasi tulisan gantipresiden inisiatif oknum karyawan yg hak mesin kasir dr owner',\n",
              " 'selebaran kupon bazaar bera murah bergambar wajah charl honori kader pdip perjuangan masuk mona tangan stempel logo kristusnya pale menonjol kupon charl honori kader pdip caleg dapil dki hahhaha bilang aja lu mo menipu dasar kodok bangkong',\n",
              " 'lsf mengklarifikasi terkait pemotongan menit durasi film aveng infin war lsf mengklarifikasi terkait pemotongan menit durasi film aveng infin war',\n",
              " 'nangkap polisi kamboja ribut netizen indonesia nangkap polisi kamboja ribut netizen indonesia',\n",
              " 'baliho red armi kota malang simbol kebangkitan pki red armi orang identik komuni identik satuan uni soviet vietnam china',\n",
              " 'pelatihan masjid cyber armi masjid baitul ihsan bank indonesia hadirilah pelatihan masjid cyber armi diadakan sabtu desemb jam masjid baitul ihsan bank indonesia jakarta pusat',\n",
              " 'pernyataan gubernur papua bela ahok gubernur papu luka enemb non muslim gubernur dki presiden indonesia biarkan papua melanesia merdeka',\n",
              " 'absen acara anak nasion jokowi pilih hadiri silatna relawan ketidakhadiran presiden joko widodo jokowi puncak peringatan anak nasion han mataram ntb sabtu menimbulkan kekecewaan anak anak provinsi',\n",
              " 'video berita terbaru sri mulyani sanggup serahkan tugasnya rizal ramli berita terbaru sri mulyani sanggup serahkan tugasnya rizal ramli',\n",
              " 'pesan berantai peringatan orang pintu pintu membagikan masker orang pintu pintu membagikan masker pembagian masker pemerintah mengenakan masker difoto masker cocok laporan klo masker alamat masker yg biu merampok tolong ambil masker orang ase teman teman kriti orang orang putu asa tingkat kejahatan meningkat period covid harap berhati hati informasi berguna bermanfaat mohon maaf salah waspada waspada yg mengenalnya',\n",
              " 'rsud jakarta depok ditutup karyawan positif covid assalamualaikum wr wb temen spesiali info rumah sakit terpaksa ditutup karyawan positif',\n",
              " 'wna diangkat direksi bumn info bumn warga negara australia bernama antoniu reiner haryanto diangkat direktur transformasi bisni hold rumah sakit bumn pertamedika kalinya warga negara ase direksi bumn indonesia mohon bantu sebarkan info tolakwnajadidireksibumn',\n",
              " 'sakitnya diagnosa nya covid kebusukan rs bokap gw sakitnya diagnosa nya covid intinya yg meningg rs langsung voni covid angka kematian covid yg meningkat covid melaikan data rs',\n",
              " 'miscapt wolfpack photo lesson wolfpack leadership wolv front old sick walk front set pace run group lest get left behind next wolv strongest best task protect front side attack pack middl alway protect attack behind also among strongest best task protect back side attack last one leader ensur one left behind keep pack unifi path alway readi run direct protect serv bodyguard entir group',\n",
              " 'jamur barang kadaluwarsa warga diimbau mal temen yg sayangi meng ya mal dlm buka tolong mall ya krn pd mall tutup brg rusak yg berjamur mengerikan',\n",
              " 'vaksin kali kekhalifahan ottoman vaksin kali kekhalifahan ottoman ladi mari montagu istri dube british istanbul menuli surat temannya istanbul vaksinasi mengobati orang cacar istanbul ladi mari menceritakan perempuan anak anak dikumpulkan lengan goresan mengalami demam ringan selanjunya imun surat dokumentasi tertua produksi pemakaian vaksin surat surat tertangg april edward jenner penemu vaksin cacar smallpox penelitian edward menemukan teori tehniknya memproduksi vaksin loui pasteur pembuat vaksin rabi antrax studi produksi vaksinnya kehabisan uang menuli surat sultan abdul hamid ii sultan menyetujui syarat laboratoriumnya dipindah istanbul pasteur menolak syarat tsb sultan dokter ottoman dijadikan asisten penelitian diterima pasteur sultan mengirim bantuan lira ottoman pasteur penghargaan medali order medjidi st class vaksin rabi dibawa istanbul januari vaksin rabi kali diproduksi istanbul',\n",
              " 'profesor dr tasuku honjo viru korona alami cina membuatnya profesor fisiolog kedokteran jepang profesor dr tasuku honjo menciptakan sensasi media viru korona alami alami mempengaruhi dunia sesuai sifatnya suhu berbeda negara alami berdampak buruk negara negara memiliki suhu cina',\n",
              " 'koka ya mall lockdown salah staff diata suspect covid omd indonesia offic tower rd floor unit h jl casablanca raya kav jakarta selatan koka ya mall lockdown salah staff diata suspect covid',\n",
              " 'minuman beralkohol mengurangi risiko infeksi novel coronaviru covid penelitian lua temuan mengonsumsi minuman beralkohol membantu mengurangi risiko infeksi coronaviru covid vodka pale direkomendasikan minum membersihkan membersihkan',\n",
              " 'foto anak durhaka berubah buaya gunung picung kecamatan tenjolaya kabupaten bogor warga bogor dihebohkan kasu anak dikutuk ibunya anak dikutuk batu sang gunung picung kabupaten bogor kebenaran berita berita anak berubah batu berkembang cepat media sosial facebook',\n",
              " 'keren yah mobil sitaan maha lembaga tersuci keren yah mobil sitaan maha lembaga tersuci',\n",
              " 'foto pekerja sutet peristiwa mati listrik jakarta jabar banten sabar ya mrk berusaha benerin',\n",
              " 'oktob prabowo sandi dilantik jkw menang pilpr gak otomati dilantik pasal uud mengharuskan pemenang pilpr haru menang wilayah provinsi suara wilayah provinsi persen',\n",
              " 'penampakan jin mata sipit hakim mk penampakan jin mata sipit hakim mk editan asli lihat video fuadbakh cina taipan intervensi mk',\n",
              " 'ahok gantikan maruf amin ahok gantikan ruf amin',\n",
              " 'tusuk gigi kunyit pendeteksi borax simbol kb jari daerah bantul projotamansari dipaksa tutup terpal setdaah udeh kroni ame jari tuh patung kaga salah ape lo blongsongi pake terpal kaya buah nangka paraah coyi',\n",
              " 'polri kominfo blokir situ skandalsandiaga com komunikasi kemenkominfo memblokir situ ya kabid huma polda metro jaya komb argo yuwono selasa',\n",
              " 'penculikan anak kusan hilir kabupaten tanah bumbu kalimantan selatan ds batuah ds',\n",
              " 'video jokowi duit dipelintir penelusuran jawa po video beredar media sosial',\n",
              " 'konsumsi garam impor china komsumsi garam impor china',\n",
              " 'bahaya ucapan selamat gif whatsapp info pent',\n",
              " 'lowongan kerja garuda indonesia pt garuda indonesia persero tbk mengundang menarik muda enerjik bergabung pramugari udara dapatkan kesenangan berkelil dunia memperkenalkan keramahan indonesia berminat silahkan kirimkan surat cv lamaran via email recruit garuda indonesia asia kisaran gaji rp rp tergantung posisi',\n",
              " 'rakyat vietnam usir ribuan warga cina negeri maukah kalah rakyat vietnam filipina malaysia hongkong china diusir jongo budak manusia manusia terjajah',\n",
              " 'ridwan kamil ditingg pemilih religiu pilgub jabar mendukung lgbt dukung lgbt ridwan kamil ditingg pemilih relegiu pilkada jawa barat',\n",
              " 'emosi dominasi politik emosi dominasi politik',\n",
              " 'bahasa jepang ike dikonotasikan komuni sipit pki lgbt awa orang tua memiliki putra putri remaja beranjak dewasa bekali bentengi putra putri denga ilmu agama putar putri terjerumu jurang kehancuran salah satunya ikeh ikeh colek komuni hmmm matanya sipit',\n",
              " 'ani kalah muslim marah revolusi rekam jejak bagu program nyata isu sara ujung tombak kampani kalah pulak',\n",
              " 'klarifikasi penyebar berita detikcom hoax media onlin media dare',\n",
              " 'fpi bubarkan pengobatan grati dpp pdi perjuangan tambora pasangan calon gubernur wakil gubernur dki basuki djarot menghadapi tindak kekerasan kampani kali sekelompok orang atribut bendera keagamaan topi bertuliskan fpi menghentikan paksa bhakti sosial pengobatan grati massal baguna badan penanggulangan bencana dpp pdi perjuangan kelurahan jembatan besi kecamatan tambora minggu tanggal januari',\n",
              " 'logo bank indonesia pecahan seratu ribu bendera tentara komuni logo bank indonesia pecahan seratu ribu bendera tentara komuni',\n",
              " 'biskuit crispi cracker diklaim mengandung lilin mudah terbakar vidio biskuit crispi cracker mengandung lilin mudah terbakar',\n",
              " 'rokok marlboro berisi ganja produsen rokok phillip morri menjual jeni rokok menggandung ganja marijuana produk dipasarkan jeni marlboro tersedia outlet khusu berlisensi negara colorado wshington dc',\n",
              " 'g antenna mask g antenna insid mask',\n",
              " 'pk menolak bersandiwara pk menolak bersandiwara',\n",
              " 'jerman awan hitam tedengar suara adzan lingkungan tdk masjid jerman awan hitam tedengar suara orang adzan lingkungan tdk masjid orang yg lokasi nonton mengambil gambar awan merekam suara adzan tsb silahkan saksikan',\n",
              " 'film kapten amerika capten steve bangun modern lihat viru corona fi kapten amerika capten steve bangun modern lihat viru corona repost marvel k follow anthonymacki sebastianstan wyattrussel zemo disneyplu thefalconandthewintersoldi thanosdidnothingwrong blackpanth aveng endgam infinitywar chrisevan chrishemsworth captainamerica thor falconandthewintersoldi hawkey infintywar marvelindonesia marvelindo konspirasi',\n",
              " 'jaga jarak mutusin matarantai eh konser rame doi jaga jarak mutusin matarantai eh konser rame doi aduh piy iki piy',\n",
              " 'menag izinkan masjid gelar salat tarawih pandemi covid menteri agama fahrur rozi mengizinkan masjid melaksanakan sholat tarawih buka puasa dll ramadan menjaga kebersihan kewaspadaan',\n",
              " 'pasar pasar tradis tanjung karang teluk betung besok tutup sd utuk saudara yg beli obat vitamin utk persediaan rumah belilah karna stok obat vitamin yg lg dibutuhkan stoknya sdh menipi distributor farmasi obat expedisi byk yg diliburkan pasar tradis tjk karang teluk betung besok yg tutup hr sd hr karna semprot disterilisasi dr pemerintah yg beli sayur belilah',\n",
              " 'area kantor nokia menara mulia dibersihkan karyawan meningg area kantor nokia menara mulia besok dibersihkan karyawan nokia lt meningg senin kemarin masuk rs tgl maret meningg tgl maret kondisi demam muntah suspect typu suspect kasu corona depok lucunya teman teman cubic almarhum demam',\n",
              " 'istana meresmikan pki diperbolehkan indonesia istana meresmikan pki diperbolehkan indonesia',\n",
              " 'razia indomi taiwan siaran berita malam tv taiwan berita indomi indonesia terditeksi mengandung bahan pengawet dipakai kosmetik bahan merusak maag hati diperintah diturunkan rak penjualan toko kota menjual indomi',\n",
              " 'polisi mengamankan mobil berisi bahan peledak pelantikan presiden wakil presiden halo tempodotco lsm ham bilang pengamanan pelantikan presiden lebay aparat mobil polisi palsu berisikan bahan peledak',\n",
              " 'mahasiswa usir penumpang gelap ayo teman teman mahasiswa usir penumpang gelap barisan',\n",
              " 'artikel jokowi china bantu padamkan kebakaran hutan indonesia departemen pemadam kebakaran rrc china membantu saudara dekatnya indonesia memadamkan kebakaran hutan mengurangi kabut asap',\n",
              " 'padah menit riau jakarta padah menit yg meninjau kebakaran hutan lahan riau jakarta hoax',\n",
              " 'posko perlawanan kebangkitan pki glodok posko perlawanan kebangkitan pki daerah glodok',\n",
              " 'ketua kpu husni kamil mayatnya penuh bercak darah cek tangkapan layar',\n",
              " 'jembatan palembang dipenuhi pendukung jokowi sake penuhnya tumpukan pasir masya allah tumpukan pasir palembang jokowi',\n",
              " 'rakyat cina kpu surabaya daftar dpt pemilu beraksi datangi kpu boooooss foto diambil gedung kpu daerah surabaya jawa timur rakyat china kpu daftar dpt pemilu',\n",
              " 'kwik kian gie meningg dunia kwik kian gie',\n",
              " 'jela jela manusia pro pki manusia yg kmrn pasang tagar pancasila prettt jela prabowolah yg lbh pancasilai krn tdk mire kiri komuni tdk jg mire kanan isi wahabi dll cebong dungu yg msh ikutin kegiatannya krn jela jela manusia pro pki',\n",
              " 'bkd provinsi papua janjikan jatah penerimaan cpn staf bkd papua uang menjanjikan jatah penerimaan cpn',\n",
              " 'tni diselundupkan tanah arab save palestina',\n",
              " 'penangkapan tuyul desa karangejo blitar sing rumongso kelangan tuyul ndang reneo inbok wa timbang sikso',\n",
              " 'tentara cina nyamar halim perdanakusuma ditangkap tka tiongkok dlm proyek kereta api cepat bdg jkt',\n",
              " 'penyusup gpib maranatha bandung kapolrestab bandung komb pol hendro pandowo berita terkait salah terduga terori wilayah hukum polrestab bandung berita hoax iya hoax jemaat hendro selasa',\n",
              " 'dilaporkan polisi hate speech pendiri seword com anggap salah alamat artikel menyingkat nama gubernur wakil gubernur terpilih dki jakarta ani baswedan sandiaga uno sebutan asu bahasa jawa anj artikel disertai ilustrasi gambar anj menyalak alif mengaku manajemen seword com menegur penuli konten berita diubah dihapu tulisan diak',\n",
              " 'penerapan sistem ganjil genap tol cikampek rencana membatasi kendaraan berdasarkan pelat nomor ganjil genap tol jakarta cikampek diuji coba selasa uji coba sistem pagi',\n",
              " 'pemerintah asik duduk dikursi diskusi bilang bantu viraklan ya sob rakyat indonesia haru tau yg raku dunia menindaswongcilik sakit hati saudara diperlakukan penguasa raku mreka seblumnya hidup damai sbgai petani lihat kedamaian disana',\n",
              " 'un oic world human right organ becom blind english translat version un oic world human right organ becom blind see muslim go kill myanmar aung san sleep muslim world',\n",
              " 'pelaku pembunuhan pulo ma ridwan sitoru alia iu pane ditangkap medan ridwan alia iu pane dpo perampokan puloma ditangkap medan',\n",
              " 'fenomena equinox bikin suhu derajat celciu indonesia teman yb sekedar menginformasikan fenomena equinox mempengaruhi malaysia singapura indonesia hr disarankan utk tinggal rumah diruang kerja jam',\n",
              " 'foto jokowi mengukur baju karya desain ivan gunawan contoh pemimpin merakyat hati konglomerat ngukur baju gaesss biar merakyat hadiri deklarasi juri dangdut akademi indosiar karya desain terken ivan gunawan',\n",
              " 'instruksi gubernur dki jakarta penilangan bermask pikobar yth anggota grup sesuai instruksi gubernur dki jakarta hasil rapat tim gugu tuga covid dki jakarta sbb',\n",
              " 'pendukung fanatik jokowi meningg berjalan kilomet kpd teman banser cebong cepatlah tobat sblm ajal mendadak',\n",
              " 'break news megawati mengundurkan ketua pdip disaat umat islam gencar menyerang moncong putih megawati mengundurkan ketua pdip ya mbak mega',\n",
              " 'ruslan buton dipecat tni tolak tka china ruslan tangkap tka china maluku utara orang china bawa visa turi perusahaan pertambangan nggak ku kasih tau pt nya tangkap komandan daerah',\n",
              " 'geog floyd tewa ditembak geog floyd pemuda kulit hitam tewa ditembak polisi amerika polisi membantahnya rekaman cctv beredar sontak amerika rusuh plnet mesti ditangkap yg men share video cctv nya ya',\n",
              " 'kadu dihakimi warga babak belur akibat pembagian sembako corona sasaran kepala dusun sembako dihajar massa pili kasi kadu kepala dusun hakimi warga babak belur akibat pembagian sembako corona sasaran',\n",
              " 'wapr konser ramadhan nonton berdonasi pahalanya melebihi berpuasa menari ata luka rakyat mbah amin lockdown rakyat patuh rakyat suruh rumah rakyat nurut suruh ndak mudik rakyatpun nurut suruh ibadah rumah jg nurut lha bertajuk konser tanggal mei merayakan ultah pki yg mbah turunan ndak sudi nonton berdonasi konser ultah pki',\n",
              " 'foto italia gagal sepenuhnya covid perdana menteri italia penjagaan tiada penyakit teru membunuh penyembuhan dunia tamat',\n",
              " 'pesan berantai pt mosi tawarkan rapid test kit covid dear pandem pt mutiara optima sinergi indonesia mosi pt mosi bumn rapid test kit covid uangvakan tersedia minggu kedepan',\n",
              " 'puncak persebaran viru corona april april april april haru menjaga puncak penyebaran viru minggu minggu terinfeksi muncul',\n",
              " 'jakarta daerah pale terinfeksi viru covid salah pilih gubernur jakarta daerah pale terinfeksi viru covid salah pilih gubernur',\n",
              " 'alkohol membunuh coronaviru covid wowww ayooo teru budaya leluhur minuman cap tiku haru ditiadakan mikir peac note selengkapnya info langsung facebook ya terima kasih gambar logo cnn narasi alcohol kill coronaviru',\n",
              " 'foto kabah sepi thawaf viru corona astaghfirullah haladzhim salah tanda kiamat yg thawaf mengelilingi ka bah berpikir sih ka bah sepi thawaf seir kejadian kejadian mengerti memahami kasu viru corona bera wuhan china pemerintah arab saudi menutup pintu masuk bandaranya negara terinfeksi viru corona jamaah malaksanakan ibadah umroh',\n",
              " 'air rebusan bawang putih menyembuhkan viru corona bawang puti yg ambil biji dikupa kulitnya ditaruh mangkok tuang gela air mendidih menit minum langsung gela pasien yg kena viru corona sembuh malam minum air bawang putih',\n",
              " 'pelintiran judul berita dokter wapr maruf amin beristirahat penggantinya yaa drama yg diprediksi',\n",
              " 'penyanyi henni purwonegoro meningg dunia berita duka henni purwonegoro penyanyi thn meningg dunia jam singapor semoga amal nya diterima tuhan maha esa aamiin',\n",
              " 'jembatan darurat dibangun jam jepang jembatan darurat yg dibangun dlm jam akibat jalan tertutup tanah longsor angin topan jepang bbrp jam saudara saudara',\n",
              " 'israel melarang nelayan palestina melaut israel melarang nelayan palestina melaut allah mengirimkan ikan pantai palestina maha allah firman ya',\n",
              " 'maklumat maje rakyat papua mahasiswa papua kota studi melanjutkan studi terkait perkembangan penanganan rasism ditindaklanjuti kepolisian tni rapat koordinasi tingkat provinsi mrp mencabut maklumat agustu nomor mrp sekaligu diserukan mahasiswa papua provinsi papua melanjutkan studi mase mase kota studi mahasiswa papua terlanjut provinsi papua kota studi duta kultur orang asli papua hidup harmoni elemen bangsa indonesia',\n",
              " 'jembatan jalan cemara medan roboh jembatan cemara roboh',\n",
              " 'suport meningg laga tira persikabo vs persija tira persikabo vs tamunya persija jakarta tumbalkan nyawa kompa news laga lanjutan liga tira persikabo melawan tamunya persija jakarta bentrok dikabarkan orang tewa insiden',\n",
              " 'video perobohan rumah lantaran istri ketahuan selingkuh suami viral rumah dihancurkan istri selingkuh ketahuan suami pulang merantau',\n",
              " 'shoot tv one bh cina hoak tau nyata shoot tv one bh cina',\n",
              " 'meninggalnya serda supran sida dikaitkan viru cacar monyet innalilahi wainalillahi rojiun berduka cita serda supran semoga khusnul khatimah terima amal kebaikan nya semoga abang tni yg menjaga perbatasan hindarkan penyakit penyakit cacar monyet krn dpt menular penyakit ni bera negara ase hati bergaul dgn org',\n",
              " 'samsul bahri ketua kpp sydney pro kecurangan pilpr australia ketua kpp sydney samsul bahri australian citizen ngurusin pemilu indonesia',\n",
              " 'jeli memperhatikan jari tangan palsu waspadalah ketua anggota tp hati jeli memperhatikan jari tangan palsu',\n",
              " 'orang jakarta canggih euy orang jakarta canggih euy mainannya drone kapal kapalan',\n",
              " 'foto spanduk optimi jokowi bohong ingkar janji auto ngakak',\n",
              " 'istri indro warkop meningg perokok pasif istrinya meningg mengidap kanker paru almh perokok aktif almh terpapar asap rokok yg memicu sel kanker tumbuh paru nya',\n",
              " 'sahkan undang lgbt pernikahan jeni biar rakyat tau kalo rezim kepemimpinan sahkan undang lgbt pernikahan jeni laki nikah laki wanita nikah wanita musibah teru menghampiri',\n",
              " 'najwa shihab dukung prabowo sandi najwa shihab dukung prabowo sandi alhamdulillah kekuatan kuat',\n",
              " 'spanduk pasang cebong laskar fpi warga menurunkan spanduk pasang cebong menjelang ijtima ulama ii bertujuan mengadu domba muslim hati hati cebong pki',\n",
              " 'demokrat iklan jokowi bioskop mengganggu hak konsumen demokrat iklan jokowi bioskop mengganggu hak konsumen',\n",
              " 'info rekruitmen bumn pt nindya karya beredar media sosial surat panggilan seleksi calon karyawan pt nindya karya persero diselenggarakan septemb surat edaran dituliskan perekrutan denpasar bali',\n",
              " 'mui ajak masyarakat ragu vaksin mr mui pastikan vaksin rubela positif mengandung babi organ manusia penjelasan resminya',\n",
              " 'bj habibi lawan berat prabowo jokowi bj habibi lawan berat prabowo jokowi sekedar jokowi jalan mudah prabowo kepemimpinan period',\n",
              " 'tewa serangan milit afghanistan masjid berita tv suara ham suara intoleran suara ham allah swt',\n",
              " 'ahok jokwer marah pki bangkit ahok jokwer marah pki bangkit saudaraku mari waspada',\n",
              " 'iklan lowongan pekerjaan menghamili istri lurah gorontalo berhadiah rp juta iklan lowongan pekerjaan menghamili istri lurah gorontalo berhadiah rp juta',\n",
              " 'bpbd bogor peringatkan potensi bencana gerakan tanah kecamatan dpt kiriman dr grup wa hoax yaa',\n",
              " 'pistol fn berani tni pistol fn berani tni rpg senjata anti tank polisi kudeta',\n",
              " 'ujaran kebencian etni china mengatasnamakan sultan hamengkubuwono x sri sultan hamengkubuwono maaf sara cina keturunannya panta pemimpin bumi nusantara fakta sejarah tionghoa satunya penghianat negara kesatuan republik indonesia nkri',\n",
              " 'mastel optimalkan peran stakehold sektor telematika melawan penyebaran hoax masyarakat telematika indonesia mastel memandang momen aksi turn back hoax diselenggarakan masyarakat anti fitnah indonesia mafindo serentak kota minggu januari memiliki makna pent aksi melibatkan masyarakat terbuka mengedepankan peran masyarakat pelaku sentral membangun kondusivita kehidupan bermasyarakat berbangsa bernegara',\n",
              " 'orma pa klarifikasi insiden pembubaran kkr sabuga bandung orma pa klarifikasi insiden pembubaran kkr sabuga bandung',\n",
              " 'foto pengungsi suriah adegan dlm film yg berlaku syuriah',\n",
              " 'mengonsumsi telur rebu malam menangk covid semalam kagetkan broadcast cari telor tru rebu gak hayoo mengalami',\n",
              " 'video raja bahrain dubai pengaw robotnya raja bahrain dubai pengaw robotnya dilengkapi kamera melacak derajat dilengkapi pistol teknolog bergerak cepat sejarah',\n",
              " 'pesan berantai kantor pusat pt kawan ditutup salah direksi meningg orang karyawan terpapar covid kantor pusat kawan meruya jakarta barat ditutup salah direksi meningg kemarin sore akibat covid kontak erat almarhum orang positif terpapar tindakan karyawan berkantor digedung rt pcr kebijakan menutup ak head offic cabang toko wareh karyawan gedung orang',\n",
              " 'sabam sirait meningg dunia april berita dukacita dipanggil bapa surga sabam sirait',\n",
              " 'tenaga medi china membantu menangani covid indonesia tim medi china diterbangkan indonesia membantu penanganan viru corona pengalaman menangani corona bermanfaat tdk membawa viru aja kalo cebong yg kenak corona yg gak sembuhkan suntik mati aja',\n",
              " 'hujan batu serpihan meteor bumi purwakarta inalillahi wainailaihi rajioun mari berdoa semoga bencana alam hujan batu rumah jatuh purwakarta indonesia serpihan meteor bumi mari istighfar berdoa allah swt',\n",
              " 'gusti kanjeng ratu condrokirono izin pengunaan area keraton isu sara mengabulkan permohonan kgd masjid gedh karaton halaman ndalem pengulon alun alun utara sisi barat',\n",
              " 'jokowi pidato menit tertawaan orang jepang pidato pertemuan g jepang jokowi pidato detik alia menit tertawaan orang jepang',\n",
              " 'surat suara pencoblosan bertebaran hebat kecurangan kpu rezim pki jokowi',\n",
              " 'pesawat pribadi prabowo dilarang mendarat bandara syamsudin noor banjarmasin info terbaru pesawat pribadi prabowo tdk ijin mendarat bandara samsudinnoor bjrmasin utk menghadiri haul guru sekumpul hr sungguh rezim pdahal utk kampani',\n",
              " 'duit baju makan acara sunyi relawan jokowi bunuh menit menit warga bergabung meramaikan acara deklarasi jokowi pariaman rencananya relawan diberinama jokowi ajjo dideklarasikan anjungan gondoriah kota pariaman jumat',\n",
              " 'rakyat berontak rakyat berontak',\n",
              " 'anggur dijual pinggir jalan padang tegal berformalin anggur murah menggiurkan info wa adakah saudara info mari berbagi informasi',\n",
              " 'klarifikasi terkait video viral pagar masjid istiql ditutup dgn rezim dl masjid istiql terbuka lua utk umat muslim non muslim yg beribadah berwisata dr daerah dr tp skrg pintu pagar masjid membatasi umat utk msk kedlm masjid',\n",
              " 'kak seto mengisi acara sampoerna academi ata masyarakat lembaga perlindungan anak indonesia lpai sebaran whatsapp berisikan kabar kak seto mengisi acara sampoerna academi lpai klarifikasi',\n",
              " 'foto salam jari kapolda sumut paulu waterpauw ketua relawan djarot sihar foto salam jari kapolda sumut paulu waterpauw ketua relawan djarot sihar',\n",
              " 'gempa malang selatan informasi warga malang selatan diharapkan rumah malam bmkg mengeluarkan rili gempa akibat imba gempa banjarnegara meneruskan pesan keselamatan',\n",
              " 'famili mca saracen bisni hoak famili mca saracen bisni hoak',\n",
              " 'bahaya memakan kepala ikan mengandung racun ciguatoksin bahaya memakan kepala ikan mengandung racun ciguatoksin',\n",
              " 'klarifikasi sekjen pbnu penolakan ustadz abdul somad penolakan ustadz abdul somad hongkong pesanan lbp',\n",
              " 'foto mobil b uno masuk busway beredar foto mobil jalur busway berplat b uno plat nomor yg otomati orang menduga mobil milik wagub dki sandiaga uno mobil milik dwi putranto jakarta barat',\n",
              " 'februniy walikota kristen kota mardin mayorita warganya beragama islam pemberitaannya portal okteru com kota mardin turki memiliki walikota kristen perempuan februniy akyol',\n",
              " 'jokowi menaikan pajak penghasilan tahukah diam diam jokowi menaikkan pajak penghasilan pekerja buruh aha hrd tau dipotongnya gajian juli',\n",
              " 'jokowi bantu lao bangun infrastruktur jembatan jembatan indonesia meprihatinkan mohon pencerahan yg berita sindo tru yg gambar jembatan lokasi dmn penanganan dr pemerintah',\n",
              " 'dokumentasi dind berlapi ema freeport lihatlah didalam perut bumi tanah papua dind berbatu berlapi ema cat tembok studio film kegiatan karyawan freeport puluhan',\n",
              " 'foto logo love israel permen mento foto mento edisi love israel supermarket daerah jakarta pusat',\n",
              " 'ahok izinkan natalan mona larang pengajian mona mari tolak desemb acara pastur mona majli dilarang mona kegiatan natal perbolehkan mona gubernur jakarta beralasan mona dipakai acara masal agamaan acara pastur diperbolehkan adil mari demo tanggal april',\n",
              " 'gedung kejaksaan agung terbakar lbp pemutihan koruptor pejabat bin lapor presiden gedung kejaksaan dibakar eh maksudnya terbakar presiden alhamdulillah eh maksudnya urusan lbp kau bereskan pemutihan saudara koruptor kapolri langsung berlagak pilon pejabat pura kaget taipan berpesta pora christma island kasu korupsi kader pdip hilang kasu korupsi kela kakap yg konglomerasi china lenyap',\n",
              " 'laki laki soekarno jend soerdirman ayahandanya habieb risziq shihab publik melek politik sejarah yg laki laki soekarno jend soedirman beliau ayahandanya habieb risziq shihab berita sengaja tutupi sejarah compeni pemerintah penjajah ykni belanda khawatir umat islam bersatu',\n",
              " 'video biadab banget perlakuan jenazah muslim biadab banget perlakuan jenazah muslim',\n",
              " 'sehari rapid test covid santri kudu santri sadarkan sehari rapid test covid santri kudu santri sadarkan',\n",
              " 'ide alquran nusantara sdh direalisasikan innalillahi wa innaillaihi roojiuun ide alqur nusantara sdh direalisasikan astagfirullah',\n",
              " 'katalog model alexi ladi catalogu model premium',\n",
              " 'surat seruan siaga maje ulama indonesia sekertari maje ulama indonesia mui pusat menyerukan mui propinsi kabupaten kota berhati hati waspada adakannya rapid test covid ulama kyai ustadz indonesia serukan rencana test corona modu operandi pki ata perintah negara komuni china menghabisi tokoh agama islam indonesia negara muslim tolak niat dalamnya misi jahat licik',\n",
              " 'corona mewabah gubernur ganjar liburkan driver grab grobogan ajukan grab insetif rb corona mewabah gubernur ganjar liburkan driver grab grobogan ajukan grab insetif rb',\n",
              " 'video detik detik tsunami jepang februari bencana tsunami melanda japan video amatir bencana tersebar lua media sosial dibagikan kali tayangan siaran langsung ucapkan terimakasih menyempatkan berkunjung channel mwr offici lupa like comment share subscrib',\n",
              " 'warga garut korban begal korban begal wengi kamari kajantenan pemda arah jl patriot saurna anjeuna begal candak hp srg siksa dugi ka kitu',\n",
              " 'say sound whale thrill voic bottom sea say sound whale histori dajjal laknatullah come chain bondag heard shrill voic name voic dabbatul arz allah know ak lam allah know',\n",
              " 'aa gym angkat bicara terkait broadcast silakan ucapkan selamat natal catut namanya tulisan tulisan aa sayang penulisnya berbohong ata nama orang perbuatan dibenarkan apapun niatnya semoga penuli menyadari kesalahannya tobat',\n",
              " 'nata de coco terbuat plastik berbahaya anak anak beli minuman nata de coco bahayanya plastic tdk larut perut',\n",
              " 'pabrik narkoba digrebek tasikmalaya pelakunya cina pabrik exstasi grrebeg tasikmalaya pelakunya seeeemua cina bersekongkol dg cina',\n",
              " 'aseng pake seri mobil china bandung aseng pake seri mobil china',\n",
              " 'mahasiswa uinsu meningg dunia melaksanakan demo kota medan mahasiswa universita islam negeri sumatera utara meningg melaksanakan aksi demo kota medan selasa agustu',\n",
              " 'sri mulyani dana haji rp triliun menutupi defisit bpj presiden joko widodo jokowi dana haji umat mencapai rp triliun diinvestasikan instrumen investasi portofolio surat utang negara sun pembangunan infrastruktur menutupi depisit anggaran bpj',\n",
              " 'kyai mengakui kubu curang ya kyai mengakui kubu curang ya',\n",
              " 'penderita gila akibat pilpr meningkat tajam sumbar penderita gila akibat pilpr meningkat tajam sumbar',\n",
              " 'santunan kecelakaan jasa raharja persen korban pasien kecelakaan ga pni bpj kesehatan bpj ketenagakerjaan',\n",
              " 'terb ngkar c n p k beli tanah strategi diindonesia gawattt terb ngkar c n p k beli tanah strategi diindonesia',\n",
              " 'austria lahar pana perut bumi nauzubillah ya allah austria lahar pana perut bumi neraka merindukan penghuni nya',\n",
              " 'tol jakarta cikampek ambruk maaff temen temen arah jakarta cikampek macet totol jalan tol ambruk',\n",
              " 'fb lite hack info fb lite hack fb lite buka profil orang muncul foto profil fb terkena viru menghilangkannya ikuti langkah',\n",
              " 'munir dibunuh prabowo bersalah munir tewa terbunuh wawancara stasiun televisi swasta',\n",
              " 'megawati soekarnoputri dirawat rumah sakit stroke rakyat indonesia mari doakan megawati presiden dirawat rumah sakit diangkat penyakit strokenya kesehatan membantu bpk jokowi dipertarungan mempertahankan kursi ri',\n",
              " 'penemuan mayat anak kela sdn pademangan barat kemayoran ditemukan mayat anak sdn pademangan barat kela kemayoran dgn kondisi mengenaskan anggota organ tubuh dalamnya diambil dijual pelaku menghilang pulang sekolah akibat orang tua telat menjemput',\n",
              " 'nomor porsi haji keberangkatan smg bermanfaat nomor porsi haji regul',\n",
              " 'indonesia ku sayang indonesia ku malang indonesia ku sayang indonesia ku malang',\n",
              " 'pemog tewa jalur alternatif cikidang keluarga mnunggu',\n",
              " 'gedung kementrian dijual gedung kementrianpun dijual',\n",
              " 'sadarlah rakyat indonesia jajah indonesia ku sayang indonesia ku malang sadarlah rakyat indonesia jajah',\n",
              " 'pulau kabupaten berau dijual pulau kab berau dijual kah nih giliran jual',\n",
              " 'merek pembalut indonesia penyebab kanker kemenk produksi pembalut klorin dioksida agen pemutih dinyatakan beba dioksin ga klorin',\n",
              " 'modu pencabulan pembiusan pengamen angkutan kota purwakarta modu pencabulan pembiusan pengamen angkutan kota purwakarta',\n",
              " 'quraish syihab khatib sholat i masjid istiql sepi jamaah quraish syihab khatib jamaah sholat i istiql sepi',\n",
              " 'anggota kepolisian tergabung jaringan radik yg mementingkan pangkat dunia jihad rindu syahid jln allah syria doakan perjuangan berdua amin',\n",
              " 'waspada scam pesan berantai video call whatsapp scam beredar broadcast aktivasi featur video call pesan wow new whatsapp video call version leak hd qualiti mani featur click link download',\n",
              " 'jenazah siyono utuh yb mati syahid kematian siyono tangan densu mencatatkan korban terduga terori langsung dibunuh bukti kisah menarik jasad siyono jasadnya membusuk sebulan dikuburkan',\n",
              " 'pembangunan jembatan kolelet lebak banten hoax mohon informasinya',\n",
              " 'gambar perjuangan fpi melawan penjajah belanda perjuangan fpi melawan penjajah belanda subhanallah',\n",
              " 'tangkapan layar wapr menyebut idul adha haru dimaknai menyembelih qurban wapr menyebut idul adha haru dimaknai menyembelih qurban',\n",
              " 'klaim hadi pranoto covid nama prof hadi pranoto sulit cari internet padah mei beliau menemukan antibodi covid antibodi covid terbukti menyembuhkan orang wisma atlet pasokan obat pasien terbukti sembuh',\n",
              " 'statu gerakan si kadrun haru hentikan gerakan si kadrun haru hentikan menunggu komando merdeka',\n",
              " 'artikel cium janda menit perpanjang umur faktanya cium janda menit perpanjang umur faktanya',\n",
              " 'anak meningg rumah sakit akibat terbentur biaya kacau balau pemahaman bpj check yg bersangkutan terpapar aliran sesat jpkp bantu menyelesaikan',\n",
              " 'video nasehat alm erma yunita simamora yg meningg pd tanggal rs ar bunda lbk linggau korban covid kisimak dg seksama habi mari dengarkan nasehat alm erma yunita simamora yg meningg pd tanggal rs ar bunda lbk linggau semoga bermanfaat semoga alm husnul khotimah aamiin yra',\n",
              " 'foto hababina rizieq tangan kanan mulia baginda donald trump wooooi cebong bukti imam jumbo eksi gembel ngarab hababina rizieq tangan kanan mulia baginda donald trump kunci nuklir mamarika udah ditangan beliau ent bilang gembel almarhum ent sekecamatan',\n",
              " 'foto china dilaporkan diam diam kremasi korban viru corona china dilaporkan mengkremasi mayat rahasia pasien viru korona melonjak melewati viru menginfeksi orang china sar',\n",
              " 'foto hati bakso tiku tlong jngn trlalu prcyg sm penjual bkso yg pindh sm yg dpngr jln cbk klian lihat ni tryta ad yg pngn irit gk bli dging jdi critku pngr jln ting sbrkn ni bg adi',\n",
              " 'korban terkaman harimau jln garuda sakti pekan korban terkaman harimau jln garuda sakti pekan',\n",
              " 'ahok beli tanaman plastik dipak sebentar ganjar nyanyi bareng slank sehari ahok beli tanaman plastik dipak sebentar diam ganjar nyanyi bareng slank sehari diam ani yg jt dipakai sok perduli anggaran',\n",
              " 'daftar obat terlarang bpom info kn bt keluarga tercinta',\n",
              " 'kemendagri menolak perpanjangan izin fpi cc kemendagri kemendagri tolak perpanjangan izin orma fpi bubarkanfpi fpiwajibdibubarkan ormasislam ormasterlarang hr wow indonesiaon',\n",
              " 'pemerintah dana haji menipi innalillaahi wainna ilaihi raajiuun',\n",
              " 'jokowi wakili suara rakyat presiden kecurangan fakta jokowi wakili suara tuhan suara rakyat presiden kecurangan',\n",
              " 'hoax berita sesuai kepentingan penguasa hoax berita sesuai kepentingan penguasa post akun facebook neng renni satriyo arini setyowati',\n",
              " 'lambang pengikut penganut perjanjian dajjal fakta lambang pengikut penganut perjanjian dajjal biarkan foto video yg',\n",
              " 'imbauan polri terkait razia cipta kondisi besaran septemb oktob lini media sosial beredar himbauan mengatasnamakan mabe polri masyarakat indonesia operasi cipta kondisi razia pengecekan kendaraan preman narkotika digelar besaran',\n",
              " 'fakta dana kampani jokowi fakta dana kampani jokowi',\n",
              " 'wakapolri pernyataan terkait pilkada kota makassar berita hoak polri netral',\n",
              " 'anggaran sampah jerman rp dina lh dki buka suara pertimbangan tekni pilih produk jerman pertimbangan kualita isnawa garbag bin dipesan memiliki sertifikat standardisasi kela dunia en',\n",
              " 'arseto pariadji menyerahkan polisi arseto pariadji menyerahkan polisi',\n",
              " 'bisni gelap like facebook halamannya mengumpulkan ribuan like komentar halaman memiliki posisi tertinggi news feed pengguna facebook like mata uang situ',\n",
              " 'menteri keuangan sri mulyani memiliki bitcoin menteri keuangan menkeu sri mulyani diberitakan media massa memiliki bitcoin',\n",
              " 'arti saracen dipakai sindikat penyebar kebencian arti saracen dipakai sindikat penyebar kebencian',\n",
              " 'indonesia aliansi negara islam menyaingi nato menyedihkan indonesia sbg negara mayorita muslim terbesar dunia tdk dlm koalisi tentara islam dunia menyaingi nato nya kafir pdhl negara sdh bergabung malaysia dalamnya memalukan',\n",
              " 'ilc tv one bredel aparat negeri sungguh ironi',\n",
              " 'enzim rnase membunuh bakteri makanan yg ttg enzim rn ase yg tangan dihasilkan efektif membunub bakteri yg makanan',\n",
              " 'wear mask cau legionnair disea wear mask cau legionnair disea',\n",
              " 'kutipan kim bok dibunuh aktifi china negeri mu hancur kau kepercayaan bermata sipit suara suara bicaranya kera ucapannya kebohongan isi fikirannya penuh pengkhianatan kim bok pahlawan korea dibunuh aktifi china',\n",
              " 'risma sujud idi warga surabaya diterima rsud dr soetomo teman teman fbku surabaya zona hitam harap dibaca smua surabaya rawat surabaya rs milik sbi warga surabaya diperbolehkan rs milik rs dr soetomo milik pemprov bu risma sujud idi sake jancok bobrok e pemrov jancok',\n",
              " 'ani solusi banjir tinggal tunggu musim kemarau solusi banjir mudah tinggal tunggu musim kemarau',\n",
              " 'video jokowi mega pitam hasto bongkar ruu hip diusulkan pdip hayo lo jokowi megawati pitam hasto bongkar ruu hip diusulkan pdip',\n",
              " 'koreksi post ton telur banso pemprov jabar membusuk berkaitan koreksi berita perkembangan informasi ton telur banso pemprov jabar membusuk gudang penyimpanan bulog garut http bit ly wwv tim redaksi pemeriksa fakta mafindo memohon maaf ata ketidaknyamanan ditimbulkan selengkapnya penjelasan referensi',\n",
              " 'pemerintah membagikan kuota gb grati insentif melawan covid pemerintah provid diindonesia membagikan kuota gb berkomunikasi',\n",
              " 'memakai masker pengendara motor mobil didenda rp juta kurungan penjara minggu yg rumah pejalan kaki pengendara motor mobil harap pakai masker sanksi tilang sdh diberlakukan denda juta penjara minggu ayo disiplin perangi covid cepat saudara saudari',\n",
              " 'penularan corona droplet udara resmi dinyatakan covid ditularkan droplet titik air berisi voru batuk bersin viru hasil penelitian bertahan udara melayang layang jam tubuh penderita bersin batuk butuh medium cairan bertahan',\n",
              " 'kota serang berlakukan psbb terhitung april assalamualaikum menginformasikan pelaksanaan psbb pembatasan sosial berskala rabu tgl april',\n",
              " 'video black market italia menyerah perdana menteri italia penjagaan tiada penyakit teru membunuh penyembuhan dunia tamat semalam meningg meningg orang meningg kasu italia gagal sepenuhnya presiden italia menangi italia negara memiliki pertahanan kesehatan terbaik dunia gagal mencegah covid masuk negaranya menganggap covid gurauan belaka',\n",
              " 'presiden china mengumumkan viru corona epidemi memohon umat islam mendoakan china presiden china mengumumkan viru corona epidemi memohon umat islam mendoakan china aljazeera',\n",
              " 'anj menyelamatkan bayi koala kebakaran suami istri australia membuka pintu pemandangan anj keluarga muncul bayi koala punggungnya diselamatkan api sorot mata menceritakan kisah',\n",
              " 'anggota banser kudu jawa keroyok emak emak penjual nasi uduk anggota banser kudu jawa keroyok emak emak penjual nasi uduk mengaku bareskrim pangkat mayor biar makan grati si emak kaget brutal nama banser dadanya info yg menghadang ustadz abdul somad berziarah kudu jawa',\n",
              " 'fpi mengancam kedaulatan nkri yg menunggangi nu haru bersihkan menhan prabowo subianto banget jendral gambar menampilkan foto menteri pertahanan prabowo subianto narasi fpi mengancam kedaulatan nkri yg menunggangi nu haru bersihkan menhan prabowo subianto',\n",
              " 'video politisi brasil dilempar sungai walikota menjanjikan jembatan sungai kampani pemilihan jabatan lihat publik menyambutnya',\n",
              " 'jokowi kekuasaannya prabowo alhamdulillah prabowo kewenangan mutlak ata pertahanan negara membawahi bin tni polri jokowi kekuasaannya prabowo cebong kelojotan tunggu gebrakan jendral tercinta prabowo',\n",
              " 'terjemahan surat al kafirun al quran diganti non muslim astaghfirullah allah ya kariim ent bahlul orang wara ya didiamkan rezim salamakalsehat',\n",
              " 'klarifikasi polr bogor terkait pembuatan sim te rp ribu acara milleni road safeti festiv milleni road safeti festiv polr bogor minggu tanggal maret pembuatan sim te pelayanan sim kelil khusu perpanjangan sim',\n",
              " 'foto video letusan gunung soputan sulawesi utara gunung soputan',\n",
              " 'didit prabowo menikahkan gay didit prabowo menikahkan gay',\n",
              " 'ustaz cianjur dipersekusi dibacok sibuk post pilpr sibuk post ganti presiden sibuk post jokowi sibuk post persekusi',\n",
              " 'menpan rb bantah maju caleg asman membantah',\n",
              " 'manajemen garuda indonesia tegaskan penjualan penawaran saham perusahaan china berita',\n",
              " 'pengurusan sim c massal kecamatan kromengan kabupaten malang hallo dulirrrrrr iki ono pembuatan sim massal kromengan yg daftar hrp siapkan fr copi ktp lbr ft copi kk lbr uang pendaftaran rp ewu yg berminat besok pagi hrp seturkan berka sudimoro biar sy bawa bsk sy kromengan insyaaallah',\n",
              " 'kursi gbk rusak parah pasca laga indonesia vs islandia viralkan diresmikan suport timna rusak kursi sugbk minggu malam nowupd depasarnow tingkah ulah suport timna indonesia panta ditiru sedih ngeliat foto foto oknum suport nampak menghargai fasilita stadion utama gelora karno tampilan barunya mewah cantik kalah stadion stadion eropa',\n",
              " 'rina nose buang jilbabnya islam ajaran sesat rina nose buang jilbabnya islam ajaran sesat',\n",
              " 'polisi laporkan akun penyebar hoax girder flyover tol ambruk polisi laporkan akun penyebar hoax girder flyover tol ambruk',\n",
              " 'penjelasan bpom terkait hoax isu makanan penjelasan bpom terkait hoax isu makanan',\n",
              " 'bunga megapuspa mekar puncak jayawijaya papua bunga megapuspa mekar puncak jayawijaya papua',\n",
              " 'habibi center drone emprit break chamber wall habibi center drone emprit break chamber wall',\n",
              " 'tim sari roti sombong menanggapi isu boikot produk roti jual minimarket pasarnya menengah ata diken orang pikir berpengaruh yah',\n",
              " 'ahok warga batang wakafkan tanah plaza ahok warga batang wakafkan tanah plaza warga apartemen diwakafkan',\n",
              " 'kod babi makanan jumat pagi anak anak jajan ice cream cek label halal mui cek ingredestnya astagfirullah menghandung lemak babi berhati hatilah kaum muslimin',\n",
              " 'literasi media literasi media',\n",
              " 'kronolog insiden rso palangkaraya kronolog insiden rso palangkaraya',\n",
              " 'foto pangeran saudi disandingkan pangeran diponorogo gambar kiri pangeran saudi gagah berwajah tampan berwibawa gambar kanan pangeran diponorogo pantesan wajah koyok reog',\n",
              " 'antena g masker g antenna insid mask',\n",
              " 'foto siswi bunuh mengikuti kela onlin kela onlin makan korban siswa bunuh ponsel',\n",
              " 'gambar presiden jokowi pamit sbi pulang solo jokowi mo pamit sbi rakyat senang mundur kalo negeri kara silahkan solo mung kin lanjutkan proyek esemka yg fenomen monggo',\n",
              " 'gambar islam liber islam liber',\n",
              " 'foto singapor banjir kayak gini heran klu singapor bnjir kyk gini bedok',\n",
              " 'la gode menyerang asrama tni siang ditemui diberitahu tetangga ruslan buton bau bau bhw la gode dibunuh petani preman halmahera yg meresahkan masyarakat dibunuh ketka menyerang asrama tni ruslan buton dkk apresiasi warga',\n",
              " 'video detik detik pesawat komersi jatuh pemukiman bandara internas jinnah karachi pakistan pesawat komersi jatuh detik detik pesawat komersi jatuh permukiman bandara internas jinnah karachi pakistan jumat',\n",
              " 'italian magazin describ world would look like italian magazin describ world would look like',\n",
              " 'sembuh menhub budi karya dinyatakan positif covid sembuh menhub budi karya dinyatakan positif covid',\n",
              " 'jack ma advic hope get jack advic hope get',\n",
              " 'foto ani baswedan makan amateur editor editor pemula belajar gambar bicara',\n",
              " 'gb grati ulang googl googl st birthday offer googl celebr st birthday give gb g free data user',\n",
              " 'pangeran uni emirat arab dikabarkan positif viru corona pangeran uni emirat arab uea mohamma bin zay dikabarkan terinfeksi viru corona covid rabuu maret pemberitaan lokal uea putra mahkota abu dhabi didiagnosi positif viru corona dikarantina',\n",
              " 'singapor china komuni membenc islam polisi kafir singapor menggelar latihan penanggulangan teroristm masjid dgn tetep memakai sepatu naji karpet masjid laknatullah alaihim kuasai china singapor ubahnya sprt china komuni membenc islam',\n",
              " 'prof taruna ikrar ahok pemimpin indonesia diobservasi otaknya prof taruna ikrar guru neurobiolog universita california amerika serikat calon penerima nobel mengamati perilaku retorika ahok menjabat gubernur jakarta sudut pandang neurosain ahok pemimpin indonesia diobservasi otaknya',\n",
              " 'taman moroseneng sememi surabaya taman moroseneng sememi surab ya',\n",
              " 'muncul himbauan libur pertangg septemb mengatasnamakan plt gubernur aceh akibat kabut asap karo huma nyatakan himbauan mengatasnamakan plt gubernur terkait kebakaran hutan alia hoak',\n",
              " 'penjelasan fenomena hiu menepi pinggir pantai nusa terpantau banyaknya ikan hiu menepi bibir pantai nusa selasa siang heboh pengunjung pantai pertanda ya semeton',\n",
              " 'video siaran kecurangan pilpr tv al jazeera tv al jazeera menyiarkan kecurangan pemilu indonesia bikin geger dunia pemilu curang dipertontonkan rezim jokowi merusak citra indonesia dimata dunia demokrasi mati indonesia wiranto berani suruh tutup',\n",
              " 'yudi konsultan kpu mengendalikan sistem penghitungan kpu pendukung',\n",
              " 'sm bencana dikeluarkan bmkg perhatian warga indonesia tanggal desemb senantiasa waspada bencana menimpa negara indonesia anggota bmkg berhati hati',\n",
              " 'foto prabowo berpakaian uskup gereja gambar hoax ya seandainya kasihan agama komudita politik padah gak gini banget jokowi muslim sejati cintai nasrani orang pilih kualita nya spt',\n",
              " 'cairan wadah mainan anak menyerupai pisang mengandung narkoba beredar informasi media sosial beredarnya minuman semprot mengandung narkoba dikalangan anak sd informasi hoax smart netizen besmartnetizen',\n",
              " 'gempa palu penyebab erupsi gunung soputan pusat vulkanolog mitigasi bencana geolog pvmbg badan geolog kementerian energi sumber daya miner esdm peningkatan aktivita vulkanik gunung soputan sulawesi utara akibat gempa bumi palu',\n",
              " 'infografi integrasi tarif tol jorr ditunda kali integrasi tarif transaksi tol jakarta outer ring road jorr dgn ak tanjung priok rorotan kebon bawang jalan tol ulujami pondok ditetapkan jadwal penerapannya berlaku septemb wib',\n",
              " 'indomaret klarifikasi tayangan tv jokowi prote kader partai demokrat pribadi memboikot indomaret belanja dijaringan indomaret krn iklan boikot silahkan minimarket yg',\n",
              " 'kpu lakukan vote pemilihan capr facebook vote real calon presiden pilihan rakyat',\n",
              " 'hmi klarifikasi terkait isu dukungan politik partai berkarya agenda silaturahmi pimpinan partai politik parpol partai berkarya murni membangun sinergita kelembagaan share gagasan terkait kebangsaan',\n",
              " 'pemerintah mencabut subsidi ga elpiji kilogram juli rakyat miskin beli tabung yg warna hijau tp belinya dikantor kelurahan jatah beli kali antri bera raskin',\n",
              " 'wakil rektor ii universita muslim indonesia dikeroyok mahasiswa mahasiswa menghargai dosen orang tua memukul dosen orang tua semoga mahasiswa hidayah maaf dosen',\n",
              " 'break news pemimpin koruptor muslim masuk syurga jk tp ceramahnya mari berlomba berbuat jahat syuuurga tersedia tinggal milih kapl pilih dipilihhh',\n",
              " 'ujian semest sma madrasah aliyah membaha khilafah prof mahfud md kemenag jg menyebarkan ideolog terlarang khilafahituajaranislam yukngajibiarngerti',\n",
              " 'jendral gatot banser nu rasi sabtu novemb pembubaran pengajian akbar umat muslim ust felix siauw jendral gatot nurmantyo banser kelompok rasi radik beda komuni',\n",
              " 'arun polisikan pembuat info hoax bank muamalat bank muamalat dicaplok lippo assalamu alaikum mendpt info dr org bank plat merah gerakan proyek meikarta sungguh cerdik licin umat islam kalah lippo group memb bank muammalat konsorsium minapadi bank muammalat sdh milik lippo sdh sbg bank resmi support pembiayaan apartemen meikarta cerdik gerakan kmrn',\n",
              " 'pdip mui babi panggan halal pdip mui babi panggan halal dikonsumsi dikalangan masyarakat pesantren',\n",
              " 'warga bpj sulit menguru berka hati hati yg ga bpj karna thun dpn sulit ut kepengurusan ga nguru berka simak info peserta bpj mandiri',\n",
              " 'bawa langsung lansia rumah lansia atmabrata teman terkasih kenal lansia yg rumah tdk keluarga yg uru berteduh bawa rumah lansia atmabrata jln cilinc jakarta yg dikelola bruder petru partono tim hp bruder petru pandang suku agama berteduh makanan pengobatan perhatian bantu share grup pray',\n",
              " 'fatwa haram pemasangan bendera ri masjid muncul berita hoax berjudul mui mengesahkan fatwa haram pemasangan bendera indonesia masjid laman wordpress berita berita palsu fitnah',\n",
              " 'statu keamanan negara siaga pasca pilkada dki jakarta indonesia siaga pilkada ahok menang kalah tentara cina komuni sekutunya makar berdarah diindonesia mengambil alih kekuasaan indonesia dalih mengamankan warga cina indonesia terori padah mengambil kekuasaan diindonesia tentara myanmar aceh membala ata warga budha dihukum cambuk diaceh kekuatan tni terpecah diaceh dijakarta anak anakn tni diperintahkan menjaga pilkada dki',\n",
              " 'gedung putih dibanjiri massa pro ahok menuntut fpi dibubarkan berita gempar penolakan fpi amerika gedung putih dibanjiri massa pro ahok menuntut fpi dibubarkan',\n",
              " 'tawan tukang la berlengan robot hoax ngga masuk akal aja hehe',\n",
              " 'pesan singkat perih biaya asuransi kirim barang jne senilai jutaan rupiah barang dikirim jasa jalur jne jne menyediakan layanan asuransi pelanggan asuransi barang du haru melengkapi asuransi psbbkarnah barang ditahan pengiriman menyertai asuransi pelanggan dibebankan semnetara sesuai aturan diberlakukan jne menguru biaya asuransi senilai rp biaya asuransi biaya bersifat semnetara dibebankan pemilik barang',\n",
              " 'kutipan haedar nashir bantuan apapun pemerintah bantuan apapun pemerintah lembaga aum miliki haru badan hukum',\n",
              " 'koplak kompa tv demo tolak hip ga disiarkan giliran demo pdip live koplak kompa tv demo tolak hip ga disiarkan giliran demo pdip live',\n",
              " 'j promo handphon terciduk anj pki mengotori masjid',\n",
              " 'insentif viru corona pemerintah gratiskan ak internet lawan covid pesan pemerintah dirumah jaga jarak insentif pemerintah gratiskan ak internet baca selengkapnya',\n",
              " 'muara karang perampokan disertai pembunuhan pedagang bakmi muara karang superindo kejadian pembunuhan encim dibunuh perampok skrg pelakunya sdh ditangkap encim tukang bakmi pasar muara karang',\n",
              " 'jembatan suramadu beba aktivita orang kendaraan beba bentuk aktivita orang kendaraan rangka memutu rantai penyebaran viru covid kota surabaya jembatan suramadu jumat maret wib sabtu maret wib wib minggu maret wib',\n",
              " 'tekan cancel kali masukkan kartu atm pesan staf perbankan nasehat berguna menarik uang atm tekan cancel kali masukkan kartu atm orang memasang tombol mencuri kode atm mu membatalkan dipasang pencuri jadikan kebiasaan dalamm transaksi lakukan',\n",
              " 'detik mistadi diterkam harimau sumatera detik dimana mistadi diterkam harimau sumatera dikebun muplih ataran penamaran desa kota agung bersebelahan lgsg dgn desa rekimai jaya sdt berduka sedalam dalamnya',\n",
              " 'perampokan bank bri lhok nibong aceh timur video kejadian perampokan bank bri lhok nibong diunggah akun media sosial',\n",
              " 'kivlan zein soenarko beba alhamdulillah jendral purnawirawan kivlan zein soenarko beba',\n",
              " 'partai golkar mengajukan surat permohonan pembatalan hasil pilpr eng ing eng gerangan partai golkar mengajukan surat permohonan pembatalan hasil pilpr yg diumumkan kpu mei mk gerakankedaulatanrakyat',\n",
              " 'wiranto kecurangan peghitungan suara lo petinggi hanura pusat bicara blak sepak terjang wiranto wiranto udah jela niat wiranto kecurangan peghitungan suara yg bongkar pimpinan partai hanura',\n",
              " 'terori minut sulawesi utara info desa klabat terkini kekacauan orma adat minahasa tou minahasa harapkan kehadirannya desa klabat terkini kedatangan orang orang identita ktp surat jalan dorang pe kuntua ja tatawa akang dorang keonaran tana minahasa',\n",
              " 'mobil avanza masuk makam sukorejo misti avanza malam supirnya digoda cewek diajak mampir kerumahnya disuruh nginep pager sekelilingnya utuh hantu mileni suka avanza heheheh',\n",
              " 'sri mulyani klarifikasi terkait sajak berisi keluarga kehilangan lion air jt konfirmasi beliau tulisan',\n",
              " 'tni indonesia langgar perbatasan timor lest david diaz ximen anggota komisi viii parlemen nasion bidang pertahanan kerjasama negeri timor lest menuduh warga negara indonesia desa manusasi melanggar perbatasan indonesia timor lest',\n",
              " 'korban radiasi hp berantem orang pacar',\n",
              " 'sindrom siklopia cyclopia cyclocephali synophthalmia bentuk langka holoprosencephali',\n",
              " 'gambar masjid ata kapal induk bersumpah bagikan masjid diata kapal udah janji ayo tepati yg bagikan n menuli aamiin semoga besok pagi berlimpah rezekinya aamiin',\n",
              " 'permen mengandung narkoba kasu siswa sd solok kepala bbpom padang martin suhendrik langsung menurunkan tim mengambil sampel permen mengandung narkoba info terkait kasu jumat kepolisian perintahkan tim turun hasil uji labor permen negatif unsur narkoba terang martin',\n",
              " 'sere minum es sebabkan batuk pilek minum air es terlampau ingatlah batuk pilek',\n",
              " 'kpu ditud curang matikan server situ kpu memanasnya pemilihan gubernur dki jakarta memunculkan spekulasi berujung hasut fitnah salah akun pengguna facebook menilai kecurangan kpu mematikan server',\n",
              " 'larangan takbiran dki jakarta undangan terbuka umat islam menghidupkan malam idul fitri sekaligu melestarikan tradisi muslim nusantara front pembela islam fpi menggelar acara takbiran kelil besaran',\n",
              " 'april mop dimana umat islam bantai bertepatan tanggal april dimana tanggal orang sebutan april mop',\n",
              " 'us govern fund insect spi drone alreadi product us govern fund insect spi drone alreadi product',\n",
              " 'foto ani baswedan panen padi hijau total kadrun idiot',\n",
              " 'haramnya ilmu filsafat hukum belajar ilmu filsafat',\n",
              " 'foto struk tarif tol ditambah tarif tilang jalan tol jombang mojokerto ati yg tol kecepatan ata tilang gak ngelak rumu jarak bayar tilang pintu tol',\n",
              " 'foto jakarta water park perkenalkan jakarta water park',\n",
              " 'pilpr dibatalkan ditunda pilpr dibatalkan ditunda tamparan telak yg niat memanzulkan presiden',\n",
              " 'ghost exerci pm weird thing happen desert japani park rohini due corona fear nobodi visit park ghost exerci pm wit full polic team',\n",
              " 'fadlizon mendaulat ani duta germo tukang bo ong duta germo mewujudkan janji kampani jakarta bermaksiat aniesbaswedan new normal diskotek panti pijat ata prestasi spektakul membuka diskotek panti pijat dipuja kaum kadrun kadal gurun fadlizon mendaulat ani duta germo',\n",
              " 'video lockdown maradona lockdown maradona diterjemahkan bahasa indonesia lockdown maradona',\n",
              " 'diy daerah percontohan new normal kabar gembira diy keterangan huma satga covid prov diy diy percontohan new normal masyarakat diy sadar bahaya pandemi disiplin kepatuhan diband dgn daerah tingkat kesembuhan kasu meningg relatif itupun krn penyakit penyerta usianya kasu positif relatif pasif yg penularan murni importir',\n",
              " 'kecamatan lampung red zone covid hati hati lampung masuk zona merah',\n",
              " 'danger snack made israel caution snack danger made israel export asian countri snack contain tablet make someon paralyz therefor buy eat plea spread',\n",
              " 'video cari sensasi biar terken opposit cari sensasi biar terken jg yg publik figur rela receh cari panggung power forindonesia forindonesia',\n",
              " 'anak sd demo kemaren anak stm sma anak sd aja paham negara bere anak sd demo kemaren anak stm sma anak sd aja paham negara bere',\n",
              " 'bantahan informasi terkait seruan support sepak bola indonesia demo dpr peringatan anggota jakmania jalur sepak bola persija jakarta diperkenankan atribut persija jakarta jakmania aktivita sepak bola komando datangnya koordin wilayah korwil mase mase',\n",
              " 'beredar nama nama menteri pejabat setingkat menteri kabinet jilid ii diputuskan jokowi maruf istana bogor risalah rapat pengangkatan menteri pembantu presiden kabinet kerja jilid ii period',\n",
              " 'gambar karikatur media pranci gambar karikatur media pranci pilpr indonesia menelan korban jiwa kpp orang',\n",
              " 'kpu bantah tuduhan server diset menangkan jokowi lapor bareskrim break news exclam wahyu mantan staff jokowi solo bongkar server kpu singapur udh set kemenangan jebol salah servernya sebarkan viralkan loud sound',\n",
              " 'minggu kedepan padang hati hati waspada gempa sr minggu kedepan padang hati hati waspada gempa sr dasar laut siberut kedalaman km dasar laut mentawai',\n",
              " 'muncul isu gempa palu desemb bmkg angkat bicara kepala stasiun geofisika kla palu cahyo nugroho isu hoax teknolog memprediksi gempa bumi wilayah',\n",
              " 'bencana soeharto jokowi bencana zaman orba sd soeharto thn kali bencana gusdur thn bln kali bencana megawati thn kali bencana sbi thn kali bencana jokowi thn kali bencana sumber tempo',\n",
              " 'ktp bernama selamat idul adha raya idul adha media sosial beredar gambar ktp elektronik bernama selamat idul adha alamat baron cilik rt rw kelurahan bumi kecamatan laweyan solo jawa',\n",
              " 'frame ase berita pelayanan turi pasca gempa lombok harap maklum presiden jokowi antek ase rakyat nya',\n",
              " 'pesawat citilink qg rute semarang surabaya hilang manajemen citilink indonesia keselamatan keamanan penerbangan',\n",
              " 'surat perintah pendataan tenaga medi non medi rumah sakit beredarnya surat berisikan perintah pendataan tenaga medi non medi rumah sakit',\n",
              " 'kandungan pasta gigi kode warna coba cek kode warna regist pd pasta gigi letaknya diujung pasta gigi',\n",
              " 'ahok ciptakan lirik lagu tuhan tidur ahok jeruji besi apapun',\n",
              " 'artikel analisi mulyo wibisono diedarkan alisi mantan badan intel strategi bai bicara teror indonesia quot mulyo wibisono mantan komandan satga intel badan intelijen strategi bai laksamana tni purnawirawan',\n",
              " 'mantan presiden ri nobatkan pemilik iq tertinggi sejarah manusia sia siakan bangsa indonesia mca breackingnew updatenew mohon doa nya kabar wadir rspad mantan presiden ri nobatkan pemilik iq tertinggi sejarah manusia sia siakan bangsa indonesia situ opishposh com merili manusia iq tertinggi judul peopl highest iq ever record sbb',\n",
              " 'penampakan ufo langit california amerika serikat penampakan ufo california selatan',\n",
              " 'kepala sman lamongan akui penuli surat ahok siswinya siswi angkatan alumni',\n",
              " 'luhut melarang ani merombak pejabat dki kewenangan si mantan jendral sengak',\n",
              " 'jne telepon genggam samsung jne telepon genggam samsung',\n",
              " 'uang rupiah bertandatangan menteri keuangan coba perhatikan tanda tangan yg tercantum uang rupiah cetakan yg perbedaan yg prinsip intinya uang rupiah ttd gubernur bi salah deputi bi uang ttd gub bi menteri keuangan uang yg tanda tangannya campur tangan pemerintah yg nggak menteri keuangan ttd uang rupiah uang mencantumkan tulisan negara kesatuan republik indonesia menghilangkan tulisan bank indonesia dicantumkan muka',\n",
              " 'membulli orang membulli orang tafsir al hujurat ayat',\n",
              " 'menandai situ berita palsu mencegah berita bohong hoax tersebar lua keaslian situ berita',\n",
              " 'beredar bendera pki manado manado beredar bendera pki tindakan pemerintah melarang aparat organisasi berlambang palu arit',\n",
              " 'kenaikan tarif tol jokowi dear hater bahan ketawaan baca ya kenaikan tarif tol nov didasarkan mandat undang undang nomor jalan pasal ayat iii pasal kenaikan tarif tol mengalami penyesuaian',\n",
              " 'bisni penjualan fanpag bisni penjualan fanpag',\n",
              " 'pendidikan agama islam bahasa arab ditiadakan sekolah madrasah ra mi mt pendidikan agama islam pai bahasa arab ditiadakan sekolah madrasah ra mi mt parah',\n",
              " 'pria meningg jantungnya kekurangan oksigen masker innalillahi wainnaillaihi rojiun korban gow pake masker td pagi dibelakang citragrand n kol laut didik prasetyo semoga amal ibadahnx diterima allah swt',\n",
              " 'operasi simpatik polri operasi simpatik dilarang berboncengan memutu rantai covid yg melanggar kena tilang bagen surat komplit ngakak njirr',\n",
              " 'akun twitter resmi menteri pendidikan kebudayaan nadimmakarim akun twitter resmi menteri pendidikan kebudayaan menujuindonesiamaju akun dikelola admin',\n",
              " 'info kemk kota zona kune corona info kemk kota zona kune corona medan batam jkt sbi bali manado sediakan masker rumah hand sanit usahakan dl travel',\n",
              " 'wuhan china orang berteriak gak karuan kota wuhan china mencekam orang berteriak gak karuan',\n",
              " 'sex marriag process churh process moment sex marriag churh christian beauti share wipe sweat momen prosesi pernikahan sejeni gereja kristiani indah nya berbagi lap kringet',\n",
              " 'dwayn rock johnson meningg syut dwayn rock johnson meningg dunia usianya gagal aksinya',\n",
              " 'lpg liquifi petroleum ga ditipu isi tabung ga air pria terbakar mengeluarkan air tabung ga padah namanya lpg liquifi petroleum ga',\n",
              " 'ka negara kosong hutang bejibun subsidi rakyat dicabut dijual ka negara kosong',\n",
              " 'klarifikasi bin terkait pesan berantai tokoh pendukung prabowo sandiaga dimonitori aparat tokoh pendukung capr kena motif',\n",
              " 'berhasil meruntuhkan masjid membangun yth ir joko widodo presiden berprestasi dunia berhasil meruntuhkan masjid membangun masjid hahahaha jokowi jokowi',\n",
              " 'pemegang flyer bernama pujiastuti hastasiwi setahu pemegang flyer namanya pujiastuti hastasiwi mantan karyawan sy resign suami pindah bekasi lulusan smea swasta daerah magelang resign th yll usia th',\n",
              " 'nunggak bpj uru sim stnk terkait klarifikasi penduduk mendaftarkan anggota keluarganya tanggal januari dikenakan sanksi administrasi pencabutan layanan publik meliputi',\n",
              " 'klarifikasi bmkg terkait prediksi gempa bermagnitudo tsunami daerah jateng pesan beredar hoak',\n",
              " 'narasi surat kabar negri koran independ observ woooww surat kabar negri memberitakan jokowi tukang ngibul sadiiiiissss',\n",
              " 'cangkem yg suka tereak indonesia pancasila merah putih',\n",
              " 'hoax fpi buka masjidilaqsa hadir misi ustad bachtiar nasir aql fpi ustad acara mou yayasan ihya program palestina',\n",
              " 'klarifikasi rumah sakit cut nyak dien meulaboh terkait isu keluarnya dokter spesiali jantung digaji kemarin dokter spesiali jantung bernama dr kamariah seminggu pergi perginya menguru ijin praktek idi',\n",
              " 'informasi biaya tilang terbaru biaya tilang terbaru indonesia kapolri mantap biaya tilang terbaru indonesia kapolri mantap',\n",
              " 'ditud menculik berat sebelah kasu pt rum kapolr sukoharjo klarifikasi kapolr sukoharjo akbp iwan saktiadi istilah diculik penangkapan menemui keluarganya mahasiswa diculik mohon ditelisik diculik asalnya logika jela surat perintah tuga',\n",
              " 'zuckerberg facebook dirombak setahun facebook dikritik tajam dianggap penyebaran informasi palsu hoax pengguna terpecah belah mantan eksekutif facebook mengkritik media sosial bermanfaat',\n",
              " 'amien rai uang korupsi terima juta amien rai uang korupsi terima juta berharap rakyat memaafkan',\n",
              " 'wakil bupati ciami dukung ahok jakarta kao berlogo palu arit wakil bupati ciami blusukan jakarta selatan utk menagkan ahok wakil bupati ciami pake baju pki',\n",
              " 'marka indonesia mengajar dijadikan basecamp ani pilkada dki marka indonesia mengajar yg beba kepentingan politik dijadikan basecamp ani pilkada dki',\n",
              " 'mahasiswa pekanbaru menduduki gedung dprd riau menuntut pemerintah reformasi jilid mahasiswa pekanbaru menduduki gedung dprd riau menuntut pemerintah reformasi jilid semngat saudaraku berjuang rakyat smpai titik dara penghabisan lengserkan rezim jokowi jogo',\n",
              " 'arti pokemon bahasa syriac yahudi dokumen negara dirampa pasukan amerika serikat kudeta terungkap tindakan terpuji pesan negatif film',\n",
              " 'jokowi memilih helikopt buatan negeri dibandingkan buatan pt dirgantara indonesia inst makelar kaget membaca berita media nasion pembelian hellikopt presiden jokowi berita pt produksi hellikopt jeni ec canggih pemerintah memb helikppt vvip aw produksi italia inggri',\n",
              " 'lowongan kerja komisi pemberantasan korupsi indonesia lowongan kerja komisi pemberantasan korupsi kpk indonesia',\n",
              " 'model baju batik korpri model ni ye yg tertawa perpakaiannya lihat rapi ya takut dosa',\n",
              " 'wapr maruf amin pemimpin berdosa rakyatnya kelaparan wapr berdosa tetangga kelaparan pemimpin berdosa rakyatnya kelaparan',\n",
              " 'info resmi polda diy modu tindak krimin info resmi polda diy modu tindak krimin nama jogya yess',\n",
              " 'korban viru corona korban viru corona',\n",
              " 'sekeluarga kena corona tinggal bintaro sektor namanya nama disensor terkait kenyamanan keluarga korban meningg selasa tgl maret jam kemarin sore serangan corona sekeluarga kena suaminya anak nya diisolasi sektor',\n",
              " 'foto gereja bergamo italia gereja bergamo italia semoga orang italia beristirahat tenang',\n",
              " 'orang bergolongan darah rentan terinfeksi viru corona ng mem l k golong n r h terb l ng leb h j r ng u leb h sed k b nd ngk n deng n ng ng mem l k golong n r h sel n berb c r golong n r h mem ng sesu tu h l ng men r k p lni beber p h l sej uh n ng tel h ket hu tent ng k r kter st k golong n r h n',\n",
              " 'uk shariah kaum pengungsi suriah uk shariah kaum pengungsi suriah ditampung karna kemanusiaan kaum mayorita kristen disana lihat yg',\n",
              " 'surat pemberitahuan pengangkatan pn te honor informasi tenaga honor guru tenaga administrasi kebijakan pemerintah menindak lanjuti rekomend mempan rb bkn pusat honor umur keata diankat pn te berdasarkan kouta kekosongan daerahnya mase mase memenuhi persyrtan ditentukan silahkan konpirmasi lansung dr muh iqbal pengadaan kepangkatan pn bkn pusat wa',\n",
              " 'penjelasan terkait isu ahok antasari azhar dewan pengawa kpk hoak beredar ya media sosial padah uu kpk hasil revisi disahkan diterapkan',\n",
              " 'mengkonsumsi bawang dikupa menyerap kuman viru udara tempatkanlah butir bawang merah dikupa mangkuk tempatkan kamar tidur ruang keluarga ganti terbeba viru bakteri',\n",
              " 'ladi gaga melantunkan surat ad duhaa menghobohkan dunia ladi gaga melantunkan surat ad duhaa',\n",
              " 'arti mat solar meningg dunia innalillahi wainnalillahi rohjiun semoga almarhum bpk h mat solar diampuni dosa dosanya didunia keluarga yg ditinggalkan ketabahan beliau meningg dunia qusnul qotimah',\n",
              " 'irjen pol iza fadri dicopot kapolda sumsel mengimbau shalat berjamaah ya allah hambamu mu yg sholeh beliau copot jabatannya krena himbau sholat berjamaah letak salahnya ya ya rabb smoga kapolda umur kedudukan kapolda aamin prabowopresid',\n",
              " 'kemunculan video matahari terbit diklaim kepulauan riau kemunculan video matahari terbit diklaim kepulauan riau',\n",
              " 'info rekrutmen cpn pemerintah membuka penerimaan cpn daerah sebayak tenaga guru sd smp smu smk orang tenaga kesehatan dokter bidan perawat dll orang tenaga orang',\n",
              " 'anggota mossad israel tertangkap kamera cctv sulawesi perbincangan hangat kalangan intelijen orang anggota mossad israel tertangkap kamera cctv sulawesi agen diduga melatih kelompok terori palsu dilatih brimob infovalid',\n",
              " 'orma projo bantah keluarkan surat aksi kiri super senyap terbiasa menghadapi fitnah beredar media sosial hoax bahasanya karakt penulisannya struktur kalimatnya mudah ditebak pelakunya kader simpatisan projo cerda paham pelakunya gampang ditebaklah ha ha ha',\n",
              " 'menikah suami ceraikan tsamara gara gara pantatnya hitam urusan laporin si pantat hitam pale cepat',\n",
              " 'politisi demokrat rocki gerung gu dur abdurrahman wahid sahabat lekat rockygerung gu dur lupa ucapkan selamat natal memimpin forum demokrasi statement statement gu dur ditunggu berita percaya ghost writer rocki gerung',\n",
              " 'isu imigran nama orang indonesia info nih sdh masuk imigran nama indonesia jagankrikawan',\n",
              " 'klarifikasi terkait kasu perusakan kapel santo zakaria ogan ilir gubernur sumatera selatan alex noerdin perusakan rumah ibadah kapel murni krimin',\n",
              " 'polisi buru orma dalang berita hoak penyerangan ulama polisi buru orma dalang berita hoak penyerangan ulama',\n",
              " 'foto pemakaman gu dur tulisan pengakuan tertunda pengakuan tertunda cekoki buku buku tebal sejarah indonesia merdeka dipaksa menghap pasal uud kesal jengkel padamu sekian puluh sadar terbangun mimpi kalimat reformasi bom bunuh haru akui dirimulah bertahun menimba ilmu sekolah hentinya dicekoki pelajaran peneb nasion pelajaran mencintai bangsa menjaga kedaulatannya ancaman terutamanya komuni',\n",
              " 'pemerintah ngutang bayar bunga utang pemerintah ngutang bayar bunga utang',\n",
              " 'info hoax kebakaran mobil damkar alami kecelakaan tewaskan anggota pemadam innaillahi wainnaillahi rojiun damkar indonesia berduka mewakili rekan rekan pemadam kebakaran kota medan berduka cita ata kejadian menimpa rekan rekan damkar poso',\n",
              " 'kak seto pendidikan karakt disepelekan kekeliruan dunia pendidikan menganggap mata pelajaran sain pent mendiskriminasi budi pekerti akibatnya anak cerda terjerumu narkoba sek beba tawuran korupsi dewasa',\n",
              " 'pria kansa amerika meningg ditembak polisi akibat hoax pemain game call duti gara gara lelucon konyol nyawa melayang kejadian mimpi buruk keluarga korban departemen kepolisian',\n",
              " 'perbedaan netizen jurnali wartawan kementerian komunikasi informatika kominfo menggelar forum dialog publik blogger',\n",
              " 'bantah hoak kominfo registrasi sim murni keamanan bantah hoak kominfo registrasi sim murni keamanan',\n",
              " 'mie instan palsu x sebarkan menyelamatkan ribuan nyawa mie goreng berujung maut himbauan masyarakat dipost muslim berbagi himbauan penduduk mohon bantu sebarkan hati hatilah mengedar mie instan palsu mengancam kesehatan keselamatan anak',\n",
              " 'masjid raya daan mogot kh hasyim asyari berbentuk salib mohon info nya foto masjid daan mogot dibangun bentuk salib',\n",
              " 'menekan tombol lift terjatuh mengaktifkan mekan keselamatannya penyelamatan didalam lift lift terjun terkendali',\n",
              " 'penggiringan opini negatif ata kunjungan kapolda jabar situ gunung padang jabar maaf foto post beredar dimedso sungguh maksud negatif tau persi bahasa tubuh pesan sih penyebaran foto',\n",
              " 'hati hati orang iseng tempel sticker pki mobil hati hati orang iseng tempel sticker pki mobil',\n",
              " 'anak palestina ditembak tentara israel jarak subhanallah anak palestina berlutut memandangi tentara israel yg menembaknya jarak peluru menembusi jantung nya coba lihat wajah syuhada menggambarkan kesakitan',\n",
              " 'munculnya bara api yaman munculnya bara api yaman',\n",
              " 'foto pemakaman korban ledakan beirut heart wrench moment beirut blast victim laid rest today yearn justic seen eye everi famili member left behind rip lebanon beirut victim beirutblast beirutinourheart truthandjust worstyear',\n",
              " 'situ gurubp com kerjaan menteri ojol koplak kerjaan menteri ojol koplak merusak pendidikan moral anak anak',\n",
              " 'foto ribuan mobil impor hangu pelabuhan beirut ribuan mobil impor terparkir rapi pelabuhan beirut dikendarai singkat laksana barang rongsokan yg dimanfaatkan grati seseoran berfikir kera menerimanya',\n",
              " 'foto wapr maruf narasi suka jaga kursi agamanya suka jaga kursi agamanya',\n",
              " 'hindari cito byk karyawannya terpapar covid area cito rawan info hinndari cito byk karyawannya terpapar covid karyawannya sdg isolasi rumahnya menunggu tim medi evakuasi hasil swab positif area cito rawan',\n",
              " 'actor jave haider sell veget work due pandem covid actor aaj woh sabzi bech raha hain jave hyder translat hi actor today sell veget jave haider',\n",
              " 'foto malesiya sapu habi penduduk ase perhatian perhatian malesiya darurat tki tkw yg malesiya termaksud org tua kalin pacar saudara tetanganya harap berhati hati malesiya sapu habi penduduk ase',\n",
              " 'usia ata dilarang masuk mal makan kafe fase new normal pembatasan orang berusia ata era new normal dilarang masuk mal pasar b dilarang makan restoran kafe',\n",
              " 'video pekerjaan pembangunan pltu morowali pekerjaan pembangunan pltu morowali yg tka china ditawarkan kpd pekerja lokal ga yg sanggup bertaruh nyawa dibuka kesempatan kpd warga lokal berani haru dipaksa lihat video',\n",
              " 'tuduhan foto interior lab darurat covid labkesda dki hasil mencomot kebiasaan kadrun nyomot foto bikin hoax',\n",
              " 'akibat salah pergaulan koalisi ayam doro akibat salah pergaulan koalisi kaum ayam kaum doro',\n",
              " 'coretan indikasi male rampok mengincar rumah sekedar informasi pent menemukan tulisan coretan dind tembok tiang telpon sejeni tiang tiang langsung dihapu memblok tulisan coretan indikasi male male rampok mengincar rumah',\n",
              " 'peta sebaran covid wilayah situbondo peta sebaran covid wilayah situbondo',\n",
              " 'foto presiden joko widodo wfh wfh singkatan work home alia kerja rumah see',\n",
              " 'foto penampakan banjir terjang kawasan kota kalimantan banjir terjang kawasan kota sekolah diliburkan jokowi bertobatlah rusak kalimantan untungkan orang sejahterakan rakyat pindah kota boro kasian rakyat dibawah ekonomi sulit',\n",
              " 'foto ani baswedan membaca buku pedoman menata kota pantesaann',\n",
              " 'diinformasikan gudangnya terendam banjir tokopedia nyatakan vp corpor commun tokopedia nuraini razak informasi gudang partner tokopedia layanan fulfil tokocabang terkena banjir',\n",
              " 'foto jokowi pakai kao bertuliskan aica aibon ahh pakd ajah pakd kaosnya presidenku',\n",
              " 'kecewa kader nu jadikan menteri agama pbnu doakan jokowi kualat nu penguru tokoh berkualita mengisi po menteri agama jokowi beba memilih kader nu ulama nu presiden jokowi kualat',\n",
              " 'video berjudul inalilahiwainairojiun meningg dunia bpk wiranto selamat jln bpk wiranto inalilahiwainairojiun meningg dunia bpk wiranto selamat jln bpk wiranto',\n",
              " 'video potongan kanker menjauhi bawang putih mendekati ema potongan kanker dikeluarkan tubuh pasien kanker makhluk hidup didekatkan bawang putih menjauh dikasih ema mendekat panta kalo tubuh beranak memakan darah dage',\n",
              " 'klarifikasi terkait kabar petuga kpp way kanan lampung tewa ditikam melerai keributan tim caleg sukardi simpatisan pk meningg melerai keributan tim caleg',\n",
              " 'video grace natali ajak warga makan babi seruan ketum psi habi nyoblo makan babi',\n",
              " 'prabowo mengeluarkan kalimat merendahkan kaum miskin indonesia lihat video prabowo mengeluarkan kalimat merendahkan kaum miskin indonesia',\n",
              " 'kelompok mahasiswa cipayung plu terima uang bin mengkritisi dukung jokowi maruf amin assalammualaikum ma mohon maaf mengganggu bantuan ma joko kemarin ngetwit suap kepala bin orma mahasiswa pb hmi pmii gmni gmki pmkri imm hikmabudhi kmhdi mase orma rp juta ketua pb mase rp juta orma mahasiswa ata nama organisasi mengkritisi oposan pemerintahan jokowi minim okt samp haru membawa nama organisasi mendeklarasikan orma relawan jokowi bernama madani orma relawan sdh dibentuk ketum pb berkantor tebet kantor bm pan harga sewa kantor rp juta langsung dibayar cash oknum bin biaya op tahap utk madani rp miliar sdh diserahkan ka bin menanggung biaya deklarasi relawan madani',\n",
              " 'kpu bantah informasi menyebut kemarin bata pengecekan daftar pemilih pilpr pengecekan daftar pemilih',\n",
              " 'dorc bantah menud ratna sarumpaet transgend mengumbar aib ya dosa',\n",
              " 'papua indonesia fakta hoak dipegungan himalaya swi kanada papua indonesia',\n",
              " 'bem ri tega hentikan pencalonan jokowi pilpr demo mahasiswa bro demo dibayar rb bem ri tega hentikan pencalonan jokowi pilpr aliansi menilai kondisi negara indonesia memprihatinkan gantipresiden',\n",
              " 'pesan brimob sweep ojek onlin wilayah jakarta selatan hindari wilayah selatan blok mampang buncit ampera kemang cipet fatmawati raya lott mart pemberitahuan langsung keseluruh bc grup komunita situasi selatan kondusif malam menghindari sweep brimob ojol mampir area diata jam order area tolong attribut ojol dilepa base camp kemang dharmawangsa bangka vakum situasi kondusif',\n",
              " 'pelemparan al quran mako brimob viral oknum brimob salah sipir densu melempar al quran kitab kitab hadist',\n",
              " 'press statement pt global jet express oktob press statement pt global jet express oktob pelanggan j express masyarakat indonesia hormati menerima masukan acara custom gather gelar senin oktob',\n",
              " 'umat budha indonesia diam kekerasan menimpa suku rohingya myanmar umat budha indonesia diam kekerasan menimpa suku rohingya myanmar',\n",
              " 'tulisan ustadz felix siauw habib rizzieq ustad felix siauw bingung kesalahan habib roziq yg pale pondament negara kompak membencinya kalo krn politik partai kalo krn urusan ekonomi ekonomi yg rusak',\n",
              " 'ahok bohong pengadaan unit busway karoseri lokal ahayyyi ahok bohongg bilang pengawasan unit bu way karoseri lokal lokal pale lo peyang scania volvo marcedez ben zhong thong karoseri lokal',\n",
              " 'gambar anak allepo terlantar beredar gambar anak bersandar pembata jalan klaim aleppo suriah gambar dibagikan ribu kali',\n",
              " 'dihina presiden lebanon turki kirim bantuan kali dihina presiden lebanon turki kirim bantuan kali',\n",
              " 'solusi honor maruf amin guru maklumi gaji imbalan surga iya aja dech mbah yai ngomong percaya musyrik ndak percaya katain radik hidup negeri simalakama pemirsa',\n",
              " 'palestina dihapu googl peta dunia sibuk jessicajan mufc de gea tau palestina hapu googl dr peta dunia sob',\n",
              " 'jokowi korupsi triliun wabah corona rakyat dipertontonkan perbuatan mega korupsi triliun rezim jokowi ditengah bencana covid memanfaatkan situasi bencana pemerintah mengambil paksa dana desa rp triliun stock belasan triliun dimiliki bnpb badan nasion penanggulangan bencana habi dibagikan rezim jokowi jalan pemerintah menambah pundi pundinya memperkaya ditengah bencana kemanusiaaan covid',\n",
              " 'surat edaran walikota palembang viru corona surat edaran nomor huk dink tindak pencegahan penyebaran corona viru disea covid kota palembang',\n",
              " 'wn tiongkok masuk sultra orang pekerja kepala kantor perwakilan kemenkumham sultra sofyan mengonfirmasi tka china bandara haluoleo kendari minggu tka berangkat china tka berangkat jakarta',\n",
              " 'bendung walahar meluap jati luhur penuh bendung walahar air nya meluap yg karawang buka infonya jati luhur udah penuh udah gk menampung walahar kiriman air bandung infonya mohon hati siaga skitar karawang info bpbd karawang pintu air curug buka air meluap skiratan purwakarta karawang siaga',\n",
              " 'sake takutnya viru corona orang cina islam sholat arahnya kemana sake takutnya viru corona orang cina islam sholat ikutan arahnya kemana',\n",
              " 'legenda hello kitti bera gadi penderita kanker mulut hello kiiti bahasa china halo ibli legenda hello kitti hello kitti diciptakan wanita memiliki anak perempuan berumur diagnosa menderita kanker mulut dokter sang kondisi putrinya parah menemukan obatnya lakukan menolongnya',\n",
              " 'foto nenek dipukuli babak belur mencuri jagung kelaparan mencuri jagung kelaparan nenek dipukuli babak belur',\n",
              " 'post yogyakarta pasca bentrokan prppb asalan klarifikasi pengepungan mahasiswa papua asrama mahasiswa papua yogyakarta tanggal juli ma hsuf bukti kontek sumber nih kasih',\n",
              " 'papua kibarkan bendera yahudi israel mengibarkan bendera bintang kejora papua kibarkan bendera yahudi israel miri yaa lihat dek mpud',\n",
              " 'zioni israel menebar viru aid pembalut wanita kabar duka umat islam nandang burhanudin wartawan palestina membocorkan strategi pemerintah zioni israel menebar viru aid disetiap pembalut wanita',\n",
              " 'beli aqua menyumbang misionari kristen beli aqua menyumbang misionari kristen',\n",
              " 'foto perempuan indonesia berhijab foto perempuan indonesia berhijab tersimpan rapi perpustakaan leiden belanda kelahiran kartini',\n",
              " 'suhu pana kuwait melelehkan mobil lampu lalulinta kuwait record temperatur world record earth saturday said newspap al qaba see level destruct cau due recordhightemperatur',\n",
              " 'ajakan aksi bertajuk puncak aksi akbar terbesar kemenangan prabowo subianto sandiaga uno mari rapatkan gerakan juni juni prabowo subianto sandiaga salahuddin uno presiden wakil presiden ri',\n",
              " 'baliho cinesia timur sakti bertuliskan bahasa cina bandara haluoleo kendari nkri merdeka sdh kali pergantian presiden semenjak jokowi presiden kali baleho china terpampang bandara haluoleo kota kendari',\n",
              " 'cawapr sandiaga uno berfoto romi sel penjara yg ngaku berteman ama ahok gak jenguk ahok kedlm selnya skrg ngaku berteman ama romi blm menjenguk romi sih dibohongi kali sakit rela dibohongi kali org gila yg kuat org kuat silakan yah',\n",
              " 'kepolisian angkat bicara terkait foto kompak penonton acungkan salam jari milleni road safeti festiv direktur lalulinta komb pol wibowo liat foto tersebar medso menduga foto hasil rekayasa panggung kegiatan digelar polr serang kota acara mrsf foto',\n",
              " 'info pembagian kursi roda grati palembang teman teman kalo tetangga keluarga berdomisili kota palembang kategori membutuhkan kursi roda tongkat ketiak tongkat tuna netra alat bantu dengar silahkan mengajukan permohonan dina sosial kota palembang jl merdeka',\n",
              " 'waspada indikasi nyata pki bangkit info mohon kroscek yg ak tkp waspada indikasi nyata pki bangkit',\n",
              " 'memasak popcorn ponsel trik memasak popcorn ponsel tahukah radiasi ponsel berbahaya tekan call ponsel sembarang nomor letakkan berdekatan jagung mentah lihat jagung matang popcorn akibat radiasi ponsel silahkan coba rumah',\n",
              " 'bmkg alat pendeteksi tsunami selat sunda hilang barbar peopl hilang alat pengukur gelombang aru',\n",
              " 'warga malang dihebohkan penemuan alat kejut dianggap bom kepolisian penjelasan kasatreskrim polr batu akp anton widodo dikiranya bom benda kabel kabelnya bom alat getar pelangsung',\n",
              " 'kena gangguan jiwa le berkunjung rumah sakit membezuk anak teman sakit teman wanita karir lulusan universita ternama',\n",
              " 'whatsapp dipilih mengambil survei singkat gb koneksi internet grati',\n",
              " 'mca trial check server kpud semarang waspada terlacak mca byk ip address china terkoneksi server kpu pusat trial jam berbeda ujicoba terulang spt kecurangan kasu pilpr yg paham mari rapatkan barisan perang',\n",
              " 'kementerian negeri klarifikasi anak anak wni ditahan australia kementerian negeri klarifikasi anak anak wni ditahan australia',\n",
              " 'sudirman said sembahyang semoga demo berjilid jilid ssst pk sudirman said sembahyang vihara diganggu demo',\n",
              " 'pria dander bojonegoro meningg akibat hp tlg bantu share nya pelajaran pria dander bojonegoro meningg akibat hp mendengar musik pakai handset hpnya charg ketiduran aru listrik masuk telinga sekujur tubuhnya kulitnya meletup letup membentuk lubang tubuh nya lagii hp charg sepent apapun keadaannya mengancam keselamatan',\n",
              " 'ngeri jembatan suramadu diterjang ombak ngeri jembatan suramadu diterjang ombak',\n",
              " 'impor senjata api polri impor senjata api polri',\n",
              " 'zara zettira pemilik ak sistem kpu legal ileg mempengaruhi terpilih presiden ri zara zettira pemilik ak sistem kpu legal ileg mempengaruhi terpilih presiden ri',\n",
              " 'minum posisi berdiri timbulkan sakit batu ginjal minum air posisi duduk sehat minum air berdiri minum air berdiri salah penyebab batu ginjal',\n",
              " 'menyukai hoax kabar bohong menyukai hoax kabar bohong riset robert feldman psikolog univ massachusett kebohongan memiliki keterkaitan kepercayaan kepercayaan terancam mudah berbohong riset feldman dimuat journal basic appli psycholog persen orang diriset feldman berbohong perbincangan internet kerap menambahi kabar kebohongan menghasilkan hoax berantai',\n",
              " 'ratna sarumpaet ahok maju via jalur independen rela menari bugil mona ratna sarumpaet ahok maju via jalur independen rela menari bugil mona',\n",
              " 'info lowongan kerja puskesma marganada info lowongan kerja puskesma margadana',\n",
              " 'wear mask cau pleurisi wear mask cau pleurisi',\n",
              " 'video pesepeda masuk pantai indah kapuk haru pakai paspor negara negara pantai indah kapok masuk pakai sepeda haru pasport fokusstopruuhip fokusstopruuhip',\n",
              " 'petinju manni pacman hadiah pandemi bangsa daftar rumah dapatkan hadiah menit menerbitkannya membantu orang sumringah viru corona mencegah orang pilih huruf nama menerima hadiah pilih lakukan iman',\n",
              " 'metrotv akui ani presiden ri stasiun televisi nasion metrotv mengakui ani baswedan gubernur dki jakarta presiden ri tek headlin berita berjudul presiden tinjau kesiapan kenormalan program selamat pagi indonesia padah situ gambar ani baswedan diwawancarai',\n",
              " 'foto antek china niee sumbangan apbd dki sekarat ciek ciek antek china niee sumbangan apbd dki sekarat ayoo buli jgn diam aja gue kadrun ngomong hoak editan bla bla',\n",
              " 'akibat pandemi covid keluarga makan kabar keluarga jl rawa cangkuk iii medan denai pasangan suami istri anak makan tinggal disebuah kontrakan sanggup bayar kontrakan diusir pemilik kontrakan si akibat pandemi covid memiliki pekerjaan beliau pulang pulang kerumah mencari uang si pergi mencari kerja tinggal orang anak makan warga dibelikan bungku nasi anak sesak nafa warga membantu keluarga langsung salah anak menyisihkan bungku nasi memakan bungku nasi dimakan orang bungku disimpan malam salah anak si pulang membawa uang ribu rupiah warga berupaya patungan terkumpul ribu rupiah pemerintah haru tanggap kepl blom upaya membantu merekomendasikan warga berdampak covid perhatian warga kekurangan keluarga beram dibulan puasa silahkan berkoordinasi hubungi nomor hp ata nama paseh salah tetangga perduli',\n",
              " 'pembegalan jalan bango cilandak hati hati jln tol sekitaran jlnn bango cilandak jam sore begal korban ny tetangga gw',\n",
              " 'italia mengumumkan penyerahannya italia mengumumkan penyerahannya perdana menteri kontrol hilang penyakit menular membunuh bantuan bumi',\n",
              " 'tanggal april aktivita berhenti total ayo kompak melawan viru serempak indonesia berhenti total viru dipindah kecuali dipindahkan jam dipindahkan viru mati pelaksanaan april',\n",
              " 'gambar sampul koran tempo gotong royong melawan viru corona gotong royong melawan viru corona giliran koropsi diem diem',\n",
              " 'prose bera plastik prose bera plastik hati hati dlm memb bera',\n",
              " 'ibli masuk daftar hitam ibli masuk daftar hitam min aung hla panglima kejahatan myanmar haru diadili berkeliaran beba genosida rohingya kejahatan perang kelompok etni perintahnya lihat wajah lihat',\n",
              " 'penjelasan kpk terkait beredarnya informasi rekrutmen palsu terkait surat kpk mengeluarkan surat melaksanakan kegiatan rekrutmen pegawai',\n",
              " 'malam jam bbm tanggal agustu malam jam bbm premium rp pertalit rp pertamax rp bio solar rp dexlit rp mohon sebar luaskan temen famili sahabat',\n",
              " 'rakyat sederhana melawan rakyat sederhana melawan prabowo menghinakan tampang tampang warga boyolali panggung kampani marah',\n",
              " 'dibuang sajaa cek tangkapan layar',\n",
              " 'aniesdimana asiik nih nie aniesdimana asiik nih nie loe dimana',\n",
              " 'tentara merah rrc pluit jkt tentara merah rrc pluit jkt bahaya melanda negri ku',\n",
              " 'keren lupa keren lupa',\n",
              " 'dana bantuan buku tabungan bodong renovasi rumah korban gempa lombok buku tabungan masyarakat korban gempa lombok utk merenovasi rumahni uangnya tuh alia',\n",
              " 'foto foto mahasiswa dianiaya polisi diliput media mahasiswa perjuanganmu sia sia engkaulah pejuang rakyat',\n",
              " 'omongan bin masak ngak diperhatikan omongan bin masak ngak diperhatikan ngeri ngeri sedap gimana ya mengerikan bin gagasan khilafah hidup pendukung gantipresiden ml',\n",
              " 'pemelintiran kontek pidato prabowo rampok tetanggamu kesusahan rampok tetanggamu kesusahan',\n",
              " 'pemberlakuan tilang elektronik pemantauan cctv pemerintah kota manado agustu melinta dijalanan kota manado',\n",
              " 'video salat berbahasa indonesia kursu salat',\n",
              " 'bksda klarifikasi penampakan harimau sumatra agam sumatra barat kepala bksda sumbar erli sukrismanto berdasarkan tinjauan tim lapangan harimau menampakkan melukai hewan ternak dilaporkan warga warga ekor harimau jalan jalan kejauhan ganggu apapun ngamuk melukai kerbau terang erli',\n",
              " 'klarifikasi pt wijaya karya terkait kabar ambruknya proyek tol manado bitung klarifikasi konstruksi runtuh overpass ak jalan tumaluntung melinta ata lokasi rencana jalan tol manado bitung underpass',\n",
              " 'foto e ticket nama rizieq shihab foto e ticket beratasnamakan mohammad rizieq syihab penerbangan bandara internas king abdulaziz bandara internas soekarno hatta',\n",
              " 'penemuan senjata kelompok syiah goa husainiyat pemerintah pakistan menemukan gudang persenjataan kelompok syi ah gua dibawah husainiyat yg terletak disebelah barat laut pakistan',\n",
              " 'foto jokowi berkati pendeta max ebe ministri jokowi berkati max ebe ministri',\n",
              " 'stiker call center mesin atm rekam pin kura saldo tabungan info bank indonesia reken bank mandiri bank bni bank bca ambil uang atm atm stiker call mandiri dgn telp masukkan kartu atm cabut stiker stiker merekam pin berisi program mengura saldo reken dlm mesin atm',\n",
              " 'hujan es tol cipularang hujan es tol cipularang',\n",
              " 'judul berita liputan cerita megawati kali bertemu pendiri nu judul berita liputan cerita megawati kali bertemu pendiri nu',\n",
              " 'penangkapan gengster jatiwaringin lenteng agung peran polisi penangkapan gengster jatiwaringin lenteng agung peran polisi',\n",
              " 'sri mulyani indrawati sedih rp triliun anggaran kemendikbud habi hasil tercapai sri mulyani indrawati sedih rp triliun anggaran kemendikbud habi hasil tercapai',\n",
              " 'kominfo blokir situ mengandung unsur sara kominfo blokir situ mengandung unsur sara',\n",
              " 'pemerintah mengatasi bencana asap pemerintah mengatasi bencana asap',\n",
              " 'narasi foto islam nusantara sholat berlatar salib islam nusantara nabinya ya tuhannya yesu ya teru kitabnya kitab stensil',\n",
              " 'uang kerta tulisan arab wajah uang kerta renungkanlah',\n",
              " 'video selasa juni aksi mahasiswa jakarta tuntut jokowi turun presiden selasa juni aksi mahasiswa tuntut jokowi turun presiden',\n",
              " 'dr ir hj sri nurdiati dekan fmipa ipb rahasia imunita tubuh dr ir hj sri nurdiati dekan fmipa ipb dosen biokimia ipb orang nggak sadar antibodi stoknya haru orang panik masker hand sanit hilang pasaran panik antibodi hilang tubuh viru dihindari',\n",
              " 'program mudik sehat psbb big bird program mudik sehat psbb big bird',\n",
              " 'warga dijamu gubernurnya suka photo dimana warga dijamu gubernurnya sabar ya semoga bergiliran kebagian',\n",
              " 'call servii homecredit id homecredir pusat bantuan akun instagram offici home credit home credit indonesia offici kamubisa',\n",
              " 'indonesia narapidana dibebaskan wabah covid suruh narapidana dibebaskan dinegara klau kmbali lapaa kaya nonton sinetron indosiar z',\n",
              " 'luhut perintahkan tni polri tangkap pemda tutup bandara luhut panglima tni kapolri kawal bandara ditutup pemda tangkap melawan ajar pemerintah pusat',\n",
              " 'mahasiswa uni positif corona mbak sampaikannk kla kelompok putra steril kampu mlathn mandiri minggu viru corona masuk uni orang positif hati hati jabat tangan cipika cipiki sapak mbak',\n",
              " 'video drone berondong rombongan jender qud iran qaseem soleimani yg perang dunia ketiga zuey video drone berondong rombongan jender qud iran qaseem soleimani zuey yg perang dunia ketiga',\n",
              " 'said aqil bernama asli made wiryawan saidi beragama hindu bera lombok info kawan kota bali kawan bilang jumpa made namanya said aqil siraj suka pake peci imbuhnya selidik selidik sa nama asli made wiryawan saidi beragama hindu pulau lombok yg memiliki saham kota bali kawan terkejut beragama hindu percaya menguru nu gerombolannya si corneliu nuril abu janda gu guntur masukkan nu megawati',\n",
              " 'kominfo bantah akun situ porno pornhub rili resminya kominfo akun konten apapun situ pornhub kominfo mengklaim berkoordinasi direktorat tindak pidana siber bareskrim polri prose penegakan hukum kominfo mengirimkan surat elektronik email pengelola situ pornhub keberatan penggunaan nama kementerian logo kominfo situ',\n",
              " 'aplikasi dana buatan china memiliki nama asli alipay renungkan alipay buatan china banggakan indonesia paypal buatan amerika agungkan indonesia worldpay buatan inggri junjung indonesia paytren buatan indonesia akui pemerintah republik indonesia bangsa masyaraktnya kebanyakan gak paham visi misi besarnya bangsa indonesia dijajah ekonomi bo',\n",
              " 'pesan larangan kendaraan plat ad solo jogja selamat sore sedulur rangka pertandingan sepak bola liga psim lawan persi solo senin tgl mandalakrida jam wib utk menjaga keselamatan yg yg motor mobil plat ad dibawa masuk kota yogykarta',\n",
              " 'keparat aparat perbedaannya pemimpin arahan anak buahnya keparat aparat b',\n",
              " 'cover majalah tempo edisi septemb direvisi maksudnya majalah tempo yng kemarin menghina simbol kenegaraan dn sekrang dignti kaum bani cingkrang allah w mbonten sare',\n",
              " 'hoak surat pendataan pembangunan kota catut bppt ya palsu kop surat tanda tangan tanda tangan',\n",
              " 'foto kader perempuan pk atribut tambahistri wanita pk setuju poligami doktrin kah',\n",
              " 'keluarga gusdur mendukung penuh calon presid keluarga gusdur mendukung penuh calon presid',\n",
              " 'kemenag bantah edaran surat guru madrasah wajib melengkapi data beredar surat menginformasikan lengkapnya data guru sekolah madrasah negeri swasta media sosial surat pengirim mengatasnamakan kementerian agama kemenag ri modu mengambil data pribadi disalahgunakan',\n",
              " 'tangkapan layar post page antaranew hasil suntingan khusu pasangan mardani ali sera neno warisman keselek wagub nantang lho berani gak',\n",
              " 'dikabarkan mundur ksp moeldoko klarifikasi dikabarkan mundur ksp moeldoko klarifikasi',\n",
              " 'gempa susulan bali wib mohon share kpd tmn info dr bmkg gempa susulan bali malam dprediksikan lbh wib',\n",
              " 'ratusan ton narkoba masuk indonesia pembiayaan terori faham maksud ratusan ton narkoba yg china gantipresiden',\n",
              " 'isu isu media penyebaran hiv aid isu isu media penyebaran hiv aid',\n",
              " 'pengamat media sosial hoax positif ya hoax positif nggak hoax positif hoax berita bohong informasi palsu nggak positif positifnya',\n",
              " 'gambar dpo palsu bergambar rizieq shihab beredar postingan gambar dpo daftar pencarian orang ata pimpinan front pembela islam fpi rizieq shihab mengata namakan huma polda metro jaya',\n",
              " 'al quran dirobek sidang ahok al quran disobek dibuang jln sidang ahok mungutin samp nangi jumatbarokah',\n",
              " 'pegawai honor k meningg dunia demo istana innalillahi honor k meningg istana',\n",
              " 'harun yahya salah pionir hoax umat islam harun yahya salah pionir hoax umat islam',\n",
              " 'canada alreadi free covid canada covid free hope philippin next lose hope god heal',\n",
              " 'foto maruf amin nggak ngapa ngapain nggak ngapa ngapain',\n",
              " 'wanita haid kali lakukan berhati hati wanita haid share wanita pria menerima tolong teruskan wanita wanita haid kali lakukan',\n",
              " 'ani mendungui warga buka suara reklamasi ancol ani melindungui warga banjir',\n",
              " 'video remaja terkena tiktok syndrom astaghfirullah remaja terkena tiktok syndrom ga kontrol gerakan badannya banyakan main tiktok',\n",
              " 'dapur masak nasi anj terbakar langsung bayar tunai allah dapur masak nasi anj terbakar gosong tiang jemurannya',\n",
              " 'pt hebat milik kaesang anak jokowi kemenkop rp utk pelatihan ukm pt hebat milik kaesang anak jokowi kemenkop rp utk pelatihan ukm',\n",
              " 'china bener jahat mengirim baju bundl pakaian beka pakai orang yg mati akibat viru yaa allah china bener jahat mengirim baju bundl pakaian beka pakai orang yg mati akibat viru jgn beli barang dr china',\n",
              " 'efek kejut ciri kha gubernur angka mayat mark efek kejut yg terbaru ciri kha gubernur gue ntar yg dipecat penggali kubur yg salah kasi informasi angka mayat aza berani mark gak kapok nya coba',\n",
              " 'alcohol drink reduc risk infect coronaviru novel covid exten research find show consum alcohol beverag may help reduc risk infect novel coronaviru covid vodka recommend drink clean sanit',\n",
              " 'te sederhana mengen viru corona sepuluh detik te sederhana mengen viru corona sepuluh detik urusan dokter laboratorium',\n",
              " 'foto merobek membakar kencingi al quran wanita langsung azab allah tatapan dingin wanita muda buku bersampul biru berukuran buku saku al qur berlatar bendera slovakia kawasan',\n",
              " 'air nana pana sembuhkan kanker sebarkan cinta nana pana membunuh sel kanker potong serpihan nana tipi secangkir tambahkan air pana air alkali minum air nana pana melepaskan zat anti kanker kemajuan terbaru pengobatan kanker efektif bidang medi',\n",
              " 'mengundurkan emang yg sanggup membangun indonesia mengundurkan emang yg sanggup membangun indonesia',\n",
              " 'warga madura potong tangan pelaku kecurangan mencoblo surat suara pemilu warga madura potong tangan pelaku kecurangan mencoblo surat suara pemilu bukti qisho yg main coblo surat suara dicoblo masyarakat madura memotong tangan pelaku',\n",
              " 'habib rizieq shihab serukan coblo jokowi video sumber berisikan konten habib rizieq shihab menyerukan mencoblo jokowi',\n",
              " 'kinerja jokowi bikin ua jatuhkan pilihannya portal dare jakarta sikap ustad abdul somad ua menyusul tuan guru bajang tgb mendukung jokowi melanjutkan jabatan presiden ri kinerjanya',\n",
              " 'arti agnez mo meningg akibat dibunuh rumah agnez mo ditemukan tewa salon',\n",
              " 'taman impian jaya ancol bantah menggratiskan tiket masuk oktob kedepan jela hoax',\n",
              " 'tokoh gereja bekasi bantah perjanjian cawalkot rahmat effendi haru diluruskan merugi',\n",
              " 'calon gubernur sulawesi selatan nurdin halid bertemu komis kpud diam diam panik pelbagai menjatuhkan nh aziz menyebarkan berita bohong hoax sumber informasinya jela dipertanggungjawabkan juru bicara nh aziz muhammad nasir rabu',\n",
              " 'prabowo bantah ditawari rp triliun cawapr jokowi informasi nggak ketua partai gerindra prabowo subianto minggu kemarin',\n",
              " 'pembangunan bangunan kuliah akademi komunita negeri terkait kepentingan agama pembangunan bangunan kuliah akademi komunita negeri terkait kepentingan agama',\n",
              " 'ibadah gereja hkbp filadelfia bekasi diganggu speaker gk bgini jg urusan surga neraka pribadi mase mase tkp bekasi jawa barat indonesia muslim terzolimi media media membaha sprti terzolimi hni kasu buni yani rt',\n",
              " 'toyota kadal meluncur april namanya toyota kadal launch april otr jabodetabek rp semoga mari bergabung http bit ly vnltfk',\n",
              " 'tolak radik rizieq shihab diusir raja salman arab saudi tolak radik rizieq shihab diusir raja salman arab saudi',\n",
              " 'waspada dokter palsu pki tularkan hiv aid jarum suntik waspada dokter palsu pki tularkan hiv aid jarum suntik',\n",
              " 'panadol p tisu basah dikeraskan akun facebook si pengguna panadol p terbuat tisu basah dikeringkan dibentuk menyerupai pil beredar tepatnya februari isu merebak seir berjalannya statusnya lupa bertanggung mencantumkan gambar panadol paracetamol video klaim beli ambil panadol tisu basah dikeraskan terkena air sehelai tisu membalut tali perut',\n",
              " 'editan poster acara jakgram menunjukan jari editan poster acara jakgram menunjukan jari',\n",
              " 'foto pembantaian pembakaran umat muslim myanmar pindah agama pembantaian umat muslim myanmar dibakar pindah agama mudah masuk surga',\n",
              " 'pencitraan shaf sholat padang dimundurkan uji nyali rakyat minangkabau cie cieee coba ngrayu nih yeee te nyali urang minang',\n",
              " 'jokowi maaf pki keluarga pki jokowi maaf ek pki anoth test water',\n",
              " 'bendera israel burj khalifa dubai unit arab emir bendera israel burj khalifa dubai unit arab emir uae era sejarah perdamaian timur',\n",
              " 'lelang onlin pt pegadaian sahabat pegadaian bilang pegadaian penjualan barang jatuh tempo onlin meningkatnya nasaba pengadai pitur pitur nasaba pegadaian sere antri memutuskan barang jatuh tempo jual cepat sistem onlin sistem pengiriman',\n",
              " 'pau jeni nun terdampar pantai nunhila sore selasa juli pantai nun hila kupang terdampar seekor ikan pau jeni nun jeni pau menelan nabi yunu',\n",
              " 'megawati anak pungut soekarno rachmawati bungkam mu lut mak banteng ruu bpip bilang megawati bicara pancasila anak pungut sukarno',\n",
              " 'survei masyarakat publikasi data bnpt survei masyarakat publikasi data bnpt',\n",
              " 'artikel makzulkanjkwbubarkanpdip trend ruu hip ditud ide megawati makzulkanjkwbubarkanpdip trend ruu hip ditud ide megawati',\n",
              " 'gubernur kalbar memakai sepatu masjid apepun pangkat jabatanmu dibenarkan memakai sepatu didalam masjid',\n",
              " 'pesepeda meningg mona akibat kehabisan oksigen memakai masker bersepeda memakai masker keterangan nya menarik napa mengambil udara menghembuskan napa mengeluarkan co udara kelebihan kadar co tubuh berbahaya bersepeda exerci cepat menanjak kebutuhan bertambah frekwensi napa nadi meningkat memakai masker rebreath arti co terisap mengakibatkan nya kadar co darah mengakibatkan keracunan salah gejalanya puse mual latihan pk masker kenaikan co keracunan nya bersepeda zaman covid pergilah sepi udaranya besih masker dibawa dipakainya kalo istirahat ketemu teman',\n",
              " 'smkn jakut memasang foto presiden jokowi kadrun binti kadal gurun memasang foto presiden jokowi smk negeri druuuuun smk nenek loe druuuun',\n",
              " 'pilkada sumenep digelar rakyat sumenep menentukan',\n",
              " 'negara membuang jenazah pasien covid laut countri throw covid infect dead bodi sea stop eat seafood realli disgust ridicul act',\n",
              " 'jokowi sengaja bedakan mudik pulang kampung mengelabui viru corona strategi ampuh',\n",
              " 'pesan berantai cipularang longsor km kanan kiri jalan jalan terancam putu longsoran cipularang longsor km kanan kiri jalan jalan terancam putu longsoran yg plg bandung pd bs share kabar terkini',\n",
              " 'video pasien kabur ditangkap secur duga membayar tagihan pasien kabur salah rs kawasan grogol yaelah secur nya galak bener ya orang sakit tampol',\n",
              " 'muncul isu seputar penculikan anak kepolisian sidoarjo paastikan kapolresta sidoarjo komb pol zain dwi nugroho beredarnya kabar petuga langsung klarifikasi hasilnya peristiwa dikabarkan',\n",
              " 'mahfud md jemput guru biar jemput hr ketua dpr puan maharani berencana menghubungi menko polhukam mahfud md membaha pencekalan imam fpi habib rizieq syihab mahfud mengaku berbicara puan',\n",
              " 'foto pelaku penusukan wiranto dukun pribadinya jokowi kerjaan buzzer jkwi rajin sholat smpe jidat item trnyta pelaku penusukan dukun pribadinya jokowi wkwkkwk aktingnya ketahuan besok bikin akt lg kmren ninoy skrg penusukan wiranto hhh klo bener terori yg enak langsung pake bom ngapain pake pisau pisau ninja tuh jngan pisau buag potong pisangku digerai anak presiden',\n",
              " 'bank bumn suntikkan modal bank muamalat mengemuka bank muamalat disuntikkan dana bank badan usaha milik negara bumn ata beredarnya isu bank negara indonesia bni bank mandiri bank rakyat indonesia bri bantahan menyuntikkan dana bank muamalat',\n",
              " 'foto prose produksi mobil esemka buka matamu lebar lebar prett prose produksi mobil esemka',\n",
              " 'visa beba dijadikan sarana rakyat china indonesia cari pekerjaan investasi visa beba tlh dijadikan sarana rakyat china indonesia cari pekerjaan sdh yg ktp pernyataan aviliani semoga menyadarkan bhi yg dihadapi juta pengangguran tiongkok merangsek indonesia',\n",
              " 'klarifikasi dink terkait informasi ramuan minyak tanah mengobati penyakit asam urat kolesterol tekanan darah begni mengobati penyakit asam urat kolestrol tekanan darah bahan yg',\n",
              " 'saksi prabowo sandi ppk amalatu mati diteba lehernya putu innalillahi wa inna ilaihi roji un meningg dunia saudara ade samsul hehanussa saksi pa ppk amalatu maluku',\n",
              " 'segerombolan wna cina berseragam tentara bersenjata kalimantan utara masyarakat indonesia disibukan dgn ricuh pemilu info tentara cina sdh masuk daerah apung vidio direkam masyarakat apung diam dr rumahnya mohon dicek tni',\n",
              " 'bukti kecintaannya nkri harga mati kabar gembira nih sobat zina feminist laknat',\n",
              " 'kolom agama kosongkan viralin biar masyarakat tau sungguh miri negeri ktp agama kepercayaan ketuhanan yme terbit',\n",
              " 'alat bantu de canggih alat bantu de canggih banget ya kerenn',\n",
              " 'panglima tni salam jari biarkan cebong bunuh panglima tni salam jari biarkan cebong bunuh hahaha laporkan tuh bong',\n",
              " 'aplikasi game talk angela berbahaya anak anak meresahkan orang tua',\n",
              " 'bangkai km sinar bangun ditemukan bangkai km sinar bangun ditemukan',\n",
              " 'nkri harga mati nkri harga mati menuduh cinta nkri penista agama dipenjarakan',\n",
              " 'heineken bir grati rangka ulang heineken grati barel liter bir klik http heineken com xxxxx sebarkan pesan',\n",
              " 'kk nik dipakai orang waspadalah bingung speechless http www jpnn com kemenpan news kk nik dipakai orang waspadalah page',\n",
              " 'zulkifli hasan fraksi dpr dukung lgbt jaman nilai nilai diagungkan akhlakul karimah masyaallah dpr ramai lgbt kampung orang selingkuh aib diakui negara laki laki pacaran laki laki coba bayangkan diam perempuan perempuan dpr keputusan mk kemarin uu pornografi dibaha bayangkan partai nggak',\n",
              " 'malu ani baswedan claim kemegahan stadion gelora karno idenya malu ani baswedan claim kemegahan stadion gelora karno idenya',\n",
              " 'dimana tni polri isu komun pki massa menolak seminar pki',\n",
              " 'membumikan bikini selfi btw revolusi mental pancasila ala jokowi membumikan bikini selfi woman use bra panti ok ok aja selfi mr presid kasih tau icon negara owi namanya klo aurat agama haru lawan pesta kawinin anak dibulan asyura arbain agama nyuruh tutup aurat doi proklamirkam anti tuhan selfienya ya junjungan islam nusantara syiah imam naga',\n",
              " 'rs gatot subroto jkt sdh pengobatan tumor gana kanker cell cure rs gatot subroto jkt sdh pengobatan tumor gana kanker cell cure tlh berhasil menyembuhkan kanker stadium operasi chemo therapi equip tsb hibah pemerintah jerman teknolog tsb jerman indoesia',\n",
              " 'awan hitam menyedot air laut astagfirullah tanda tanda zaman dekatt waallahualam kejadian langka awan hitam menyedot air laut menit heboh warga',\n",
              " 'ustadz aa gym pimpin ribuan umat bela islam jawa barat novemb jakarta beredar info disertai foto tanggal novemb kh gymastiar aa gym konsolidasi memimpin keberangkatan puluhan ribu umat islam jawa barat aksi bela islam jilid tergabung mujahid pejalan kaki ciami',\n",
              " 'foto adik menyuapi kakaknya kondisi menyedihkan tinggal gubug bertikar kayu beratap gerami adek setia merawat kakanya sakit orang tuanya bantuan tetangga adakah sudi aminkan semoga sehat rezeki berlimpah amiiiinnnn',\n",
              " 'jokowi memilih helikopt buatan negeri dibandingkan buatan pt dirgantara indonesia inst makelar kaget membaca berita media nasion pembelian hellikopt presiden jokowi berita pt produksi hellikopt jeni ec canggih pemerintah memb helikppt vvip aw produksi italia inggri',\n",
              " 'kamb melahirkan anak babi viral loor kamb melahirkan anak babi desa balong anyar kec lekok kab pasuruan',\n",
              " 'viru bernama sft china sft viru yg china kenegara',\n",
              " 'foto uya kuya menghipnoti wapr maruf amin uya kuya coba menghipnoti ruf amin beliau jujur tau ruu hip ngotot usulkan partai banteng mengganti pancila beliau menyetujui ruu hip jawabannya menilai',\n",
              " 'foto megawati potong tumpeng ata meja berlogo pki pilih kader pdip terbukti sarang pki koruptor suara menentukan nasib bangsa rezim tumbang pilih kader partai pdip',\n",
              " 'warga jombang korban modu penipuan ilmu gendam awa modu penipuan onok survey kesehatan sale obat gaw gendam modu merikso survey kesehatan karo takon ujung ujung bayar duit perikso karo nebu obat atusan ewu',\n",
              " 'foto wafat minggu yg penuli wanita kuwait nadiah al jar rahimahallah wafat minggu yg penuli wanita kuwait nadiah al jar rahimahallah menjelang wafatnya menuli makalah buku hariannya',\n",
              " 'corona merebak gibran salahkan rakyat patuhi aturan pemerintah banyaknya warga terkena viru corona covid mengikuti aturan pemerintah menghindari kerumunan mudik patuh anjuran pemerintah tenaga ahli insya allah wabah aktivita normal putra sulung presiden joko widodo jokowi gibran rakabum raka video solo jawa jumat',\n",
              " 'azan melemahkan viru corona percaya suara adzan meminimalisir viru corona penemuan ilmuwan eropa',\n",
              " 'jokowi anak kandung sulami presiden joko widodo kau anak anj nama anj sudjiatmi presiden jokowi anak anj jokowi anak kandung sulami jokowi memalsukan kandung melahirkan rakyat indonesia menghormati menghargai nya',\n",
              " 'video serangan ratusan roket rudal iran basi milit amerika serikat perang iran akui hantam basi roket puluhan rudal sumber video fp seword',\n",
              " 'pln bantah uang pemasangan tutup pengaman box kwh meteran listrik pastikan pln menjual kecuali jualan listrik stroom',\n",
              " 'bawang merah tangkal racun ular kobra bawang merah dikunyah samp halu letakkan yg digigit info grup sebelah barang x manfat ya buwat sobt fb mengatasi gigitan ular berbisa berdasarkan pengalaman pribadi ma daiman',\n",
              " 'perangkat anti pengenalan wajah demonstran hong kong hong kong protestor anti face recognit devic perangkat anti pengenalan wajah demonstran hong kong',\n",
              " 'video pa jokowi nyawer ni pa jokowi nyawer ni',\n",
              " 'si adik meningg miri anak yatim kelaparan kecapaian meningg didaerah jkt',\n",
              " 'rusia ilmu strategi perang orang indonesia meragukan rusia ilmu strategi orang indonesia meragukan',\n",
              " 'dieffebachia tanaman hia beracun tolong buang pokok beracun tanam',\n",
              " 'indonesia mengirimkan perwakilan lgbt gay festiv lgbt pari indonesia dibawah jokowi mengirimkan perwakilan lgbt gay kefestiv lgbt pari yg dukung jokowi tanggungkanlah dosa utknya',\n",
              " 'video citilink terbangkan penumpang kertajati surabaya pecahkan rekor pesawat terbangkan orang penumpang surabaya terbang bak mencart pesawat',\n",
              " 'video wahana ekstrim gyro drop lempar memutar pengguna ketinggian video wahana ekstrim gyro drop lott park korea selatan dimana wanaha melempar pengunjung diputar kera diketinggian',\n",
              " 'harga tiket kereta jkt sbi dijual rp juta balada cebong gari kera ahkirnya ketampol sang tuanya kado termani sang tuan rakyat',\n",
              " 'indochina foto kontain southern haulier maksudnya yg kasih penjelasan',\n",
              " 'korban terkena musibah gempar palu innalillahi korban terkena musibah gempar palu mohon detik aamiin semoga husnul khatimah masuk surga yg bagikan semoga dijauhkan marabahaya aamiin',\n",
              " 'pltu paiton meledak pltu paiton meledak',\n",
              " 'didit prabowo menikahkan gay didit prabowo menikahkan gay indonesia ayahnya terpilih presid ri',\n",
              " 'pembegalan simpang sei sikamb medan begal beraksi oprasinya begal merampa sepeda motor korban hasil kejadian dibunuh',\n",
              " 'tawaran kartu kredit plafon juta rupiah bank mandiri bank mandiri kartu kredit senilai rp orang',\n",
              " 'artifici cloud gener system artifici cloud gener system artifici cloud gener system',\n",
              " 'foto penerima hadiah sepeda acara penyerahan sertifikat tanah grati sukabumi foto memuat tulisan ganti presiden kerta putih map bene hasil suntingan foto dimuat http bit ly goqmro',\n",
              " 'nyalakan ac buka kaca masuk mobil sebabkan kanker menyalakan ac masuk mobil jendela tertutup mengandung mg benzen benzena racun yg mempengaruhi ginjal hati buruknya sulit bgi tubuh u mmbasmi racun tsb bukalah pintu n jendela mobil masuk berilah racun yg mematikan masuk dlm mobil bagikanlah info kpd org yg disekitar smg dpt bermanfaat',\n",
              " 'rombongan presiden jokowi kecelakaan sumatera barat mobil rombongan presiden jokowi mengalami kecelakaan solok sumbar penumpang mobil rombongan presiden kota padang mengalami luka luka',\n",
              " 'pesan berantai aksi tawuran pelajar kota bogor info yg suka melinta teplan jambu utk bln bln dpn tauran anak tridarma bl dendam serang anak mekanik karna anak tridarma yg meningg kl yg anak saudara famili teman tlg info smua waspada jambu teplan jambu info kelurahan',\n",
              " 'pasangan tangerang ditelanjangi warga polisi mesum pasangan tangerang ditelanjangi warga polisi mesum',\n",
              " 'marak hoax pemerintah didesak terapkan kurikulum digit marak hoax pemerintah didesak terapkan kurikulum digit',\n",
              " 'pemerintah cabut sertifikasi halal mui pemerintah cabut sertifikasi halal mui',\n",
              " 'indonesia pusaran aru informasi indonesia pusaran aru informasi',\n",
              " 'surat edaran kemenso aksi beredar foto surat edaran kementerian sosial kemenso mewajibkan pegawa negeri sipil pn kementerian mengikuti aksi kitaindonesia diken parad kebudayaan',\n",
              " 'tip bermedia sosial sehat ala ahmad mustofa bari tip bermedso sehat ala ahmad mustofa bisri menata niat memanfaatkan sosm berhati hati waspada beraktifita dunia maya penuh tipuan mudah tergiur tampilan tampilan menarik biasakan tabayun menil rekam jejak',\n",
              " 'kicauan grab tweeter mendukung ahok grab indonesia mendukung basuki btp kamiahok',\n",
              " 'bbc news foto irak menggambarkan pembantaian suriah bbc news use iraq photo illustr syrian massacr',\n",
              " 'video pesawat jatuh tol banyumanik pesawat jatuh tol banyumanik salah jalur pilotnya sekola nembak sim e dadin masuk pintu tol kasihan pengendara mobil',\n",
              " 'video detik detik maruf amin mundur diganti prabowo wakil presiden dampingi jokowi detik detik ruf amin mundur diganti prabowo wakil presiden dampingi jokowi',\n",
              " 'foto habib rizieq firza husein yg sabar mbak firza sesuai hadi k halal ayahanda rijik sohab',\n",
              " 'pesan berantai ulang whatsapp grati kuota gb whatsapp birthday suk dapatkan gb internet grati oper selul berlaku',\n",
              " 'dekan perguruan perbandingan ijazah jokowi ijazah bambang nurcahyo almamat ugm dekan tanda tangan ijazahnya berbeda',\n",
              " 'video cina rrc menyusup masuk bandara banyuwangi ketahuan ditangkap cina rrc menyusup masuk bandara banyuwangi ketahuan ditangkap',\n",
              " 'diganggu preman pemburu preman diganggu preman pemburu preman',\n",
              " 'aplikasi bodi temperatur diari mengukur suhu tubuh haru beli alat test wahh mengukur suhu tubuh haru beli alat test yukk coba gae',\n",
              " 'foto pemerintah sibuk melawan corona ani sibuk main bola anaknya pemerintah sibuk melawan corona ani sibuk main bola dgn anaknya emang ani nggak hati',\n",
              " 'jokowi keluarkan kartu corona indonesia sehat jokowi keluarkan kartu sakti hadapi viru corona come inp awer contri apraid corona problem contri peri perii aman',\n",
              " 'corona jihad pedagang sengaja meludahi bungku makanan corona jihad guy spit food pack',\n",
              " 'mujahid bangladesh bela muslim india belamuslimindia nasib muslim india belamuslimindia belamuslimindia mujahid bangladesh bela muslim india',\n",
              " 'surat perintah bnpb terkait normalisasi sungai sulawesi tenggara surat perintah kerja nomor spmk bnpb pekerjaan normalisasi sungai wanggu konaw selatan hulu kendari provinsi sulawesi tenggara',\n",
              " 'foto diliput media kondisi ani tangani banjir jakarta gubernur dki jakarta ani baswedan langsung turun tangan membantu korban banjir jakarta rabu ani bicara',\n",
              " 'foto truk bermuatan rudal jalan tol negara memana siang lihat truk bawa rudal semoga perang',\n",
              " 'hati hati dage manusia impor china hati hati dage impor dri china dage yg kelola dage manusia waspada',\n",
              " 'aplikasi program war room tkn mengubah data kenal paham ya aplikasi program war room tkn keceplosan hebat ya mengubah ubah data mah gampang bu mengubah isi kerta aslinya susah ya bu tsamara',\n",
              " 'pesan berantai teresia fidalgo haru membaca berhenti membaca hi namaku teresa fidalgo meningg thn share kirimna org akian tidur disebelahmu percaya carilah diinternet teresa fidalgo haru share kiriman orang',\n",
              " 'hr kerahkan peopl power polri tembak mati perusuh nkri cucu nabi hr kerahkan peopl power polri tembak mati perusuh nkri cucu nabi',\n",
              " 'gp ansor kota pekalongan mengajak pilih caleg nonmuslim dapil x jateng allahu akbar april',\n",
              " 'antek jongo budak ase antek ase jongo ase budak ase',\n",
              " 'kekejaman uighur disiksa diambil organ tubuhnya paksa kekejaman uighur disiksa diambil organ tubuhnya paksa',\n",
              " 'hakimnya pakai dukun cina hakimnya pakai dukun cina',\n",
              " 'klaim mengabarkan gempa menjalin koneksi ilmuwan ahli meteorolog geofisika india jepang china turki rusia kawan badan meteorolog australia berusaha mengabarkan gempa',\n",
              " 'dukung ua ketum pbnu dukung ua ketum pbnu',\n",
              " 'bayi berusia meningg dunia terpanggang inkub bayi yg berusia meningg dunia terpanggan incub salah nur terlupa memperlahankan suhu incub ruangan bayi yg letakan rs bertanggung ata kejadian karenana keteledoran anak buahnya mendengakan ata kejadian orang tuanya shok sadarkan smg kejadian sperti aamiin',\n",
              " 'tiang girder proyek becakayu ambruk waskita karya penjelasan kepala divisi iii pt waskita karya persero tbk dono parwoto meluruskan pemberitaan tiang pancang tiang penyangga jatuh bekist pierhead',\n",
              " 'bahaya buah durian mengandung kolesterol bahaya buah durian mengandung kolesterol',\n",
              " 'pria siram karpet masjid air kenc diduga stre akibat himpitan ekonomi masuk mesjid kencingi karpet mesjid n membuang air busuk kedalam mesjid ajar',\n",
              " 'surat edaran kontroversi tangerang viral dicabut salam toleransi sufer',\n",
              " 'informasi jembatan peudada aceh ambruk aceh kembl berdka shbatqu smuanya tdi jam jmbatan banda aceh peudada patah ambruk mobil sdag jlan jtuh sugai orag nlayan trcepit dibwah jmbtan',\n",
              " 'orang tua berkelahi lippo mall orang tua berkelahi lippo mall',\n",
              " 'admin grup whatsapp dihukum penjara ask whatsapp admin dipenjara ite nemu gambar maksudnya gimana sih admin whatsapp aneh gitu gambar kerta koran',\n",
              " 'ahok walikota berlin ketiga portal memberitakan jerman tertarik menjadikan basuki tjahaja purnama calon gubernur dki jakarta petahana walikota berlin kalah pemilihan kepala daerah pilkada dki jakarta pemberitaan disertai foto ahok sapaan karib basuki pejabat jerman',\n",
              " 'marak penculikan anak pelaku sadi keji berita terkini penculikan anak marak pelakunya sadi keji anak disembelih untungnya ketauan warga pelakunya amankan kelurahan madura semoga adik cepat sembuh amiinn',\n",
              " 'mengkonsumsi sayap ceker ayam disuntik hormon menyebabkan kanker sayap ceker ayam menikah menikah perempuan haru berhati arti tionghoa xia yi divoni tumbuh list rahim kista coklat hu qing wen operasi tumor yg penuh darah darahnya berwarna hitam gelap berpikir operasi sembuh kambuh konsultasi ginekolog',\n",
              " 'poster acara parad kebudayaan dukung ahok poster acara parad kebudayaan dukung',\n",
              " 'foto sri mulyani berjilbab kode pilkada tagihan jatuh tempo terkesima pakaiannya prikitiew kode pilkada tagihan jatuh tempo',\n",
              " 'video kembang api olimpiad ditampilkan olimpiad tokyo ditunda covid kembang api disiapkan kota tokyo upacara pembukaan olimpiad olimpiad dibuka covid kembang api disimpan kembang api olimpiad ditampilkan silakan menikmati kembang api olimpiad latar gunung fuji indah nb keraskan volum stereo izinshar fireworksshow olimpiad',\n",
              " 'corona hoax corona hoax',\n",
              " 'burhanuddin muhtadi rp miliar menangkan jokowi indonesia data kebohongan harganya ratusan miliar',\n",
              " 'raja salman meningg terindikasikan keracunan kopi berita dirahasiakan record nggak sia begadang info malam ba da subuh wib barulah info ane dapatkan dikabarkan raja salman meningg terindikasikan keracunan jam',\n",
              " 'tka china pekerjaan proyek pltu morowali tka china pekerjaan proyek pltu morowali ditawarkan tenaga kerja lokal yg',\n",
              " 'tka china ditolak masuk indonesia internet indonesia diblokir rejim katak berkutik menghadapi impor ratusan tka china beij china ancam blokir satelit internet indonesia istana berani tolak tka china ancaman partai komuni china seriu mematikan jaringan internet indonesia infovalid',\n",
              " 'akun media sosial erick thohir presid akun media sosial erick thohir presid',\n",
              " 'larangan rumah puncak penyebaran viru corona besok rumah mencari makanan terburuk tanggal inkubasi yg terinfeksi positif gejalanya orang tertular pent rumah berhubungan bertemu orang berhati hati pent',\n",
              " 'extremist act minor peopl video extremist act minor peopl commit state indian hindu whose brain made god shit scabbi cow',\n",
              " 'penculikan anak remaja diambil organnya mayatnya dijahit dibuang kekali season citi penculikan anak remaja diambil organnya mayatnya dijahit dibuang kekali season citi guy hati ya anak pesenin kl wc kmana jgn mesti temenin anak yg ketemuin season citi jg ud hati yg anak cucu rame penculikan anak tuk ambil organ tubuh',\n",
              " 'orng kaya wuhan stress menghamburkan uang orng kaya wuhan stress menghamburkan uang dlm arti uang tiada arti dibandingkan keselamatan',\n",
              " 'bahaya bertelepon dapur kompor menyala ber telepon dapur panggilan menerima panggilan dapur nama dr ademola suami dokter berbagi kejadian menyedihkan orang dibawa rumah sakit akibat luka bakar menerima panggilan telepon dapur kompor ga menyala',\n",
              " 'johnni g plate menteri kominfo gebrakan grati telepon gebrakan menkominfo johni g plate serba gratissekarang takut nelpon nomor telpon pemerintah menkominfo johni g plate kebijakan yg meringankan rakyat nopemb indosat telkomsel xl smartfren telpon grati oper',\n",
              " 'menag allah arab berdoa masjid pakai bahasa indonesia menag allah arab berdoa masjid pakai bahasa indonesia',\n",
              " 'makanan kaleng produksi thailand tularkan hivkembali makan makanan kaleng buah produksi thailand negara orang pengidap aid kerja pabrik kalengan masukkan darah kalengan depk thailand kaleng sita ttpi yg sdh terlajur diekspor',\n",
              " 'goobernur ani bukti otentik panitera mahkamah internas mohon anya kemenangan prabowo didepan mata hakim mahkamah internas menentukan hukuman tanggal juli',\n",
              " 'kebijakan peniadaan pendidikan agama sekolah kedepan haru disuguhi kebijakan teru',\n",
              " 'tukang kungfu diajak mk cukong gile loe ndro tukang kungfu ajak mk cukong',\n",
              " 'j prabowo pesawat ditumpangi prabowo abort take take diujung runway melinta jet tempur purwokerto pswt yg ditumpangi prabowo abort take krn take diujung runway melinta jet tempur',\n",
              " 'mengintimidasi asn bawahannya menteri memalukan rudiantara id dgn vulgar mengintimidasi asn bawahannya krn memilih penindasan pemaksaan dlm demokrasi yg beba kampani yg tdk cuti pidana pemilu ancamannya kurungan',\n",
              " 'salam jari kubu capr cawapr salam jari lgbt china weleh x salam jari milik kubu capr cawapr persi salam jari kaum lgbt china',\n",
              " 'menginap grati peserta reuni alumni info persiapan rekan kota yg membutuhkan nginap info rekan jkt yg menawarkan sbb assalamu alaikum wr wb',\n",
              " 'stnk mati kendaraan bodong kendaraan bermotor stnk nya mati datanya dihapu samsat diregistrasi diperpanjang alia kendaraan bodong',\n",
              " 'sophia latjuba bantah anggota jurkam jokowi maruf nggak tuh sophia kali sophia latjuba rabu',\n",
              " 'pertamina pemerintah kalrifikasi isu bbm malam beredar isu media sosial berantai rencana kenaikan harga bahan bakar minyak bbm meresahkan masyarakat',\n",
              " 'himbauan ulama habaib kiyai pimpinan pondok pesantren indonesia memilih jokowi presiden imbauan ulama habaib kiyai pimpinan pondok pesantren indonesia memilih jokowi presiden',\n",
              " 'babinsa diisukan terlibat hoax penyerangan ulama kodam iii penjelasan babinsa diisukan terlibat hoax penyerangan ulama kodam iii penjelasan',\n",
              " 'merawat pesan toleransi gu dur pa kau pergi mengerti kau berusaha mengajari hidup haru disyukuri apapun engkaulah mengajarkan hidup pilihan pilihan kekuatan',\n",
              " 'mafindo chapter depok adakan sosialisasi anti hoax masyarakat anti fitnah indonesia mafindo chapter depok polsek sukmajaya mengadakan sosialiasasi warga swatama resid kemang acara',\n",
              " 'terima dipecat yansen binti pembakaran sekolah perintah prabowo terima dipecat yansen binti pembakaran sekolah perintah prabowo',\n",
              " 'bahaya sinar kosmik melewati bumi malam bahaya sinar kosmik melewati bumi malam',\n",
              " 'lowongan pekerjaan pt badak lng postingan foto lowongan pekerjaan pt badak lng lowongan pekerjaan meliputi pemasaran trade cs tingkatan lowongan tingkatan smk sma postingan melamar pekerjaan haru mengirimkan berkasnya domain ptbadakngl com',\n",
              " 'lowongan kerja pt badak lng lowongan kerja pt badak lng',\n",
              " 'gudang senjata israel meledak allahu akbar gudang senjata milik israel meledak',\n",
              " 'ratusan tubuh anak didalam mobil van thailand kemarin thailand temukan buah mobil van berisi anak anak kondisi meningg dibungku plastik',\n",
              " 'menteri energi jepang membungkuk menit bentuk permintaan maaf menteri energi jepang membungkuk menit sbgai permintaan maaf kpd rakyat krn listrik padam slm mnt pic twitter com djvz xg k jul',\n",
              " 'suspect corona melarikan rs persahabatan driver ojek onlin hati hati kontak fisik dgn orang dinyatakan positif corona kabur rawat rs buron krn takut menyebarkan viru corona kerja gojek mengenali bertemu orang laporkan menyebar virusnya terimakasih',\n",
              " 'jokowi nyatakan indonesia lockdown mon break news tv one presiden ri nyatakan indonesia lockdown anggota kabinet diperintahkan cek viru conora beserta jajaran bawahnya wajah mata berputar keknya presiden taat ani min woy wajah air mata bahagia',\n",
              " 'profesor chen horin lemon pana membunuh sel kanker viru corona covd mencapai negara cepat lambat keraguan negara memiliki kit peralatan diagnostik canggih silakan vitamin c alami memperkuat sistem kekebalan tubuh viru mengandung vaksin perawatan khusu sayangnya mutasi genetik membuatnya berbahaya penyakit disebabkan penggabungan gen ular kelelawar memperoleh kemampuan menginfeksi mamalia manusia',\n",
              " 'warga cina lempar kuce anjingnya apartemen hoak kuce anj menularkan viru corona takut viru corona warga china lempar anj kuce apartemen',\n",
              " 'surat ajakan debat terbuka diadakan penguru cabang muhammadiyah jember mohon maaf besarnya maksud kedatangan surat salah pimpinan muhammadiyah cabang jember mengajak dialog debat terbuka kegiatan kegiatan terlaksana maje kiyai ustadz bina pembacaan dzikir tahlil tawassul bertentangan ajaran ajaran dibawa rosulullah shollallahi alaiki wasaallam kiyai ustadz berkenan menerima tantangan acara rutinan kiyai ustadz pimpin',\n",
              " 'shopp bantah umumkan pemenang jutawan shopp waspada penipuan mengatasnamakan shope x x x info terkait pemenang kui diumumkan akun media sosial resmi shope sobat shope menemukan modu penipuan lapor mimin ya shopeecar infomimin',\n",
              " 'muncul isu penculikan purbalingga kepolisian nyatakan kaum intelek pemuja jae teru menutup mata telingamu banggamu ata sosok sederhananya',\n",
              " 'moeldoko pendukung prabowo yg mengakui kemengan jokowi haru tangkap moeldoko pendukung prabowo yg mengakui kemengan jokowi haru tangkap',\n",
              " 'ketua kpud bekasi meningg dunia innalilahi wainnalillahi rojiun ketua kpud bekasi meningg dunia tragi',\n",
              " 'sesar batui balantak picu gempa tsunami naudzubillahiminzhaliq jauhkan mara bahaya ya allah waspada utk wilayah batui balantak',\n",
              " 'bersatu nomor iwan fal kawan kawan mengajak masyarakat mencintai indonesia bersatu nomor iwan fal dukung jokowi nomor kualita bagu kalo barang kaw',\n",
              " 'jokowi bank dana nasabah proyek assallamuallaikum rekan tgl februari harap tarik dana keluarga miliki tersimpan bca bni mandiri dana pakai rencana karna jokowi bank bank proyek',\n",
              " 'ketua kpu saudara kandung soe hok gie eta terangkanlah arief budiman ketua kpu saudara kandung soe hoek gie nama lahir arief budiman soe hok djin',\n",
              " 'indonesia mengetahuinya tau kisah tragi yg prabowo turun malaysia sewa pengacara pale mahal',\n",
              " 'golden fireworm ulat bulu laut menyerang sisir pantai thailand pantai pd',\n",
              " 'kepulangan timna brasil disambut lemparan batu telur penggemar pulang brasil neymar dkk dilempari fan',\n",
              " 'syndrom jule hati orang tua yg pni babi umur dibawah biasakan anak lihat youtub',\n",
              " 'kh asep saifuddin chalim bantah orang menyarankan memilih gu ipul berkhianat istilah hoax keji rambu upaya kera orang',\n",
              " 'pemerintah jokowi haru hati lanjutkan proyek kereta cepat pasca putusan pengadilan tiongkok pemerintah jokowi haru hati lanjutkan proyek kereta cepat pasca putusan pengadilan tiongkok',\n",
              " 'ketum pan zulkifli hasan habib rizieq tokoh ulama penggadai agama ketum pan habib rizieq tokoh ulama penggadai agama wooowww beneran gimana yg bantu',\n",
              " 'michael essien gabung persebaya surabaya foto aksen warna putih hijau kune disertai foto michael essien lambang persebaya surabaya didalamnya',\n",
              " 'sari roti berubah nama garmelia indomart liat sari roti sari roti ganti nama kawan kawan namanya garmelia namanya sari roti eh garmelia ahahaha ayo boikot garmelia',\n",
              " 'pleasesaveburma st allah tolongselamatkanbirma malu manusia menghentikan genosida manusia muslimrohingnya',\n",
              " 'kristenisasi rusun dki mencantumkan video anak anak berjilbab menyanyikan lagu rohani nasrani bantu share ustd yg sedih rusun assalamu alaikum warohmatullohi wabarokaatuh mohon perhatian kyai ustadz dai pejuang islam kristenisasi rusun luput perhatian publikasi media',\n",
              " 'isu perbedaan surat al hujurat al quran sumbangan kerajaan arab tolong perhatikan al qur sumbangan arab saudi dibagikan grati ayat nya diubah bandingkan al qur',\n",
              " 'foto agustu jutaan warga jerman turun jalan menolak kemerdekaannya dirampa dalih viru sepel agustu jutaan warga jerman turun jalan menolak kemerdekaannya dirampa dalih viru sepel menolak wajib masker menerimanya dipertemukan dgn kewajiban wajib vaksin wajib vaksin berhasil disusul dgn wajib wajib kontrol',\n",
              " 'foto presiden jokowi pelawak istana negara dikaitkan covid team covid jagan lupa jaga jarak makai masker nyuci tangan awa covid udara otg pdp odp',\n",
              " 'fanpag facebook bantuan samsung pendidikan adakan program bantuan pendidikan team resmi samsung indonesia bertujuan membantu siswa siswi indonesia membutuhkan ponsel pembelajaran dirumah onlin pandemi corona viru covid',\n",
              " 'bocor bapaknya jokowi asli bocor bpk nya jokowi yg asli banget klw cebong ngebantah gua gampar muka jelek nya',\n",
              " 'foto letter golkar island letter golkar island',\n",
              " 'italia gereja dibuka jemaatnya meningg covid video diata kisah yg italia gereja dibuka jemaatnya kerajaan sorga meningg covid haru memikirkan penjangkauan next gener',\n",
              " 'kompensasi listrik pln work home kompensasi pln wfh klik link dibawah http layanan pln co id infotmp html lumayan tambahan listrik dikit khusu banten dki jakarta jawa barat',\n",
              " 'luhut jokowi sholat jumat rakaat prabowo kalah luhut jokowi sholat jumat rakaat prabowo kalah',\n",
              " 'gambar perempuan berjilbab syari tulisannya wife doughter panglima polim mencari potret perempuan indonesia zaman pencarian pakai bahasa indonesia engga membuahkan hasil pakai bahasa inggri malay woman cloth centuri',\n",
              " 'pemilu dilaksanakan tau menang lha iya gk aneh pemilu aja laksanakan sdh tau menang',\n",
              " 'calon pn siapkan uang rp sehubungan ditetapkannya surat pengantar calon pegawai negeri sipil anggaran peserta calon pegawai negeri sipil lingkungan pemerintah provinsi kota kabupaten mengikuti pembekalan tanggal novemb',\n",
              " 'alami kebocoran pipa pdam bandarmasih nyatakan huma pdam bandarmasih nur wahid iya media sosial mempost pipa transfer diamet pe mm bocor hoax eresahkan pelanggan pdam',\n",
              " 'kejadian kapal feri makassar selayar tenggelam jam siang semoga saudara keselamatan kejadian kapal feri makassar selayar tenggelam jam siang',\n",
              " 'membaca isi berita judul beritanya isi artikel situ riauski com keheranan kapolri jender pol tito karnavian perkebunan sawit tanaman industri terbakar kebakaran lahan hutan',\n",
              " 'hadiah cek tunai rp whatsapp selamat kpd pengguna setia whatsapp whatsapp beruntung memenangkan hadiah cek tunai rp program promo undian pt whatsapp inc indonesia code pin afr',\n",
              " 'demo hongkong menolak campur tangan fihak negara china komuni minggu juni juta warga hongkong demo menolak kebijakan rezim pemerintahan hongkong say china menolak campur tangan fihak negara china komuni merugikan rakyat hongkong',\n",
              " 'hasil penyadapan mabe polri rencana densu utk penangkapan perwira tni aktif ijin melaporkan hasil penyadapan mabe polri rencana densu utk penangkapan perwira tni aktif',\n",
              " 'sinyal internet berhentikan indonesia mohon ijin sekedar info menginformasikan sinyal internet berhentikan indonesia',\n",
              " 'pesan ajakan konvoi resmi arema mohon perhatiannya aremania aremanita konvoi resmi tanggal minggu start balaikota malang jam siang',\n",
              " 'dana haji dipakai pemerintah jokowi membangun infrastruktur sahabat bermain tik tok tuk pamer aurat jurnali muda amerika bernama fira aziz negeri bambu cina mencari kantor tik tok menggali informasi kemanakah keuntungan aplikasi tik tok salurkan',\n",
              " 'pk ajak dukung poligami websit dukungpoligami com pksdukungpoligami mari mendukung poligami pk partai keadilan sejahtera berkomitmen melegalkan poligami diseluruh provinsi indonesia daftarkan dukungan',\n",
              " 'video kampani capr bahasa mandarin aneh menyudutkan salah paslon mimin bingung kampani pake bahasa mandarin indonesia china tenaga kerja ase mengerti mencoblo',\n",
              " 'pwnu jawa timur menangkan prabowo sandi saudaraku kantor pwnu jatim membuktilan warga nu jawa timur mendukung pasangan prabowo sandi',\n",
              " 'tercyduk mall istri sandi langsung kosongkan ta seharga juta tercyduk mall istri sandi langsung kosongkan ta seharga juta drama pencitraan',\n",
              " 'perkelahian debt collector vs warga wiyung surabaya judul postingan debt collector vs warga wiyung surabaya',\n",
              " 'keluarga almarhumah siswi smpn semen bantah sa meningg kondisi telinga berdarah hp berantakan lantai media whatsapp siswi berinisi sa diisukan meningg kondisi telinga berdarah handphon hp berantakan lantai',\n",
              " 'racun vaksin yg tebarkan racun vaksin yg tebarkan generasi pembenteng negeri',\n",
              " 'novotel semarang saksi bisu permainan sudirman said ida fauziyah novotel semarang saksi bisu permainan',\n",
              " 'cak lontong warga jateng pilih nomor cak lontong warga jateng pilih nomor pilgub jateng juni',\n",
              " 'klarifikasi pemerintah provinsi aceh terkait isu penerapan hukuman pancung qisa kepala bidang bina hukum syariat islam hak asasi manusia dina syariat islam provinsi aceh syukri yusuf membantah isu isu muncul lantaran salah persepsi wartawan associ press mewawancarainya wawancara syukri menyinggung wacana hukum pancung sebata wacana butuh penelitian wacana penelitiannya lihat respon masyarakat disimpulkan',\n",
              " 'video planet nibiru video planet nibiru sesi facebook live selesai mengulang loop video durasi detik sumber beredar internet salah satunya youtub tautan http goo gl ebnmbm teori konspirasi planet nibiru',\n",
              " 'manfaat air hangat n f air hangat pana dikit sekelompok dokter jepang air hangat efektif menyelesaikan problem kesehatan sakit kepala migrain tekanan darah tekanan darah rendah nyeri sendi meningkat penurunan detak jantung epilepsi meningkatnya tingkat kolesterol batuk ketidak nyamanan fisik sakit golu asma hoop batuk',\n",
              " 'garam palsu serpihan kaca beredar video narasi info pent stop mengkonsumsi garam karna cek dilarutkan kedalam air serbuk kaca dihaluskan semoga bermanfaat ya saudara ss dibagikan k like k',\n",
              " 'rekomendasi pengacara mahendra maskur sinaga antisipasi pelanggaran privasi teman sosial media direkomendasi pengacara bpk mahendra maskur sinaga sh mh mhd wakabid advokasi lembaga eksekutif aliansi indonesia badan penelitian aset negara dpd prov sumut setuju utk antisipasi pelanggaran privasi dituntut hukum',\n",
              " 'tanggapan polri terkait isu sipil papua bersenjata perang agamanya islam dicap semoga indonesia utuh ter bercerai berai',\n",
              " 'video wanita india prote bakar jilbab video wanita india prote bakar jilbab',\n",
              " 'patung brung garuda disertai pancasila tulisan cina patung brung garuda disertai pancasila tulisan cina',\n",
              " 'perlawanan pekerja ase china bendera rrc diturunkan tni upaya penurunan bendera cina republik rakyat cina paksa aparat tni dihalang oknum perusahan pendukung penista agama yg triak makar makar makar yg menuduh ummat islam makar makar sesungguhnya makar',\n",
              " 'cuitan twitter karyawan pt adhi karya gu mu bijak bersosi media gusmusgusmu gk aspal gu padang pasir wahyu shalat jumat jga rasullullah hijrah madinah bid ah ndasmu',\n",
              " 'panglima tni diganti presiden mengganti panglima tni',\n",
              " 'satpol pp pasang spanduk kampani ahok djarot diumumkan septemb resmi daftar jadwal kampani langgar aturan satpol pp pasang spanduk kampani satpol pp tugasnya tertibkan turunkan spanduk kampani iklan langgar aturan keindahan kota bawaslu panaslu disuap ahok',\n",
              " 'pdip surat rekomendasi fachrori safrial rekom pdip jambi',\n",
              " 'foto tenaga medi merangkai bacot bacot',\n",
              " 'kebijakan yg merusak menjerumuskan generasi peneru bangsa menjauhkan nilai agama kebijakan yg merusak menjerumuskan generasi peneru bangsa menjauhkan nilai agama',\n",
              " 'foto pupuk cendana jamian mutu pupuk cendana jamian mutu cocok tanaman dr arab',\n",
              " 'surat panggilan wawancara kerja pt angkasa pura ii juni berdasarkan hasil evaluasi tim seleksi lamaran kerja saudara terima berka lamaran saudara memenuhi persyaratan ditetapkan saudara mengikuti te seleksi calon karyawan pt angkasa pura ii persero mengikuti seleksi saudara wajibkan membawa ktp sim kartu identita asli erta surat panggilan te kirim via e maol mase mase peserta surat mohon print',\n",
              " 'pasien covid cimahi kabur rumah sakit orang berkeliaran daerah positif covid yg kabur dr rs daerah cimahi bilih ngontrak tong tampi orang pojok waspada info terpercaya hoak sebarkan',\n",
              " 'video pemuda wanita selandia masuk islam masya allah ya allah alhamdulillah pemuda wanita selandia masuk islam bergetar menangi mendengar suara panggilan berdoa doa semoga allah membimb saudaraku masuk islam selandia amiin',\n",
              " ...]"
            ]
          },
          "metadata": {
            "tags": []
          },
          "execution_count": 12
        }
      ]
    },
    {
      "cell_type": "code",
      "metadata": {
        "id": "7Wq7nGKb3Tdg",
        "colab": {
          "base_uri": "https://localhost:8080/",
          "height": 34
        },
        "outputId": "c0d6d399-3815-4915-b2db-14f3a7aa5b12"
      },
      "source": [
        "len(corpus)"
      ],
      "execution_count": null,
      "outputs": [
        {
          "output_type": "execute_result",
          "data": {
            "text/plain": [
              "4231"
            ]
          },
          "metadata": {
            "tags": []
          },
          "execution_count": 13
        }
      ]
    },
    {
      "cell_type": "markdown",
      "metadata": {
        "id": "qVtGHXTIPsUu"
      },
      "source": [
        "## BAG OF WORDS + SPLIT DATA"
      ]
    },
    {
      "cell_type": "code",
      "metadata": {
        "id": "c848He7BEUdw"
      },
      "source": [
        "data_uji = corpus[4231:]\n",
        "data_latih = corpus[:4231]"
      ],
      "execution_count": null,
      "outputs": []
    },
    {
      "cell_type": "code",
      "metadata": {
        "id": "MEFsvahCFVP6",
        "colab": {
          "base_uri": "https://localhost:8080/",
          "height": 230
        },
        "outputId": "a9e2bdf2-ae73-4bf4-abfb-73708eecf237"
      },
      "source": [
        "gabung.iloc[:4231,0]"
      ],
      "execution_count": null,
      "outputs": [
        {
          "output_type": "execute_result",
          "data": {
            "text/plain": [
              "0       1.0\n",
              "1       1.0\n",
              "2       1.0\n",
              "3       1.0\n",
              "4       1.0\n",
              "       ... \n",
              "4226    1.0\n",
              "4227    1.0\n",
              "4228    1.0\n",
              "4229    1.0\n",
              "4230    1.0\n",
              "Name: label, Length: 4231, dtype: float64"
            ]
          },
          "metadata": {
            "tags": []
          },
          "execution_count": 137
        }
      ]
    },
    {
      "cell_type": "code",
      "metadata": {
        "id": "pw98BK18yo2B"
      },
      "source": [
        "# Membuat model Bag of Words\n",
        "from sklearn.feature_extraction.text import CountVectorizer\n",
        "cv = CountVectorizer()\n",
        "X = cv.fit_transform(corpus).toarray()\n",
        "y = latih.iloc[:, 0].values"
      ],
      "execution_count": null,
      "outputs": []
    },
    {
      "cell_type": "code",
      "metadata": {
        "id": "ABHbn0G0RLux"
      },
      "source": [
        "import pickle\n",
        "# Save the vectorizer\n",
        "vec_file = 'vectorizer.pickle'\n",
        "pickle.dump(cv, open(vec_file, 'wb'))"
      ],
      "execution_count": null,
      "outputs": []
    },
    {
      "cell_type": "code",
      "metadata": {
        "id": "BNbmECvdLSQD",
        "colab": {
          "base_uri": "https://localhost:8080/",
          "height": 34
        },
        "outputId": "92e00be7-39c1-40e9-f175-c9178a36dfe3"
      },
      "source": [
        "X.shape"
      ],
      "execution_count": null,
      "outputs": [
        {
          "output_type": "execute_result",
          "data": {
            "text/plain": [
              "(4231, 17920)"
            ]
          },
          "metadata": {
            "tags": []
          },
          "execution_count": 16
        }
      ]
    },
    {
      "cell_type": "code",
      "metadata": {
        "id": "QXLwVVh7K6fw"
      },
      "source": [
        "X_uji = X[4231:]\n",
        "X_latih = X[:4231]"
      ],
      "execution_count": null,
      "outputs": []
    },
    {
      "cell_type": "markdown",
      "metadata": {
        "id": "XxGJkqVEP3_A"
      },
      "source": [
        "## MODEL"
      ]
    },
    {
      "cell_type": "code",
      "metadata": {
        "id": "AMiFTJdsy_t8"
      },
      "source": [
        "# Membagi dataset ke dalam Training dan Test set\n",
        "from sklearn.model_selection import train_test_split\n",
        "X_train, X_test, y_train, y_test = train_test_split(X, y, test_size = 0.20, random_state = 0, stratify=y)"
      ],
      "execution_count": null,
      "outputs": []
    },
    {
      "cell_type": "code",
      "metadata": {
        "id": "Se1Pgq5Eh54b",
        "colab": {
          "base_uri": "https://localhost:8080/",
          "height": 344
        },
        "outputId": "0a40bbd7-015e-4d4d-e262-ed8052828432"
      },
      "source": [
        "from imblearn.over_sampling import SMOTE\n",
        "sm = SMOTE(random_state=33)\n",
        "X_train, y_train = sm.fit_sample(X_train, y_train.ravel())\n",
        "pd.Series(y_train).value_counts().plot.bar()"
      ],
      "execution_count": null,
      "outputs": [
        {
          "output_type": "stream",
          "text": [
            "/usr/local/lib/python3.6/dist-packages/sklearn/utils/deprecation.py:87: FutureWarning: Function safe_indexing is deprecated; safe_indexing is deprecated in version 0.22 and will be removed in version 0.24.\n",
            "  warnings.warn(msg, category=FutureWarning)\n"
          ],
          "name": "stderr"
        },
        {
          "output_type": "execute_result",
          "data": {
            "text/plain": [
              "<matplotlib.axes._subplots.AxesSubplot at 0x7fdca0635c18>"
            ]
          },
          "metadata": {
            "tags": []
          },
          "execution_count": 88
        },
        {
          "output_type": "display_data",
          "data": {
            "image/png": "[encoded data removed]",
            "text/plain": [
              "<Figure size 432x288 with 1 Axes>"
            ]
          },
          "metadata": {
            "tags": [],
            "needs_background": "light"
          }
        }
      ]
    },
    {
      "cell_type": "code",
      "metadata": {
        "id": "93nEAno-ocz0",
        "colab": {
          "base_uri": "https://localhost:8080/",
          "height": 357
        },
        "outputId": "3acea9d7-b7e8-4ffa-9a1c-fc8fa5d87eed"
      },
      "source": [
        "#Create a Gaussian CLassifier\n",
        "from sklearn.ensemble import RandomForestClassifier\n",
        "regressor3=RandomForestClassifier(bootstrap=True,\n",
        "                                  class_weight=None,\n",
        "                                  criterion='gini',\n",
        "                                  max_depth=9,\n",
        "                                  max_features= 'auto',\n",
        "                                  max_leaf_nodes=None,\n",
        "                                  min_impurity_decrease=0.0,\n",
        "                                  min_impurity_split=None,\n",
        "                                  min_samples_leaf=1,\n",
        "                                  min_samples_split=2,\n",
        "                                  min_weight_fraction_leaf=0.0,\n",
        "                                  n_estimators=300,\n",
        "                                  n_jobs=None,)\n",
        "regressor3.fit(X_train, y_train)\n",
        "print ('Done')"
      ],
      "execution_count": null,
      "outputs": [
        {
          "output_type": "error",
          "ename": "KeyboardInterrupt",
          "evalue": "ignored",
          "traceback": [
            "\u001b[0;31m---------------------------------------------------------------------------\u001b[0m",
            "\u001b[0;31mKeyboardInterrupt\u001b[0m                         Traceback (most recent call last)",
            "\u001b[0;32m<ipython-input-18-dc300cc34b5a>\u001b[0m in \u001b[0;36m<module>\u001b[0;34m()\u001b[0m\n\u001b[1;32m     14\u001b[0m                                   \u001b[0mn_estimators\u001b[0m\u001b[0;34m=\u001b[0m\u001b[0;36m300\u001b[0m\u001b[0;34m,\u001b[0m\u001b[0;34m\u001b[0m\u001b[0;34m\u001b[0m\u001b[0m\n\u001b[1;32m     15\u001b[0m                                   n_jobs=None,)\n\u001b[0;32m---> 16\u001b[0;31m \u001b[0mregressor3\u001b[0m\u001b[0;34m.\u001b[0m\u001b[0mfit\u001b[0m\u001b[0;34m(\u001b[0m\u001b[0mX_train\u001b[0m\u001b[0;34m,\u001b[0m \u001b[0my_train\u001b[0m\u001b[0;34m)\u001b[0m\u001b[0;34m\u001b[0m\u001b[0;34m\u001b[0m\u001b[0m\n\u001b[0m\u001b[1;32m     17\u001b[0m \u001b[0mprint\u001b[0m \u001b[0;34m(\u001b[0m\u001b[0;34m'Done'\u001b[0m\u001b[0;34m)\u001b[0m\u001b[0;34m\u001b[0m\u001b[0;34m\u001b[0m\u001b[0m\n",
            "\u001b[0;32m/usr/local/lib/python3.6/dist-packages/sklearn/ensemble/_forest.py\u001b[0m in \u001b[0;36mfit\u001b[0;34m(self, X, y, sample_weight)\u001b[0m\n\u001b[1;32m    381\u001b[0m                     \u001b[0mverbose\u001b[0m\u001b[0;34m=\u001b[0m\u001b[0mself\u001b[0m\u001b[0;34m.\u001b[0m\u001b[0mverbose\u001b[0m\u001b[0;34m,\u001b[0m \u001b[0mclass_weight\u001b[0m\u001b[0;34m=\u001b[0m\u001b[0mself\u001b[0m\u001b[0;34m.\u001b[0m\u001b[0mclass_weight\u001b[0m\u001b[0;34m,\u001b[0m\u001b[0;34m\u001b[0m\u001b[0;34m\u001b[0m\u001b[0m\n\u001b[1;32m    382\u001b[0m                     n_samples_bootstrap=n_samples_bootstrap)\n\u001b[0;32m--> 383\u001b[0;31m                 for i, t in enumerate(trees))\n\u001b[0m\u001b[1;32m    384\u001b[0m \u001b[0;34m\u001b[0m\u001b[0m\n\u001b[1;32m    385\u001b[0m             \u001b[0;31m# Collect newly grown trees\u001b[0m\u001b[0;34m\u001b[0m\u001b[0;34m\u001b[0m\u001b[0;34m\u001b[0m\u001b[0m\n",
            "\u001b[0;32m/usr/local/lib/python3.6/dist-packages/joblib/parallel.py\u001b[0m in \u001b[0;36m__call__\u001b[0;34m(self, iterable)\u001b[0m\n\u001b[1;32m   1030\u001b[0m                 \u001b[0mself\u001b[0m\u001b[0;34m.\u001b[0m\u001b[0m_iterating\u001b[0m \u001b[0;34m=\u001b[0m \u001b[0mself\u001b[0m\u001b[0;34m.\u001b[0m\u001b[0m_original_iterator\u001b[0m \u001b[0;32mis\u001b[0m \u001b[0;32mnot\u001b[0m \u001b[0;32mNone\u001b[0m\u001b[0;34m\u001b[0m\u001b[0;34m\u001b[0m\u001b[0m\n\u001b[1;32m   1031\u001b[0m \u001b[0;34m\u001b[0m\u001b[0m\n\u001b[0;32m-> 1032\u001b[0;31m             \u001b[0;32mwhile\u001b[0m \u001b[0mself\u001b[0m\u001b[0;34m.\u001b[0m\u001b[0mdispatch_one_batch\u001b[0m\u001b[0;34m(\u001b[0m\u001b[0miterator\u001b[0m\u001b[0;34m)\u001b[0m\u001b[0;34m:\u001b[0m\u001b[0;34m\u001b[0m\u001b[0;34m\u001b[0m\u001b[0m\n\u001b[0m\u001b[1;32m   1033\u001b[0m                 \u001b[0;32mpass\u001b[0m\u001b[0;34m\u001b[0m\u001b[0;34m\u001b[0m\u001b[0m\n\u001b[1;32m   1034\u001b[0m \u001b[0;34m\u001b[0m\u001b[0m\n",
            "\u001b[0;32m/usr/local/lib/python3.6/dist-packages/joblib/parallel.py\u001b[0m in \u001b[0;36mdispatch_one_batch\u001b[0;34m(self, iterator)\u001b[0m\n\u001b[1;32m    845\u001b[0m                 \u001b[0;32mreturn\u001b[0m \u001b[0;32mFalse\u001b[0m\u001b[0;34m\u001b[0m\u001b[0;34m\u001b[0m\u001b[0m\n\u001b[1;32m    846\u001b[0m             \u001b[0;32melse\u001b[0m\u001b[0;34m:\u001b[0m\u001b[0;34m\u001b[0m\u001b[0;34m\u001b[0m\u001b[0m\n\u001b[0;32m--> 847\u001b[0;31m                 \u001b[0mself\u001b[0m\u001b[0;34m.\u001b[0m\u001b[0m_dispatch\u001b[0m\u001b[0;34m(\u001b[0m\u001b[0mtasks\u001b[0m\u001b[0;34m)\u001b[0m\u001b[0;34m\u001b[0m\u001b[0;34m\u001b[0m\u001b[0m\n\u001b[0m\u001b[1;32m    848\u001b[0m                 \u001b[0;32mreturn\u001b[0m \u001b[0;32mTrue\u001b[0m\u001b[0;34m\u001b[0m\u001b[0;34m\u001b[0m\u001b[0m\n\u001b[1;32m    849\u001b[0m \u001b[0;34m\u001b[0m\u001b[0m\n",
            "\u001b[0;32m/usr/local/lib/python3.6/dist-packages/joblib/parallel.py\u001b[0m in \u001b[0;36m_dispatch\u001b[0;34m(self, batch)\u001b[0m\n\u001b[1;32m    763\u001b[0m         \u001b[0;32mwith\u001b[0m \u001b[0mself\u001b[0m\u001b[0;34m.\u001b[0m\u001b[0m_lock\u001b[0m\u001b[0;34m:\u001b[0m\u001b[0;34m\u001b[0m\u001b[0;34m\u001b[0m\u001b[0m\n\u001b[1;32m    764\u001b[0m             \u001b[0mjob_idx\u001b[0m \u001b[0;34m=\u001b[0m \u001b[0mlen\u001b[0m\u001b[0;34m(\u001b[0m\u001b[0mself\u001b[0m\u001b[0;34m.\u001b[0m\u001b[0m_jobs\u001b[0m\u001b[0;34m)\u001b[0m\u001b[0;34m\u001b[0m\u001b[0;34m\u001b[0m\u001b[0m\n\u001b[0;32m--> 765\u001b[0;31m             \u001b[0mjob\u001b[0m \u001b[0;34m=\u001b[0m \u001b[0mself\u001b[0m\u001b[0;34m.\u001b[0m\u001b[0m_backend\u001b[0m\u001b[0;34m.\u001b[0m\u001b[0mapply_async\u001b[0m\u001b[0;34m(\u001b[0m\u001b[0mbatch\u001b[0m\u001b[0;34m,\u001b[0m \u001b[0mcallback\u001b[0m\u001b[0;34m=\u001b[0m\u001b[0mcb\u001b[0m\u001b[0;34m)\u001b[0m\u001b[0;34m\u001b[0m\u001b[0;34m\u001b[0m\u001b[0m\n\u001b[0m\u001b[1;32m    766\u001b[0m             \u001b[0;31m# A job can complete so quickly than its callback is\u001b[0m\u001b[0;34m\u001b[0m\u001b[0;34m\u001b[0m\u001b[0;34m\u001b[0m\u001b[0m\n\u001b[1;32m    767\u001b[0m             \u001b[0;31m# called before we get here, causing self._jobs to\u001b[0m\u001b[0;34m\u001b[0m\u001b[0;34m\u001b[0m\u001b[0;34m\u001b[0m\u001b[0m\n",
            "\u001b[0;32m/usr/local/lib/python3.6/dist-packages/joblib/_parallel_backends.py\u001b[0m in \u001b[0;36mapply_async\u001b[0;34m(self, func, callback)\u001b[0m\n\u001b[1;32m    206\u001b[0m     \u001b[0;32mdef\u001b[0m \u001b[0mapply_async\u001b[0m\u001b[0;34m(\u001b[0m\u001b[0mself\u001b[0m\u001b[0;34m,\u001b[0m \u001b[0mfunc\u001b[0m\u001b[0;34m,\u001b[0m \u001b[0mcallback\u001b[0m\u001b[0;34m=\u001b[0m\u001b[0;32mNone\u001b[0m\u001b[0;34m)\u001b[0m\u001b[0;34m:\u001b[0m\u001b[0;34m\u001b[0m\u001b[0;34m\u001b[0m\u001b[0m\n\u001b[1;32m    207\u001b[0m         \u001b[0;34m\"\"\"Schedule a func to be run\"\"\"\u001b[0m\u001b[0;34m\u001b[0m\u001b[0;34m\u001b[0m\u001b[0m\n\u001b[0;32m--> 208\u001b[0;31m         \u001b[0mresult\u001b[0m \u001b[0;34m=\u001b[0m \u001b[0mImmediateResult\u001b[0m\u001b[0;34m(\u001b[0m\u001b[0mfunc\u001b[0m\u001b[0;34m)\u001b[0m\u001b[0;34m\u001b[0m\u001b[0;34m\u001b[0m\u001b[0m\n\u001b[0m\u001b[1;32m    209\u001b[0m         \u001b[0;32mif\u001b[0m \u001b[0mcallback\u001b[0m\u001b[0;34m:\u001b[0m\u001b[0;34m\u001b[0m\u001b[0;34m\u001b[0m\u001b[0m\n\u001b[1;32m    210\u001b[0m             \u001b[0mcallback\u001b[0m\u001b[0;34m(\u001b[0m\u001b[0mresult\u001b[0m\u001b[0;34m)\u001b[0m\u001b[0;34m\u001b[0m\u001b[0;34m\u001b[0m\u001b[0m\n",
            "\u001b[0;32m/usr/local/lib/python3.6/dist-packages/joblib/_parallel_backends.py\u001b[0m in \u001b[0;36m__init__\u001b[0;34m(self, batch)\u001b[0m\n\u001b[1;32m    570\u001b[0m         \u001b[0;31m# Don't delay the application, to avoid keeping the input\u001b[0m\u001b[0;34m\u001b[0m\u001b[0;34m\u001b[0m\u001b[0;34m\u001b[0m\u001b[0m\n\u001b[1;32m    571\u001b[0m         \u001b[0;31m# arguments in memory\u001b[0m\u001b[0;34m\u001b[0m\u001b[0;34m\u001b[0m\u001b[0;34m\u001b[0m\u001b[0m\n\u001b[0;32m--> 572\u001b[0;31m         \u001b[0mself\u001b[0m\u001b[0;34m.\u001b[0m\u001b[0mresults\u001b[0m \u001b[0;34m=\u001b[0m \u001b[0mbatch\u001b[0m\u001b[0;34m(\u001b[0m\u001b[0;34m)\u001b[0m\u001b[0;34m\u001b[0m\u001b[0;34m\u001b[0m\u001b[0m\n\u001b[0m\u001b[1;32m    573\u001b[0m \u001b[0;34m\u001b[0m\u001b[0m\n\u001b[1;32m    574\u001b[0m     \u001b[0;32mdef\u001b[0m \u001b[0mget\u001b[0m\u001b[0;34m(\u001b[0m\u001b[0mself\u001b[0m\u001b[0;34m)\u001b[0m\u001b[0;34m:\u001b[0m\u001b[0;34m\u001b[0m\u001b[0;34m\u001b[0m\u001b[0m\n",
            "\u001b[0;32m/usr/local/lib/python3.6/dist-packages/joblib/parallel.py\u001b[0m in \u001b[0;36m__call__\u001b[0;34m(self)\u001b[0m\n\u001b[1;32m    251\u001b[0m         \u001b[0;32mwith\u001b[0m \u001b[0mparallel_backend\u001b[0m\u001b[0;34m(\u001b[0m\u001b[0mself\u001b[0m\u001b[0;34m.\u001b[0m\u001b[0m_backend\u001b[0m\u001b[0;34m,\u001b[0m \u001b[0mn_jobs\u001b[0m\u001b[0;34m=\u001b[0m\u001b[0mself\u001b[0m\u001b[0;34m.\u001b[0m\u001b[0m_n_jobs\u001b[0m\u001b[0;34m)\u001b[0m\u001b[0;34m:\u001b[0m\u001b[0;34m\u001b[0m\u001b[0;34m\u001b[0m\u001b[0m\n\u001b[1;32m    252\u001b[0m             return [func(*args, **kwargs)\n\u001b[0;32m--> 253\u001b[0;31m                     for func, args, kwargs in self.items]\n\u001b[0m\u001b[1;32m    254\u001b[0m \u001b[0;34m\u001b[0m\u001b[0m\n\u001b[1;32m    255\u001b[0m     \u001b[0;32mdef\u001b[0m \u001b[0m__reduce__\u001b[0m\u001b[0;34m(\u001b[0m\u001b[0mself\u001b[0m\u001b[0;34m)\u001b[0m\u001b[0;34m:\u001b[0m\u001b[0;34m\u001b[0m\u001b[0;34m\u001b[0m\u001b[0m\n",
            "\u001b[0;32m/usr/local/lib/python3.6/dist-packages/joblib/parallel.py\u001b[0m in \u001b[0;36m<listcomp>\u001b[0;34m(.0)\u001b[0m\n\u001b[1;32m    251\u001b[0m         \u001b[0;32mwith\u001b[0m \u001b[0mparallel_backend\u001b[0m\u001b[0;34m(\u001b[0m\u001b[0mself\u001b[0m\u001b[0;34m.\u001b[0m\u001b[0m_backend\u001b[0m\u001b[0;34m,\u001b[0m \u001b[0mn_jobs\u001b[0m\u001b[0;34m=\u001b[0m\u001b[0mself\u001b[0m\u001b[0;34m.\u001b[0m\u001b[0m_n_jobs\u001b[0m\u001b[0;34m)\u001b[0m\u001b[0;34m:\u001b[0m\u001b[0;34m\u001b[0m\u001b[0;34m\u001b[0m\u001b[0m\n\u001b[1;32m    252\u001b[0m             return [func(*args, **kwargs)\n\u001b[0;32m--> 253\u001b[0;31m                     for func, args, kwargs in self.items]\n\u001b[0m\u001b[1;32m    254\u001b[0m \u001b[0;34m\u001b[0m\u001b[0m\n\u001b[1;32m    255\u001b[0m     \u001b[0;32mdef\u001b[0m \u001b[0m__reduce__\u001b[0m\u001b[0;34m(\u001b[0m\u001b[0mself\u001b[0m\u001b[0;34m)\u001b[0m\u001b[0;34m:\u001b[0m\u001b[0;34m\u001b[0m\u001b[0;34m\u001b[0m\u001b[0m\n",
            "\u001b[0;32m/usr/local/lib/python3.6/dist-packages/sklearn/ensemble/_forest.py\u001b[0m in \u001b[0;36m_parallel_build_trees\u001b[0;34m(tree, forest, X, y, sample_weight, tree_idx, n_trees, verbose, class_weight, n_samples_bootstrap)\u001b[0m\n\u001b[1;32m    163\u001b[0m             \u001b[0mcurr_sample_weight\u001b[0m \u001b[0;34m*=\u001b[0m \u001b[0mcompute_sample_weight\u001b[0m\u001b[0;34m(\u001b[0m\u001b[0;34m'balanced'\u001b[0m\u001b[0;34m,\u001b[0m \u001b[0my\u001b[0m\u001b[0;34m,\u001b[0m \u001b[0mindices\u001b[0m\u001b[0;34m)\u001b[0m\u001b[0;34m\u001b[0m\u001b[0;34m\u001b[0m\u001b[0m\n\u001b[1;32m    164\u001b[0m \u001b[0;34m\u001b[0m\u001b[0m\n\u001b[0;32m--> 165\u001b[0;31m         \u001b[0mtree\u001b[0m\u001b[0;34m.\u001b[0m\u001b[0mfit\u001b[0m\u001b[0;34m(\u001b[0m\u001b[0mX\u001b[0m\u001b[0;34m,\u001b[0m \u001b[0my\u001b[0m\u001b[0;34m,\u001b[0m \u001b[0msample_weight\u001b[0m\u001b[0;34m=\u001b[0m\u001b[0mcurr_sample_weight\u001b[0m\u001b[0;34m,\u001b[0m \u001b[0mcheck_input\u001b[0m\u001b[0;34m=\u001b[0m\u001b[0;32mFalse\u001b[0m\u001b[0;34m)\u001b[0m\u001b[0;34m\u001b[0m\u001b[0;34m\u001b[0m\u001b[0m\n\u001b[0m\u001b[1;32m    166\u001b[0m     \u001b[0;32melse\u001b[0m\u001b[0;34m:\u001b[0m\u001b[0;34m\u001b[0m\u001b[0;34m\u001b[0m\u001b[0m\n\u001b[1;32m    167\u001b[0m         \u001b[0mtree\u001b[0m\u001b[0;34m.\u001b[0m\u001b[0mfit\u001b[0m\u001b[0;34m(\u001b[0m\u001b[0mX\u001b[0m\u001b[0;34m,\u001b[0m \u001b[0my\u001b[0m\u001b[0;34m,\u001b[0m \u001b[0msample_weight\u001b[0m\u001b[0;34m=\u001b[0m\u001b[0msample_weight\u001b[0m\u001b[0;34m,\u001b[0m \u001b[0mcheck_input\u001b[0m\u001b[0;34m=\u001b[0m\u001b[0;32mFalse\u001b[0m\u001b[0;34m)\u001b[0m\u001b[0;34m\u001b[0m\u001b[0;34m\u001b[0m\u001b[0m\n",
            "\u001b[0;32m/usr/local/lib/python3.6/dist-packages/sklearn/tree/_classes.py\u001b[0m in \u001b[0;36mfit\u001b[0;34m(self, X, y, sample_weight, check_input, X_idx_sorted)\u001b[0m\n\u001b[1;32m    875\u001b[0m             \u001b[0msample_weight\u001b[0m\u001b[0;34m=\u001b[0m\u001b[0msample_weight\u001b[0m\u001b[0;34m,\u001b[0m\u001b[0;34m\u001b[0m\u001b[0;34m\u001b[0m\u001b[0m\n\u001b[1;32m    876\u001b[0m             \u001b[0mcheck_input\u001b[0m\u001b[0;34m=\u001b[0m\u001b[0mcheck_input\u001b[0m\u001b[0;34m,\u001b[0m\u001b[0;34m\u001b[0m\u001b[0;34m\u001b[0m\u001b[0m\n\u001b[0;32m--> 877\u001b[0;31m             X_idx_sorted=X_idx_sorted)\n\u001b[0m\u001b[1;32m    878\u001b[0m         \u001b[0;32mreturn\u001b[0m \u001b[0mself\u001b[0m\u001b[0;34m\u001b[0m\u001b[0;34m\u001b[0m\u001b[0m\n\u001b[1;32m    879\u001b[0m \u001b[0;34m\u001b[0m\u001b[0m\n",
            "\u001b[0;32m/usr/local/lib/python3.6/dist-packages/sklearn/tree/_classes.py\u001b[0m in \u001b[0;36mfit\u001b[0;34m(self, X, y, sample_weight, check_input, X_idx_sorted)\u001b[0m\n\u001b[1;32m    365\u001b[0m                                            min_impurity_split)\n\u001b[1;32m    366\u001b[0m \u001b[0;34m\u001b[0m\u001b[0m\n\u001b[0;32m--> 367\u001b[0;31m         \u001b[0mbuilder\u001b[0m\u001b[0;34m.\u001b[0m\u001b[0mbuild\u001b[0m\u001b[0;34m(\u001b[0m\u001b[0mself\u001b[0m\u001b[0;34m.\u001b[0m\u001b[0mtree_\u001b[0m\u001b[0;34m,\u001b[0m \u001b[0mX\u001b[0m\u001b[0;34m,\u001b[0m \u001b[0my\u001b[0m\u001b[0;34m,\u001b[0m \u001b[0msample_weight\u001b[0m\u001b[0;34m,\u001b[0m \u001b[0mX_idx_sorted\u001b[0m\u001b[0;34m)\u001b[0m\u001b[0;34m\u001b[0m\u001b[0;34m\u001b[0m\u001b[0m\n\u001b[0m\u001b[1;32m    368\u001b[0m \u001b[0;34m\u001b[0m\u001b[0m\n\u001b[1;32m    369\u001b[0m         \u001b[0;32mif\u001b[0m \u001b[0mself\u001b[0m\u001b[0;34m.\u001b[0m\u001b[0mn_outputs_\u001b[0m \u001b[0;34m==\u001b[0m \u001b[0;36m1\u001b[0m \u001b[0;32mand\u001b[0m \u001b[0mis_classifier\u001b[0m\u001b[0;34m(\u001b[0m\u001b[0mself\u001b[0m\u001b[0;34m)\u001b[0m\u001b[0;34m:\u001b[0m\u001b[0;34m\u001b[0m\u001b[0;34m\u001b[0m\u001b[0m\n",
            "\u001b[0;31mKeyboardInterrupt\u001b[0m: "
          ]
        }
      ]
    },
    {
      "cell_type": "code",
      "metadata": {
        "id": "KgtURb18zJOy",
        "colab": {
          "base_uri": "https://localhost:8080/",
          "height": 102
        },
        "outputId": "dad6f4c6-b12b-4e8d-f36d-95ea229c0e45"
      },
      "source": [
        "# Menggunakan beberapa teknik klasifikasi untuk membandingkan akurasinya\n",
        "# Metode Logistic Regression\n",
        "from sklearn.linear_model import LogisticRegression\n",
        "classifierLR = LogisticRegression(random_state = 0)\n",
        "classifierLR.fit(X_train, y_train)"
      ],
      "execution_count": null,
      "outputs": [
        {
          "output_type": "execute_result",
          "data": {
            "text/plain": [
              "LogisticRegression(C=1.0, class_weight=None, dual=False, fit_intercept=True,\n",
              "                   intercept_scaling=1, l1_ratio=None, max_iter=100,\n",
              "                   multi_class='auto', n_jobs=None, penalty='l2',\n",
              "                   random_state=0, solver='lbfgs', tol=0.0001, verbose=0,\n",
              "                   warm_start=False)"
            ]
          },
          "metadata": {
            "tags": []
          },
          "execution_count": 19
        }
      ]
    },
    {
      "cell_type": "code",
      "metadata": {
        "id": "H-yzxIFqzOXj",
        "colab": {
          "base_uri": "https://localhost:8080/",
          "height": 68
        },
        "outputId": "ebe23d48-d1a5-4d94-f8bf-4831d7ea8c96"
      },
      "source": [
        "# Metode K-nearest Neighbors\n",
        "from sklearn.neighbors import KNeighborsClassifier\n",
        "classifierKNN = KNeighborsClassifier(n_neighbors = 5, metric = 'minkowski', p = 2)\n",
        "classifierKNN.fit(X_train, y_train)"
      ],
      "execution_count": null,
      "outputs": [
        {
          "output_type": "execute_result",
          "data": {
            "text/plain": [
              "KNeighborsClassifier(algorithm='auto', leaf_size=30, metric='minkowski',\n",
              "                     metric_params=None, n_jobs=None, n_neighbors=5, p=2,\n",
              "                     weights='uniform')"
            ]
          },
          "metadata": {
            "tags": []
          },
          "execution_count": 20
        }
      ]
    },
    {
      "cell_type": "code",
      "metadata": {
        "id": "-h3m_MtSzSqZ",
        "colab": {
          "base_uri": "https://localhost:8080/",
          "height": 340
        },
        "outputId": "8cf41875-6dfb-4c75-ef00-67f9eca18786"
      },
      "source": [
        "# Metode SVM\n",
        "from sklearn.svm import SVC\n",
        "classifierSVM = SVC(kernel = 'linear', random_state = 0)\n",
        "classifierSVM.fit(X_train, y_train)"
      ],
      "execution_count": null,
      "outputs": [
        {
          "output_type": "error",
          "ename": "KeyboardInterrupt",
          "evalue": "ignored",
          "traceback": [
            "\u001b[0;31m---------------------------------------------------------------------------\u001b[0m",
            "\u001b[0;31mKeyboardInterrupt\u001b[0m                         Traceback (most recent call last)",
            "\u001b[0;32m<ipython-input-21-322b3505142a>\u001b[0m in \u001b[0;36m<module>\u001b[0;34m()\u001b[0m\n\u001b[1;32m      2\u001b[0m \u001b[0;32mfrom\u001b[0m \u001b[0msklearn\u001b[0m\u001b[0;34m.\u001b[0m\u001b[0msvm\u001b[0m \u001b[0;32mimport\u001b[0m \u001b[0mSVC\u001b[0m\u001b[0;34m\u001b[0m\u001b[0;34m\u001b[0m\u001b[0m\n\u001b[1;32m      3\u001b[0m \u001b[0mclassifierSVM\u001b[0m \u001b[0;34m=\u001b[0m \u001b[0mSVC\u001b[0m\u001b[0;34m(\u001b[0m\u001b[0mkernel\u001b[0m \u001b[0;34m=\u001b[0m \u001b[0;34m'linear'\u001b[0m\u001b[0;34m,\u001b[0m \u001b[0mrandom_state\u001b[0m \u001b[0;34m=\u001b[0m \u001b[0;36m0\u001b[0m\u001b[0;34m)\u001b[0m\u001b[0;34m\u001b[0m\u001b[0;34m\u001b[0m\u001b[0m\n\u001b[0;32m----> 4\u001b[0;31m \u001b[0mclassifierSVM\u001b[0m\u001b[0;34m.\u001b[0m\u001b[0mfit\u001b[0m\u001b[0;34m(\u001b[0m\u001b[0mX_train\u001b[0m\u001b[0;34m,\u001b[0m \u001b[0my_train\u001b[0m\u001b[0;34m)\u001b[0m\u001b[0;34m\u001b[0m\u001b[0;34m\u001b[0m\u001b[0m\n\u001b[0m",
            "\u001b[0;32m/usr/local/lib/python3.6/dist-packages/sklearn/svm/_base.py\u001b[0m in \u001b[0;36mfit\u001b[0;34m(self, X, y, sample_weight)\u001b[0m\n\u001b[1;32m    197\u001b[0m \u001b[0;34m\u001b[0m\u001b[0m\n\u001b[1;32m    198\u001b[0m         \u001b[0mseed\u001b[0m \u001b[0;34m=\u001b[0m \u001b[0mrnd\u001b[0m\u001b[0;34m.\u001b[0m\u001b[0mrandint\u001b[0m\u001b[0;34m(\u001b[0m\u001b[0mnp\u001b[0m\u001b[0;34m.\u001b[0m\u001b[0miinfo\u001b[0m\u001b[0;34m(\u001b[0m\u001b[0;34m'i'\u001b[0m\u001b[0;34m)\u001b[0m\u001b[0;34m.\u001b[0m\u001b[0mmax\u001b[0m\u001b[0;34m)\u001b[0m\u001b[0;34m\u001b[0m\u001b[0;34m\u001b[0m\u001b[0m\n\u001b[0;32m--> 199\u001b[0;31m         \u001b[0mfit\u001b[0m\u001b[0;34m(\u001b[0m\u001b[0mX\u001b[0m\u001b[0;34m,\u001b[0m \u001b[0my\u001b[0m\u001b[0;34m,\u001b[0m \u001b[0msample_weight\u001b[0m\u001b[0;34m,\u001b[0m \u001b[0msolver_type\u001b[0m\u001b[0;34m,\u001b[0m \u001b[0mkernel\u001b[0m\u001b[0;34m,\u001b[0m \u001b[0mrandom_seed\u001b[0m\u001b[0;34m=\u001b[0m\u001b[0mseed\u001b[0m\u001b[0;34m)\u001b[0m\u001b[0;34m\u001b[0m\u001b[0;34m\u001b[0m\u001b[0m\n\u001b[0m\u001b[1;32m    200\u001b[0m         \u001b[0;31m# see comment on the other call to np.iinfo in this file\u001b[0m\u001b[0;34m\u001b[0m\u001b[0;34m\u001b[0m\u001b[0;34m\u001b[0m\u001b[0m\n\u001b[1;32m    201\u001b[0m \u001b[0;34m\u001b[0m\u001b[0m\n",
            "\u001b[0;32m/usr/local/lib/python3.6/dist-packages/sklearn/svm/_base.py\u001b[0m in \u001b[0;36m_dense_fit\u001b[0;34m(self, X, y, sample_weight, solver_type, kernel, random_seed)\u001b[0m\n\u001b[1;32m    256\u001b[0m                 \u001b[0mcache_size\u001b[0m\u001b[0;34m=\u001b[0m\u001b[0mself\u001b[0m\u001b[0;34m.\u001b[0m\u001b[0mcache_size\u001b[0m\u001b[0;34m,\u001b[0m \u001b[0mcoef0\u001b[0m\u001b[0;34m=\u001b[0m\u001b[0mself\u001b[0m\u001b[0;34m.\u001b[0m\u001b[0mcoef0\u001b[0m\u001b[0;34m,\u001b[0m\u001b[0;34m\u001b[0m\u001b[0;34m\u001b[0m\u001b[0m\n\u001b[1;32m    257\u001b[0m                 \u001b[0mgamma\u001b[0m\u001b[0;34m=\u001b[0m\u001b[0mself\u001b[0m\u001b[0;34m.\u001b[0m\u001b[0m_gamma\u001b[0m\u001b[0;34m,\u001b[0m \u001b[0mepsilon\u001b[0m\u001b[0;34m=\u001b[0m\u001b[0mself\u001b[0m\u001b[0;34m.\u001b[0m\u001b[0mepsilon\u001b[0m\u001b[0;34m,\u001b[0m\u001b[0;34m\u001b[0m\u001b[0;34m\u001b[0m\u001b[0m\n\u001b[0;32m--> 258\u001b[0;31m                 max_iter=self.max_iter, random_seed=random_seed)\n\u001b[0m\u001b[1;32m    259\u001b[0m \u001b[0;34m\u001b[0m\u001b[0m\n\u001b[1;32m    260\u001b[0m         \u001b[0mself\u001b[0m\u001b[0;34m.\u001b[0m\u001b[0m_warn_from_fit_status\u001b[0m\u001b[0;34m(\u001b[0m\u001b[0;34m)\u001b[0m\u001b[0;34m\u001b[0m\u001b[0;34m\u001b[0m\u001b[0m\n",
            "\u001b[0;31mKeyboardInterrupt\u001b[0m: "
          ]
        }
      ]
    },
    {
      "cell_type": "code",
      "metadata": {
        "id": "VrAiaWts2J3k",
        "colab": {
          "base_uri": "https://localhost:8080/",
          "height": 34
        },
        "outputId": "710370cb-aea8-4e04-e98b-385c0847430b"
      },
      "source": [
        "# Metode Naive Bayes\n",
        "from sklearn.naive_bayes import GaussianNB\n",
        "classifierNB = GaussianNB()\n",
        "classifierNB.fit(X_train, y_train)"
      ],
      "execution_count": null,
      "outputs": [
        {
          "output_type": "execute_result",
          "data": {
            "text/plain": [
              "GaussianNB(priors=None, var_smoothing=1e-09)"
            ]
          },
          "metadata": {
            "tags": []
          },
          "execution_count": 22
        }
      ]
    },
    {
      "cell_type": "code",
      "metadata": {
        "id": "y3JRHBdL0buz",
        "colab": {
          "base_uri": "https://localhost:8080/",
          "height": 119
        },
        "outputId": "ef983c74-adb3-406f-c6c5-f1f46f987ed7"
      },
      "source": [
        "# Metode Decision Tree\n",
        "from sklearn.tree import DecisionTreeClassifier\n",
        "classifierDT = DecisionTreeClassifier(criterion = 'entropy', random_state = 0)\n",
        "classifierDT.fit(X_train, y_train)"
      ],
      "execution_count": null,
      "outputs": [
        {
          "output_type": "execute_result",
          "data": {
            "text/plain": [
              "DecisionTreeClassifier(ccp_alpha=0.0, class_weight=None, criterion='entropy',\n",
              "                       max_depth=None, max_features=None, max_leaf_nodes=None,\n",
              "                       min_impurity_decrease=0.0, min_impurity_split=None,\n",
              "                       min_samples_leaf=1, min_samples_split=2,\n",
              "                       min_weight_fraction_leaf=0.0, presort='deprecated',\n",
              "                       random_state=0, splitter='best')"
            ]
          },
          "metadata": {
            "tags": []
          },
          "execution_count": 23
        }
      ]
    },
    {
      "cell_type": "code",
      "metadata": {
        "id": "6MPhQyQG0nhF"
      },
      "source": [
        "# Metode Random Forest\n",
        "from sklearn.ensemble import RandomForestClassifier\n",
        "classifierRF = RandomForestClassifier(n_estimators = 500, criterion = 'entropy', random_state = 0)\n",
        "modelRF = classifierRF.fit(X_train, y_train)"
      ],
      "execution_count": null,
      "outputs": []
    },
    {
      "cell_type": "code",
      "metadata": {
        "id": "1jWJcCD9pKpf"
      },
      "source": [
        "y_pred_RF2 = regressor3.predict(X_test)"
      ],
      "execution_count": null,
      "outputs": []
    },
    {
      "cell_type": "code",
      "metadata": {
        "id": "0VmII4EH68lR"
      },
      "source": [
        "# Metode XGBoost\n",
        "import xgboost as xgb # XGBoost stuff\n",
        "clf_xgb = xgb.XGBClassifier(objective='binary:logistic', seed=42)\n",
        "modelXG = clf_xgb.fit(X_train, y_train)"
      ],
      "execution_count": null,
      "outputs": []
    },
    {
      "cell_type": "code",
      "metadata": {
        "id": "sQtJOgR_RieH"
      },
      "source": [
        "# Save the model\n",
        "mod_file = 'classification.model'\n",
        "pickle.dump(modelRF, open(mod_file, 'wb'))"
      ],
      "execution_count": null,
      "outputs": []
    },
    {
      "cell_type": "code",
      "metadata": {
        "id": "ngcwTzyM1Yqc"
      },
      "source": [
        "# Memprediksi hasil Test Set\n",
        "y_pred_LR = classifierLR.predict(X_test)    # logistic Regression\n",
        "y_pred_KNN = classifierKNN.predict(X_test)  # K-nearest Neighbors\n",
        "# y_pred_SVM = classifierSVM.predict(X_test)  # SVM\n",
        "y_pred_NB = classifierNB.predict(X_test)    # Naive Bayes\n",
        "y_pred_DT = classifierDT.predict(X_test)    # Decision Tree\n",
        "y_pred_RF = classifierRF.predict(X_test)    # Random Forest\n",
        "y_pred_XG = clf_xgb.predict(X_test)"
      ],
      "execution_count": null,
      "outputs": []
    },
    {
      "cell_type": "code",
      "metadata": {
        "id": "3tT_YTdD4HjI"
      },
      "source": [
        "import matplotlib.pyplot as plt\n",
        "def plot_confusion_matrix(cm, classes,\n",
        "                          normalize=False,\n",
        "                          title='Confusion matrix',\n",
        "                          cmap=plt.cm.Blues):\n",
        "    \"\"\"\n",
        "    See full source and example: \n",
        "    http://scikit-learn.org/stable/auto_examples/model_selection/plot_confusion_matrix.html\n",
        "    \n",
        "    This function prints and plots the confusion matrix.\n",
        "    Normalization can be applied by setting `normalize=True`.\n",
        "    \"\"\"\n",
        "    plt.imshow(cm, interpolation='nearest', cmap=cmap)\n",
        "    plt.title(title)\n",
        "    plt.colorbar()\n",
        "    tick_marks = np.arange(len(classes))\n",
        "    plt.xticks(tick_marks, classes, rotation=45)\n",
        "    plt.yticks(tick_marks, classes)\n",
        "\n",
        "    if normalize:\n",
        "        cm = cm.astype('float') / cm.sum(axis=1)[:, np.newaxis]\n",
        "        print(\"Normalized confusion matrix\")\n",
        "    else:\n",
        "        print('Confusion matrix, without normalization')\n",
        "\n",
        "    thresh = cm.max() / 2.\n",
        "    for i, j in itertools.product(range(cm.shape[0]), range(cm.shape[1])):\n",
        "        plt.text(j, i, cm[i, j],\n",
        "                 horizontalalignment=\"center\",\n",
        "                 color=\"white\" if cm[i, j] > thresh else \"black\")\n",
        "\n",
        "    plt.tight_layout()\n",
        "    plt.ylabel('True label')\n",
        "    plt.xlabel('Predicted label')"
      ],
      "execution_count": null,
      "outputs": []
    },
    {
      "cell_type": "code",
      "metadata": {
        "id": "tGWlo2BEpO6E"
      },
      "source": [
        "cm_RF2 = confusion_matrix(y_test, y_pred_RF2, labels=[1,0])"
      ],
      "execution_count": null,
      "outputs": []
    },
    {
      "cell_type": "code",
      "metadata": {
        "id": "noH8EZNw3CnB"
      },
      "source": [
        "# Membuat Confusion Matrix\n",
        "from sklearn.metrics import confusion_matrix\n",
        "import itertools\n",
        "cm_LR = confusion_matrix(y_test, y_pred_LR, labels=[1,0])\n",
        "cm_KNN = confusion_matrix(y_test, y_pred_KNN, labels=[1,0])\n",
        "# cm_SVM = confusion_matrix(y_test, y_pred_SVM, labels=[1,0])\n",
        "cm_NB = confusion_matrix(y_test, y_pred_NB, labels=[1,0])\n",
        "cm_DT = confusion_matrix(y_test, y_pred_DT, labels=[1,0])\n",
        "cm_RF = confusion_matrix(y_test, y_pred_RF, labels=[1,0])\n",
        "cm_XG = confusion_matrix(y_test, y_pred_XG, labels=[1,0])"
      ],
      "execution_count": null,
      "outputs": []
    },
    {
      "cell_type": "code",
      "metadata": {
        "id": "Yly6McEj3OPi",
        "colab": {
          "base_uri": "https://localhost:8080/",
          "height": 328
        },
        "outputId": "f66b774a-a47a-4f52-e00c-3b98f61db7ac"
      },
      "source": [
        "plot_confusion_matrix(cm_XG, classes=[1,0])"
      ],
      "execution_count": null,
      "outputs": [
        {
          "output_type": "stream",
          "text": [
            "Confusion matrix, without normalization\n"
          ],
          "name": "stdout"
        },
        {
          "output_type": "display_data",
          "data": {
            "image/png": "[encoded data removed]",
            "text/plain": [
              "<Figure size 432x288 with 2 Axes>"
            ]
          },
          "metadata": {
            "tags": [],
            "needs_background": "light"
          }
        }
      ]
    },
    {
      "cell_type": "code",
      "metadata": {
        "id": "mTSQZARRc2pH",
        "colab": {
          "base_uri": "https://localhost:8080/",
          "height": 328
        },
        "outputId": "fd2493f7-0df4-4ee4-ec60-44fb562b76e1"
      },
      "source": [
        "plot_confusion_matrix(cm_RF, classes=[1,0])"
      ],
      "execution_count": null,
      "outputs": [
        {
          "output_type": "stream",
          "text": [
            "Confusion matrix, without normalization\n"
          ],
          "name": "stdout"
        },
        {
          "output_type": "display_data",
          "data": {
            "image/png": "[encoded data removed]",
            "text/plain": [
              "<Figure size 432x288 with 2 Axes>"
            ]
          },
          "metadata": {
            "tags": [],
            "needs_background": "light"
          }
        }
      ]
    },
    {
      "cell_type": "code",
      "metadata": {
        "id": "tdktaJCapZkx",
        "colab": {
          "base_uri": "https://localhost:8080/",
          "height": 35
        },
        "outputId": "c8bcb564-10b1-4d44-f0d0-67eff0866b4e"
      },
      "source": [
        "akurasi_RF2 = ((cm_RF2[0][0]+cm_RF2[1][1])/(cm_RF2[0][0]+cm_RF2[1][1]+cm_RF2[0][1]+cm_RF2[1][0]))*100\n",
        "print('RF2 ', akurasi_RF2)"
      ],
      "execution_count": null,
      "outputs": [
        {
          "output_type": "stream",
          "text": [
            "RF2  81.93624557260921\n"
          ],
          "name": "stdout"
        }
      ]
    },
    {
      "cell_type": "code",
      "metadata": {
        "id": "DLMTs1xX3KJ3",
        "colab": {
          "base_uri": "https://localhost:8080/",
          "height": 119
        },
        "outputId": "0f99ad86-9e98-4846-dc8b-5d3282a47e20"
      },
      "source": [
        "# Menilai akurasi masing-masing metode\n",
        "akurasi_LR = ((cm_LR[0][0]+cm_LR[1][1])/(cm_LR[0][0]+cm_LR[1][1]+cm_LR[0][1]+cm_LR[1][0]))*100\n",
        "akurasi_KNN = ((cm_KNN[0][0]+cm_KNN[1][1])/(cm_KNN[0][0]+cm_KNN[1][1]+cm_KNN[0][1]+cm_KNN[1][0]))*100\n",
        "# akurasi_SVM = ((cm_SVM[0][0]+cm_SVM[1][1])/(cm_SVM[0][0]+cm_SVM[1][1]+cm_SVM[0][1]+cm_SVM[1][0]))*100\n",
        "akurasi_NB = ((cm_NB[0][0]+cm_NB[1][1])/(cm_NB[0][0]+cm_NB[1][1]+cm_NB[0][1]+cm_NB[1][0]))*100\n",
        "akurasi_DT = ((cm_DT[0][0]+cm_DT[1][1])/(cm_DT[0][0]+cm_DT[1][1]+cm_DT[0][1]+cm_DT[1][0]))*100\n",
        "akurasi_RF = ((cm_RF[0][0]+cm_RF[1][1])/(cm_RF[0][0]+cm_RF[1][1]+cm_RF[0][1]+cm_RF[1][0]))*100\n",
        "akurasi_XG = ((cm_XG[0][0]+cm_XG[1][1])/(cm_XG[0][0]+cm_XG[1][1]+cm_XG[0][1]+cm_XG[1][0]))*100\n",
        "\n",
        "print('LR ', akurasi_LR)\n",
        "print('KNN ', akurasi_KNN)\n",
        "# print('SVM ', akurasi_SVM)\n",
        "print('NB ', akurasi_NB)\n",
        "print('DT ', akurasi_DT)\n",
        "print('RF ', akurasi_RF)\n",
        "print('XG ', akurasi_XG)"
      ],
      "execution_count": null,
      "outputs": [
        {
          "output_type": "stream",
          "text": [
            "LR  82.52656434474616\n",
            "KNN  82.0543093270366\n",
            "NB  75.5608028335301\n",
            "DT  79.92916174734357\n",
            "RF  84.17945690672963\n",
            "XG  84.17945690672963\n"
          ],
          "name": "stdout"
        }
      ]
    },
    {
      "cell_type": "code",
      "metadata": {
        "id": "_58Ux7kf3Srt"
      },
      "source": [
        "akurasi_RF"
      ],
      "execution_count": null,
      "outputs": []
    },
    {
      "cell_type": "markdown",
      "metadata": {
        "id": "CvXtnAG34dE7"
      },
      "source": [
        "## DATA UJI PREDICT"
      ]
    },
    {
      "cell_type": "code",
      "metadata": {
        "id": "gTcTH7fYNnhz",
        "colab": {
          "resources": {
            "http://localhost:8080/nbextensions/google.colab/files.js": {
              "data": "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",
              "ok": true,
              "headers": [
                [
                  "content-type",
                  "application/javascript"
                ]
              ],
              "status": 200,
              "status_text": ""
            }
          },
          "base_uri": "https://localhost:8080/",
          "height": 72
        },
        "outputId": "b613e9df-a715-4098-e17c-5b63fe535497"
      },
      "source": [
        "from google.colab import files\n",
        "uploaded = files.upload()"
      ],
      "execution_count": null,
      "outputs": [
        {
          "output_type": "display_data",
          "data": {
            "text/html": [
              "\n",
              "     <input type=\"file\" id=\"files-4281eb14-bc2d-483e-8fe7-a9145827ec90\" name=\"files[]\" multiple disabled\n",
              "        style=\"border:none\" />\n",
              "     <output id=\"result-4281eb14-bc2d-483e-8fe7-a9145827ec90\">\n",
              "      Upload widget is only available when the cell has been executed in the\n",
              "      current browser session. Please rerun this cell to enable.\n",
              "      </output>\n",
              "      <script src=\"/nbextensions/google.colab/files.js\"></script> "
            ],
            "text/plain": [
              "<IPython.core.display.HTML object>"
            ]
          },
          "metadata": {
            "tags": []
          }
        },
        {
          "output_type": "stream",
          "text": [
            "Saving Data Uji BDC.xlsx to Data Uji BDC.xlsx\n"
          ],
          "name": "stdout"
        }
      ]
    },
    {
      "cell_type": "code",
      "metadata": {
        "id": "efYySHKmNtP2"
      },
      "source": [
        "import io\n",
        "uji = pd.read_excel(io.BytesIO(uploaded['Data Uji BDC.xlsx']),usecols=['judul','narasi'],encoding='ISO-8859-1')\n",
        "# Dataset is now stored in a Pandas Dataframe"
      ],
      "execution_count": null,
      "outputs": []
    },
    {
      "cell_type": "code",
      "metadata": {
        "id": "OsnBHVTwNv_C"
      },
      "source": [
        "uji['text'] = uji['judul'] + \" \" + uji['narasi']\n",
        "uji = uji.drop(columns = ['judul', 'narasi'])\n",
        "# df = df.loc[~df['text'].isna()]"
      ],
      "execution_count": null,
      "outputs": []
    },
    {
      "cell_type": "code",
      "metadata": {
        "id": "3ZB1VmdqN7WN",
        "colab": {
          "base_uri": "https://localhost:8080/",
          "height": 51
        },
        "outputId": "95e3f2f3-abeb-486d-9a00-666cb0b38f51"
      },
      "source": [
        "import re\n",
        "import nltk\n",
        "nltk.download('stopwords')\n",
        "from nltk.corpus import stopwords\n",
        "from nltk.stem.porter import PorterStemmer\n",
        "corpus_uji = []\n",
        "for i in range(0, len(uji)):\n",
        "    datauji = re.sub('[^a-zA-Z]', ' ', uji['text'][i])\n",
        "    datauji = datauji.lower()\n",
        "    datauji = datauji.split()\n",
        "    ps = PorterStemmer()\n",
        "    datauji = [ps.stem(word) for word in datauji if not word in inggris]\n",
        "    datauji = [ps.stem(word) for word in datauji if not word in indo]\n",
        "    datauji = ' '.join(datauji)\n",
        "    corpus_uji.append(datauji)"
      ],
      "execution_count": null,
      "outputs": [
        {
          "output_type": "stream",
          "text": [
            "[nltk_data] Downloading package stopwords to /root/nltk_data...\n",
            "[nltk_data]   Package stopwords is already up-to-date!\n"
          ],
          "name": "stdout"
        }
      ]
    },
    {
      "cell_type": "code",
      "metadata": {
        "id": "ozIcA5_LSThi"
      },
      "source": [
        "# load the vectorizer\n",
        "loaded_vectorizer = pickle.load(open('vectorizer.pickle', 'rb'))\n",
        "\n",
        "# load the model\n",
        "loaded_model = pickle.load(open('classification.model', 'rb'))\n",
        "\n",
        "# make a prediction\n",
        "#print(loaded_model.predict(loaded_vectorizer.transform([utt])))"
      ],
      "execution_count": null,
      "outputs": []
    },
    {
      "cell_type": "code",
      "metadata": {
        "id": "RtjlIau9TeGm"
      },
      "source": [
        "X_test = loaded_vectorizer.transform(corpus_uji)"
      ],
      "execution_count": null,
      "outputs": []
    },
    {
      "cell_type": "code",
      "metadata": {
        "id": "q6DsJputT8FG"
      },
      "source": [
        "predRF = loaded_model.predict(X_test)"
      ],
      "execution_count": null,
      "outputs": []
    },
    {
      "cell_type": "code",
      "metadata": {
        "id": "9efAV9_zUDtb",
        "colab": {
          "base_uri": "https://localhost:8080/",
          "height": 391
        },
        "outputId": "28083d6d-5dc9-4955-8246-bad499de438c"
      },
      "source": [
        "predRF"
      ],
      "execution_count": null,
      "outputs": [
        {
          "output_type": "execute_result",
          "data": {
            "text/plain": [
              "array([1, 1, 1, 1, 1, 1, 1, 1, 1, 1, 1, 1, 1, 1, 1, 1, 1, 0, 1, 1, 1, 1,\n",
              "       1, 1, 1, 1, 1, 1, 1, 1, 1, 1, 1, 1, 1, 1, 1, 1, 1, 1, 1, 1, 1, 1,\n",
              "       1, 1, 1, 1, 1, 1, 1, 1, 1, 0, 1, 1, 1, 1, 1, 1, 1, 1, 1, 1, 1, 1,\n",
              "       0, 1, 1, 1, 1, 1, 1, 1, 1, 1, 1, 1, 1, 1, 1, 1, 1, 1, 1, 1, 1, 1,\n",
              "       1, 1, 1, 1, 1, 1, 1, 1, 0, 1, 1, 1, 1, 1, 1, 0, 1, 1, 1, 1, 1, 1,\n",
              "       1, 1, 1, 1, 1, 1, 1, 1, 1, 1, 1, 1, 1, 1, 1, 1, 0, 1, 1, 1, 1, 1,\n",
              "       1, 1, 1, 1, 1, 1, 1, 1, 1, 1, 1, 1, 1, 1, 1, 1, 1, 1, 1, 1, 1, 1,\n",
              "       0, 1, 1, 1, 1, 1, 1, 1, 1, 1, 1, 0, 1, 1, 1, 1, 1, 1, 0, 1, 1, 1,\n",
              "       1, 1, 1, 1, 1, 1, 1, 1, 1, 1, 1, 1, 0, 1, 1, 1, 1, 1, 1, 1, 1, 1,\n",
              "       1, 1, 1, 0, 1, 1, 1, 1, 1, 0, 0, 1, 1, 1, 0, 1, 1, 1, 1, 1, 1, 1,\n",
              "       1, 1, 1, 1, 1, 1, 1, 1, 0, 0, 1, 1, 1, 0, 1, 1, 1, 1, 1, 1, 0, 1,\n",
              "       0, 1, 1, 1, 1, 1, 1, 1, 1, 1, 1, 1, 1, 1, 1, 1, 1, 1, 1, 1, 1, 1,\n",
              "       1, 1, 1, 1, 1, 1, 1, 0, 1, 1, 1, 1, 1, 1, 1, 1, 1, 1, 1, 1, 1, 1,\n",
              "       1, 1, 1, 1, 1, 1, 0, 1, 1, 1, 1, 1, 0, 1, 1, 1, 1, 1, 1, 1, 1, 1,\n",
              "       1, 1, 1, 1, 1, 1, 1, 1, 1, 1, 1, 1, 0, 1, 1, 1, 1, 1, 1, 1, 1, 1,\n",
              "       0, 1, 1, 1, 1, 1, 1, 0, 0, 1, 1, 1, 1, 1, 1, 1, 1, 1, 1, 1, 1, 0,\n",
              "       1, 1, 1, 1, 1, 1, 1, 1, 1, 1, 1, 1, 1, 1, 1, 1, 1, 1, 1, 1, 1, 1,\n",
              "       1, 1, 1, 1, 1, 1, 1, 1, 1, 1, 1, 1, 1, 1, 1, 1, 0, 1, 1, 1, 1, 1,\n",
              "       1, 1, 1, 1, 1, 1, 1, 1, 1, 1, 1, 1, 1, 0, 1, 1, 1, 1, 1, 1, 1, 1,\n",
              "       1, 1, 1, 1, 1, 1, 1, 1, 1, 1, 1, 1, 1, 1, 1, 1, 1, 1, 1, 1, 1, 1,\n",
              "       1, 1, 1, 1, 0, 1, 1, 0, 1, 0, 1, 1, 1, 1, 1, 1, 1, 0, 1, 1, 1, 1,\n",
              "       1, 1, 1, 1, 1, 1, 0, 1])"
            ]
          },
          "metadata": {
            "tags": []
          },
          "execution_count": 77
        }
      ]
    },
    {
      "cell_type": "code",
      "metadata": {
        "id": "zE6bwWMgUIer",
        "colab": {
          "base_uri": "https://localhost:8080/",
          "height": 34
        },
        "outputId": "72199bbb-d56e-4dae-91a2-b9006243a400"
      },
      "source": [
        "len(predXG)-sum(predXG)"
      ],
      "execution_count": null,
      "outputs": [
        {
          "output_type": "execute_result",
          "data": {
            "text/plain": [
              "34"
            ]
          },
          "metadata": {
            "tags": []
          },
          "execution_count": 78
        }
      ]
    },
    {
      "cell_type": "code",
      "metadata": {
        "id": "pHf-GXiaUvPc",
        "colab": {
          "base_uri": "https://localhost:8080/",
          "height": 34
        },
        "outputId": "0dfb33e7-72ac-427c-f52e-63f82d31fafd"
      },
      "source": [
        "predXG[468]"
      ],
      "execution_count": null,
      "outputs": [
        {
          "output_type": "execute_result",
          "data": {
            "text/plain": [
              "0"
            ]
          },
          "metadata": {
            "tags": []
          },
          "execution_count": 61
        }
      ]
    },
    {
      "cell_type": "code",
      "metadata": {
        "id": "R892RgwnK07d",
        "colab": {
          "base_uri": "https://localhost:8080/",
          "height": 35
        },
        "outputId": "50b4f46a-309a-4a6e-a124-97e3e2dd87ec"
      },
      "source": [
        "X_uji.shape"
      ],
      "execution_count": null,
      "outputs": [
        {
          "output_type": "execute_result",
          "data": {
            "text/plain": [
              "(470, 19570)"
            ]
          },
          "metadata": {
            "tags": []
          },
          "execution_count": 37
        }
      ]
    },
    {
      "cell_type": "code",
      "metadata": {
        "id": "y5kRSAE_6Dxg"
      },
      "source": [
        "y_pred_RF2 = regressor3.predict(X_uji) "
      ],
      "execution_count": null,
      "outputs": []
    },
    {
      "cell_type": "code",
      "metadata": {
        "id": "JwcGiex_PKRU",
        "colab": {
          "base_uri": "https://localhost:8080/",
          "height": 515
        },
        "outputId": "0327e065-3fae-4b2e-af5b-55e0fcbe85ab"
      },
      "source": [
        "y_pred_RF2"
      ],
      "execution_count": null,
      "outputs": [
        {
          "output_type": "execute_result",
          "data": {
            "text/plain": [
              "array([1., 1., 1., 1., 1., 1., 1., 1., 1., 1., 1., 1., 1., 1., 1., 1., 1.,\n",
              "       1., 1., 1., 1., 1., 1., 1., 1., 1., 1., 1., 1., 1., 1., 1., 1., 1.,\n",
              "       1., 1., 1., 1., 1., 1., 1., 1., 1., 1., 1., 1., 1., 1., 1., 1., 1.,\n",
              "       1., 1., 1., 1., 1., 1., 1., 1., 1., 1., 1., 1., 1., 1., 1., 1., 1.,\n",
              "       1., 1., 1., 1., 1., 1., 1., 1., 1., 1., 1., 1., 1., 1., 1., 1., 1.,\n",
              "       1., 1., 1., 1., 1., 1., 1., 1., 1., 1., 1., 1., 1., 1., 1., 1., 1.,\n",
              "       1., 1., 1., 1., 1., 1., 1., 1., 1., 1., 1., 1., 1., 1., 1., 1., 1.,\n",
              "       1., 1., 1., 1., 1., 1., 1., 1., 1., 1., 1., 1., 1., 1., 1., 1., 1.,\n",
              "       1., 1., 1., 1., 1., 1., 1., 1., 1., 1., 1., 1., 1., 1., 1., 1., 1.,\n",
              "       1., 1., 1., 1., 1., 1., 1., 1., 1., 1., 1., 1., 1., 1., 1., 1., 1.,\n",
              "       1., 1., 1., 1., 1., 1., 1., 1., 1., 1., 1., 1., 1., 1., 1., 1., 1.,\n",
              "       1., 1., 1., 1., 1., 1., 1., 1., 1., 1., 1., 1., 1., 1., 1., 1., 1.,\n",
              "       1., 1., 1., 1., 1., 1., 1., 1., 1., 1., 1., 1., 1., 1., 1., 1., 1.,\n",
              "       1., 1., 1., 1., 1., 1., 1., 1., 1., 1., 1., 1., 1., 1., 1., 1., 1.,\n",
              "       1., 1., 1., 1., 1., 1., 1., 1., 1., 1., 1., 1., 1., 1., 1., 1., 1.,\n",
              "       1., 1., 1., 1., 1., 1., 1., 1., 1., 1., 1., 1., 1., 1., 1., 1., 1.,\n",
              "       1., 1., 1., 1., 1., 1., 1., 1., 1., 1., 1., 1., 1., 1., 1., 1., 1.,\n",
              "       1., 1., 1., 1., 1., 1., 1., 1., 1., 1., 1., 1., 1., 1., 1., 1., 1.,\n",
              "       1., 1., 1., 1., 1., 1., 1., 1., 1., 1., 1., 1., 1., 1., 1., 1., 1.,\n",
              "       1., 1., 1., 1., 1., 1., 1., 1., 1., 1., 1., 1., 1., 1., 1., 1., 1.,\n",
              "       1., 1., 1., 1., 1., 1., 1., 1., 1., 1., 1., 1., 1., 1., 1., 1., 1.,\n",
              "       1., 1., 1., 1., 1., 1., 1., 1., 1., 1., 1., 1., 1., 1., 1., 1., 1.,\n",
              "       1., 1., 1., 1., 1., 1., 1., 1., 1., 1., 1., 1., 1., 1., 1., 1., 1.,\n",
              "       1., 1., 1., 1., 1., 1., 1., 1., 1., 1., 1., 1., 1., 1., 1., 1., 1.,\n",
              "       1., 1., 1., 1., 1., 1., 1., 1., 1., 1., 1., 1., 1., 1., 1., 1., 1.,\n",
              "       1., 1., 1., 1., 1., 1., 1., 1., 1., 1., 1., 1., 1., 1., 1., 1., 1.,\n",
              "       1., 1., 1., 1., 1., 1., 1., 1., 1., 1., 1., 1., 1., 1., 1., 1., 1.,\n",
              "       1., 1., 1., 1., 1., 1., 1., 1., 1., 1., 1.])"
            ]
          },
          "metadata": {
            "tags": []
          },
          "execution_count": 114
        }
      ]
    },
    {
      "cell_type": "code",
      "metadata": {
        "id": "5HOdeJ2RXPQl",
        "colab": {
          "base_uri": "https://localhost:8080/",
          "height": 35
        },
        "outputId": "21767a36-665c-4523-ba5a-aee5546611bd"
      },
      "source": [
        "y_pred_RF.shape"
      ],
      "execution_count": null,
      "outputs": [
        {
          "output_type": "execute_result",
          "data": {
            "text/plain": [
              "(470,)"
            ]
          },
          "metadata": {
            "tags": []
          },
          "execution_count": 43
        }
      ]
    },
    {
      "cell_type": "code",
      "metadata": {
        "id": "MvsSZgEtW4Yq"
      },
      "source": [
        "ID = pd.read_excel(io.BytesIO(uploaded['Data Uji BDC.xlsx']),usecols=['ID'],encoding='ISO-8859-1')"
      ],
      "execution_count": null,
      "outputs": []
    },
    {
      "cell_type": "code",
      "metadata": {
        "id": "qsc4WbLGXLQi",
        "colab": {
          "base_uri": "https://localhost:8080/",
          "height": 200
        },
        "outputId": "844c149a-ff73-456f-e490-6e22be20c1bb"
      },
      "source": [
        "ID.head()"
      ],
      "execution_count": null,
      "outputs": [
        {
          "output_type": "execute_result",
          "data": {
            "text/html": [
              "<div>\n",
              "<style scoped>\n",
              "    .dataframe tbody tr th:only-of-type {\n",
              "        vertical-align: middle;\n",
              "    }\n",
              "\n",
              "    .dataframe tbody tr th {\n",
              "        vertical-align: top;\n",
              "    }\n",
              "\n",
              "    .dataframe thead th {\n",
              "        text-align: right;\n",
              "    }\n",
              "</style>\n",
              "<table border=\"1\" class=\"dataframe\">\n",
              "  <thead>\n",
              "    <tr style=\"text-align: right;\">\n",
              "      <th></th>\n",
              "      <th>ID</th>\n",
              "    </tr>\n",
              "  </thead>\n",
              "  <tbody>\n",
              "    <tr>\n",
              "      <th>0</th>\n",
              "      <td>238057</td>\n",
              "    </tr>\n",
              "    <tr>\n",
              "      <th>1</th>\n",
              "      <td>238158</td>\n",
              "    </tr>\n",
              "    <tr>\n",
              "      <th>2</th>\n",
              "      <td>238865</td>\n",
              "    </tr>\n",
              "    <tr>\n",
              "      <th>3</th>\n",
              "      <td>248298</td>\n",
              "    </tr>\n",
              "    <tr>\n",
              "      <th>4</th>\n",
              "      <td>255176</td>\n",
              "    </tr>\n",
              "  </tbody>\n",
              "</table>\n",
              "</div>"
            ],
            "text/plain": [
              "       ID\n",
              "0  238057\n",
              "1  238158\n",
              "2  238865\n",
              "3  248298\n",
              "4  255176"
            ]
          },
          "metadata": {
            "tags": []
          },
          "execution_count": 42
        }
      ]
    },
    {
      "cell_type": "code",
      "metadata": {
        "id": "duSRR4WtXaQs"
      },
      "source": [
        "predictionn = pd.DataFrame({'ID':ID['ID'], 'prediksi':predRF})"
      ],
      "execution_count": null,
      "outputs": []
    },
    {
      "cell_type": "code",
      "metadata": {
        "id": "P9sWGFeTXjso",
        "colab": {
          "base_uri": "https://localhost:8080/",
          "height": 200
        },
        "outputId": "186a8b55-9366-4b6d-c8c5-bb0a304ce199"
      },
      "source": [
        "prediction.tail()"
      ],
      "execution_count": null,
      "outputs": [
        {
          "output_type": "execute_result",
          "data": {
            "text/html": [
              "<div>\n",
              "<style scoped>\n",
              "    .dataframe tbody tr th:only-of-type {\n",
              "        vertical-align: middle;\n",
              "    }\n",
              "\n",
              "    .dataframe tbody tr th {\n",
              "        vertical-align: top;\n",
              "    }\n",
              "\n",
              "    .dataframe thead th {\n",
              "        text-align: right;\n",
              "    }\n",
              "</style>\n",
              "<table border=\"1\" class=\"dataframe\">\n",
              "  <thead>\n",
              "    <tr style=\"text-align: right;\">\n",
              "      <th></th>\n",
              "      <th>ID</th>\n",
              "      <th>prediksi</th>\n",
              "    </tr>\n",
              "  </thead>\n",
              "  <tbody>\n",
              "    <tr>\n",
              "      <th>465</th>\n",
              "      <td>206021</td>\n",
              "      <td>1.0</td>\n",
              "    </tr>\n",
              "    <tr>\n",
              "      <th>466</th>\n",
              "      <td>219874</td>\n",
              "      <td>1.0</td>\n",
              "    </tr>\n",
              "    <tr>\n",
              "      <th>467</th>\n",
              "      <td>222802</td>\n",
              "      <td>1.0</td>\n",
              "    </tr>\n",
              "    <tr>\n",
              "      <th>468</th>\n",
              "      <td>226020</td>\n",
              "      <td>0.0</td>\n",
              "    </tr>\n",
              "    <tr>\n",
              "      <th>469</th>\n",
              "      <td>232887</td>\n",
              "      <td>1.0</td>\n",
              "    </tr>\n",
              "  </tbody>\n",
              "</table>\n",
              "</div>"
            ],
            "text/plain": [
              "         ID  prediksi\n",
              "465  206021       1.0\n",
              "466  219874       1.0\n",
              "467  222802       1.0\n",
              "468  226020       0.0\n",
              "469  232887       1.0"
            ]
          },
          "metadata": {
            "tags": []
          },
          "execution_count": 62
        }
      ]
    },
    {
      "cell_type": "code",
      "metadata": {
        "id": "STTStnUZXqvh"
      },
      "source": [
        "predictionn['prediksi']=predictionn['prediksi'].astype(int)"
      ],
      "execution_count": null,
      "outputs": []
    },
    {
      "cell_type": "code",
      "metadata": {
        "id": "bLhAalQEXzgF",
        "colab": {
          "base_uri": "https://localhost:8080/",
          "height": 68
        },
        "outputId": "2478392f-a9e6-45c2-c8dc-86f11638e629"
      },
      "source": [
        "predictionn['prediksi'].value_counts()"
      ],
      "execution_count": null,
      "outputs": [
        {
          "output_type": "execute_result",
          "data": {
            "text/plain": [
              "1    436\n",
              "0     34\n",
              "Name: prediksi, dtype: int64"
            ]
          },
          "metadata": {
            "tags": []
          },
          "execution_count": 81
        }
      ]
    },
    {
      "cell_type": "code",
      "metadata": {
        "id": "GyLzL0JiYSwP"
      },
      "source": [
        "from google.colab import  drive"
      ],
      "execution_count": null,
      "outputs": []
    },
    {
      "cell_type": "code",
      "metadata": {
        "id": "bZZvby8kYWde",
        "colab": {
          "base_uri": "https://localhost:8080/",
          "height": 34
        },
        "outputId": "2db9a9e3-b62d-4354-bb15-f7542ec7882f"
      },
      "source": [
        "drive.mount('/drive')"
      ],
      "execution_count": null,
      "outputs": [
        {
          "output_type": "stream",
          "text": [
            "Mounted at /drive\n"
          ],
          "name": "stdout"
        }
      ]
    },
    {
      "cell_type": "code",
      "metadata": {
        "id": "SxMAmxuuYgsC"
      },
      "source": [
        "predictionn.to_csv('/drive/My Drive/predictionnRF.csv')"
      ],
      "execution_count": null,
      "outputs": []
    }
  ]
}